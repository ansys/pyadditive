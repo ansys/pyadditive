{
  "cells": [
    {
      "cell_type": "markdown",
      "metadata": {},
      "source": [
        "# Custom material tuning\n\nThis example shows how you can tune a custom material for use with\nPyAdditive. For background information and file formats, see [Material\nTuning Tool (Beta) to Create User Defined\nMaterials](https://ansyshelp.ansys.com/account/secured?returnurl=/Views/Secured/corp/v232/en/add_beta/add_science_BETA_material_tuning_tool.html?q=material%20tuning%20tool)\nin the *Additive Manufacturing Beta Features* documentation. To prevent\nwasted time, before executing this example, carefully review the steps\ndescribed in this PyAdditive documentation.\n\nUnits are SI (m, kg, s, K) unless otherwise noted.\n"
      ]
    },
    {
      "cell_type": "markdown",
      "metadata": {},
      "source": [
        "# Perform required import and connect\n\nPerform the required import and connect to the Additive service.\n"
      ]
    },
    {
      "cell_type": "code",
      "execution_count": null,
      "metadata": {
        "collapsed": false
      },
      "outputs": [],
      "source": [
        "from ansys.additive.core import Additive, MaterialTuningInput\n\nadditive = Additive()"
      ]
    },
    {
      "cell_type": "markdown",
      "metadata": {},
      "source": [
        "# Specify tuning inputs\n\nThe `MaterialTuningInput`{.interpreted-text role=\"class\"} object\ncontains the paths to the files needed to tune a material. The\n`experiment_data_file` file is a CSV file containing the results of\nsingle bead experiments. The `material_configuration_file` file is a\nJSON file containing the material parameters. The\n`thermal_properties_lookup_file` file is a CSV file containing the\ntemperature-dependent properties of the material. The\n`characteristic_width_lookup_file` file is an optional CSV file\ncontaining the melt pool characteristic width at various laser powers\nand scan speeds. If the characteristic width lookup file is not\nspecified, it is generated during the tuning process.\n"
      ]
    },
    {
      "cell_type": "code",
      "execution_count": null,
      "metadata": {
        "collapsed": false
      },
      "outputs": [],
      "source": [
        "# Download the example input files.\n\nimport ansys.additive.core.examples as examples\n\ninput_files = examples.download_material_tuning_input()\n\n# This code includes the characteristic width lookup file to reduce\n# processing time. If a characteristic width lookup file is not available,\n# the field can be omitted when creating the MaterialTuningInput object.\n\ninput = MaterialTuningInput(\n    id=\"custom-material-tuning\",\n    experiment_data_file=input_files.experiment_data_file,\n    material_configuration_file=input_files.material_configuration_file,\n    thermal_properties_lookup_file=input_files.thermal_properties_lookup_file,\n    characteristic_width_lookup_file=input_files.characteristic_width_lookup_file,\n    allowable_error=0.05,  # allowable difference, as a ratio, between experimental and simulated results\n    max_iterations=10,  # maximum number of simulation iterations to perform\n    base_plate_temperature=353.15,  # only used when calculating the characteristic width\n)"
      ]
    },
    {
      "cell_type": "markdown",
      "metadata": {},
      "source": [
        "# Perform material tuning\n\nUse the `~Additive.tune_material`{.interpreted-text role=\"meth\"} method\nto perform material tuning.\n"
      ]
    },
    {
      "cell_type": "code",
      "execution_count": null,
      "metadata": {
        "collapsed": false
      },
      "outputs": [],
      "source": [
        "summary = additive.tune_material(input)"
      ]
    },
    {
      "cell_type": "markdown",
      "metadata": {},
      "source": [
        "# Review results\n\nThe `MaterialTuningSummary`{.interpreted-text role=\"class\"} object\ncontains the results of the material tuning process. These results are\nused in follow-on steps to calculate the material parameters needed by\nPyAdditive. For more information, see the Additive documentation\nreferred to earlier.\n"
      ]
    },
    {
      "cell_type": "code",
      "execution_count": null,
      "metadata": {
        "collapsed": false
      },
      "outputs": [],
      "source": [
        "print(summary)"
      ]
    }
  ],
  "metadata": {
    "kernelspec": {
      "display_name": "Python 3",
      "language": "python",
      "name": "python3"
    },
    "language_info": {
      "codemirror_mode": {
        "name": "ipython",
        "version": 3
      },
      "file_extension": ".py",
      "mimetype": "text/x-python",
      "name": "python",
      "nbconvert_exporter": "python",
      "pygments_lexer": "ipython3",
      "version": "3.10.16"
    }
  },
  "nbformat": 4,
  "nbformat_minor": 0
}