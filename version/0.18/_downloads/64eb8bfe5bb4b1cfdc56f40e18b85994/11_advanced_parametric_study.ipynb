{
  "cells": [
    {
      "cell_type": "markdown",
      "metadata": {},
      "source": [
        "Parametric study\n================\n\nThis example shows how to use PyAdditive to perform a parametric study.\nYou perform a parametric study if you want to optimize additive machine\nparameters to achieve a specific result. Here, the\n`ParametricStudy`{.interpreted-text role=\"class\"} class is used to\nconduct a parametric study. While not essential, the\n`ParametricStudy`{.interpreted-text role=\"class\"} class provides data\nmanagement features that make the work easier. Also, the\n`ansys.additive.widgets` package can be used to create interactive\nvisualizations for of parametric study results. An example is available\nat [Parametric Study\nExample](https://widgets.additive.docs.pyansys.com/version/stable/examples/gallery_examples).\n\nUnits are SI (m, kg, s, K) unless otherwise noted.\n"
      ]
    },
    {
      "cell_type": "markdown",
      "metadata": {},
      "source": [
        "Perform required imports and create a study\n===========================================\n\nPerform the required import and create a\n`ParametricStudy`{.interpreted-text role=\"class\"} instance.\n"
      ]
    },
    {
      "cell_type": "code",
      "execution_count": null,
      "metadata": {
        "collapsed": false
      },
      "outputs": [],
      "source": [
        "import numpy as np\nimport pandas as pd\n\nfrom ansys.additive.core import Additive, SimulationStatus, SimulationType\nfrom ansys.additive.core.parametric_study import ColumnNames, ParametricStudy\n\nstudy = ParametricStudy(\"demo-study\")"
      ]
    },
    {
      "cell_type": "markdown",
      "metadata": {},
      "source": [
        "Get the study file name\n=======================\n\nThe current state of the parametric study is saved to a file upon each\nupdate. You can retrieve the name of the file as shown below. This file\nuses a binary format and is not human readable.\n"
      ]
    },
    {
      "cell_type": "code",
      "execution_count": null,
      "metadata": {
        "collapsed": false
      },
      "outputs": [],
      "source": [
        "print(study.file_name)"
      ]
    },
    {
      "cell_type": "markdown",
      "metadata": {},
      "source": [
        "Select a material for the study\n===============================\n\nSelect a material to use in the study. The material name must be known\nby the Additive service. You can connect to the Additive service and\nprint a list of available materials prior to selecting one.\n"
      ]
    },
    {
      "cell_type": "code",
      "execution_count": null,
      "metadata": {
        "collapsed": false
      },
      "outputs": [],
      "source": [
        "additive = Additive()\nprint(\"Available material names: {}\".format(additive.materials_list()))\nmaterial = \"IN718\""
      ]
    },
    {
      "cell_type": "markdown",
      "metadata": {},
      "source": [
        "Create a single bead evaluation\n===============================\n\nParametric studies often start with single bead simulations in order to\ndetermine melt pool statistics. Here, the\n`~ParametricStudy.generate_single_bead_permutations`{.interpreted-text\nrole=\"meth\"} method is used to generate single bead simulation\npermutations. The parameters for the\n`~ParametricStudy.generate_single_bead_permutations`{.interpreted-text\nrole=\"meth\"} method allow you to specify a range of machine parameters\nand filter them by energy density. Not all the parameters shown are\nrequired. Optional parameters that are not specified use default values\ndefined in the `MachineConstants`{.interpreted-text role=\"class\"} class.\n"
      ]
    },
    {
      "cell_type": "code",
      "execution_count": null,
      "metadata": {
        "collapsed": false
      },
      "outputs": [],
      "source": [
        "# Specify a range of laser powers. Valid values are 50 to 700 W.\ninitial_powers = np.linspace(50, 700, 7)\n# Specify a range of laser scan speeds. Valid values are 0.35 to 2.5 m/s.\ninitial_scan_speeds = np.linspace(0.35, 2.5, 5)\n# Specify powder layer thicknesses. Valid values are 10e-6 to 100e-6 m.\ninitial_layer_thicknesses = [40e-6, 50e-6]\n# Specify laser beam diameters. Valid values are 20e-6 to 140e-6 m.\ninitial_beam_diameters = [80e-6]\n# Specify heater temperatures. Valid values are 20 - 500 C.\ninitial_heater_temps = [80]\n# Restrict the permutations within a range of energy densities\n# For single bead, the energy density is laser power / (laser scan speed * layer thickness).\nmin_energy_density = 2e6\nmax_energy_density = 8e6\n# Specify a bead length in meters.\nbead_length = 0.001\n\nstudy.generate_single_bead_permutations(\n    material_name=material,\n    bead_length=bead_length,\n    laser_powers=initial_powers,\n    scan_speeds=initial_scan_speeds,\n    layer_thicknesses=initial_layer_thicknesses,\n    beam_diameters=initial_beam_diameters,\n    heater_temperatures=initial_heater_temps,\n    min_area_energy_density=min_energy_density,\n    max_area_energy_density=max_energy_density,\n)"
      ]
    },
    {
      "cell_type": "markdown",
      "metadata": {},
      "source": [
        "Show the simulations as a table\n===============================\n\nThe `~ParametricStudy.data_frame`{.interpreted-text role=\"meth\"} method\nreturns a `~pandas.DataFrame`{.interpreted-text role=\"class\"} object\nthat can be used to display the simulations as a table. Here, the\n`~pandas.DataFrame.head`{.interpreted-text role=\"meth\"} method is used\nto display all the rows of the table.\n"
      ]
    },
    {
      "cell_type": "code",
      "execution_count": null,
      "metadata": {
        "collapsed": false
      },
      "outputs": [],
      "source": [
        "df = study.data_frame()\npd.set_option(\"display.max_columns\", None)  # show all columns\ndf.head(len(df))"
      ]
    },
    {
      "cell_type": "markdown",
      "metadata": {},
      "source": [
        "Skip some simulations\n=====================\n\nIf you are working with a large parametric study, you may want to skip\nsome simulations to reduce processing time. To do so, set the simulation\nstatus to `SimulationStatus.SKIP`{.interpreted-text role=\"obj\"} which is\ndefined in the `SimulationStatus`{.interpreted-text role=\"class\"} class.\nHere, a `~pandas.DataFrame`{.interpreted-text role=\"class\"} object is\nobtained, a filter is applied to get a list of simulation IDs, and then\nthe status is updated on the simulations with those IDs.\n"
      ]
    },
    {
      "cell_type": "code",
      "execution_count": null,
      "metadata": {
        "collapsed": false
      },
      "outputs": [],
      "source": [
        "df = study.data_frame()\n# Get IDs for single bead simulations with laser power below 75 W.\nids = df.loc[\n    (df[ColumnNames.LASER_POWER] < 75) & (df[ColumnNames.TYPE] == SimulationType.SINGLE_BEAD),\n    ColumnNames.ID,\n].tolist()\nstudy.set_status(ids, SimulationStatus.SKIP)\nprint(study.data_frame()[[ColumnNames.ID, ColumnNames.TYPE, ColumnNames.STATUS]])"
      ]
    },
    {
      "cell_type": "markdown",
      "metadata": {},
      "source": [
        "Run single bead simulations\n===========================\n\nRun the simulations using the\n`~ParametricStudy.run_simulations`{.interpreted-text role=\"meth\"}\nmethod. All simulations with a\n`SimulationStatus.PENDING`{.interpreted-text role=\"obj\"} status are\nexecuted.\n"
      ]
    },
    {
      "cell_type": "code",
      "execution_count": null,
      "metadata": {
        "collapsed": false
      },
      "outputs": [],
      "source": [
        "study.run_simulations(additive)"
      ]
    },
    {
      "cell_type": "markdown",
      "metadata": {},
      "source": [
        "View single bead results\n========================\n\nThe single bead simulation results are shown in the\n`Melt Pool Width (m)`, `Melt Pool Depth (m)`, `Melt Pool Length (m)`,\n`Melt Pool Length/Width`, `Melt Pool Ref Width (m)`,\n`Melt Pool Ref Depth (m)`, and `Melt Pool Ref Depth/Width` columns of\nthe data frame. For explanations of these columns, see\n`ColumnNames`{.interpreted-text role=\"class\"}.\n"
      ]
    },
    {
      "cell_type": "code",
      "execution_count": null,
      "metadata": {
        "collapsed": false
      },
      "outputs": [],
      "source": [
        "study.data_frame().head(len(study.data_frame()))"
      ]
    },
    {
      "cell_type": "markdown",
      "metadata": {},
      "source": [
        "Save the study to a CSV file\n============================\n\nThe parametric study is saved with each update in a binary format. For\nother formats, use the `to_*` methods provided by the\n`~pandas.DataFrame`{.interpreted-text role=\"class\"} class.\n"
      ]
    },
    {
      "cell_type": "code",
      "execution_count": null,
      "metadata": {
        "collapsed": false
      },
      "outputs": [],
      "source": [
        "study.data_frame().to_csv(\"demo-study.csv\")"
      ]
    },
    {
      "cell_type": "markdown",
      "metadata": {},
      "source": [
        "Import a study from a CSV file\n==============================\n\nImport a study from a CSV file using the\n`ParametricStudy.import_csv_study`{.interpreted-text role=\"meth\"}\nmethod. The CSV file must contain the same columns as the parametric\nstudy data frame. The\n`ParametricStudy.import_csv_study`{.interpreted-text role=\"meth\"} method\nwill return a list of errors for each simulation that failed to import\nand the number of duplicate simulations removed (if any). All other\nvalid simulations will be added to the study.\n"
      ]
    },
    {
      "cell_type": "code",
      "execution_count": null,
      "metadata": {
        "collapsed": false
      },
      "outputs": [],
      "source": [
        "study2 = ParametricStudy(\"demo-csv-study.ps\")\nerrors = study2.import_csv_study(\"demo-study.csv\")\nstudy2.data_frame().head()"
      ]
    },
    {
      "cell_type": "markdown",
      "metadata": {},
      "source": [
        "Load a previously saved study\n=============================\n\nLoad a previously saved study using the static\n`ParameticStudy.load() <ParametricStudy.load>`{.interpreted-text\nrole=\"meth\"} method.\n"
      ]
    },
    {
      "cell_type": "code",
      "execution_count": null,
      "metadata": {
        "collapsed": false
      },
      "outputs": [],
      "source": [
        "study3 = ParametricStudy.load(\"demo-study.ps\")\nstudy3.data_frame().head()"
      ]
    },
    {
      "cell_type": "markdown",
      "metadata": {},
      "source": [
        "Create a porosity evaluation\n============================\n\nYou can use the insights gained from the single bead evaluation to\ngenerate parameters for a porosity evaluation. Alternatively, you can\nperform a porosity evaluation without a previous single bead evaluation.\nHere, the laser power and scan speeds are determined by filtering the\nsingle bead results where the ratio of the melt pool reference depth to\nreference width is within a specified range. Additionally, the\nsimulations are restricted to a minimum build rate, which is calculated\nas scan speed \\* layer thickness \\* hatch spacing. The\n`~ParametricStudy.generate_porosity_permutations`{.interpreted-text\nrole=\"meth\"} method is used to add porosity simulations to the study.\n"
      ]
    },
    {
      "cell_type": "code",
      "execution_count": null,
      "metadata": {
        "collapsed": false
      },
      "outputs": [],
      "source": [
        "df = study.data_frame()\ndf = df[\n    (df[ColumnNames.MELT_POOL_REFERENCE_DEPTH_OVER_WIDTH] >= 0.3)\n    & (df[ColumnNames.MELT_POOL_REFERENCE_DEPTH_OVER_WIDTH] <= 0.65)\n]\n\nstudy.generate_porosity_permutations(\n    material_name=material,\n    laser_powers=df[ColumnNames.LASER_POWER].unique(),\n    scan_speeds=df[ColumnNames.SCAN_SPEED].unique(),\n    size_x=1e-3,\n    size_y=1e-3,\n    size_z=1e-3,\n    layer_thicknesses=[40e-6],\n    heater_temperatures=[80],\n    beam_diameters=[80e-6],\n    start_angles=[45],\n    rotation_angles=[67.5],\n    hatch_spacings=[100e-6],\n    min_build_rate=5e-9,\n    iteration=1,\n)"
      ]
    },
    {
      "cell_type": "markdown",
      "metadata": {},
      "source": [
        "Run porosity simulations\n========================\n\nRun the simulations using the\n`~ParametricStudy.run_simulations`{.interpreted-text role=\"meth\"}\nmethod.\n"
      ]
    },
    {
      "cell_type": "code",
      "execution_count": null,
      "metadata": {
        "collapsed": false
      },
      "outputs": [],
      "source": [
        "study.run_simulations(additive)"
      ]
    },
    {
      "cell_type": "markdown",
      "metadata": {},
      "source": [
        "View porosity results\n=====================\n\nPorosity simulation results are shown in the `Relative Density` column\nof the data frame.\n"
      ]
    },
    {
      "cell_type": "code",
      "execution_count": null,
      "metadata": {
        "collapsed": false
      },
      "outputs": [],
      "source": [
        "df = study.data_frame()\ndf = df[df[ColumnNames.TYPE] == SimulationType.POROSITY]\ndf.head(len(df))"
      ]
    },
    {
      "cell_type": "markdown",
      "metadata": {},
      "source": [
        "Create a microstructure evaluation\n==================================\n\nHere a set of microstructure simulations is generated using many of the\nsame parameters used for the porosity simulations. The parameters\n`cooling_rate`, `thermal_gradient`, `melt_pool_width`, and\n`melt_pool_depth` are not specified so they are calculated. The\n`~ParametricStudy.generate_microstructure_permutations`{.interpreted-text\nrole=\"meth\"} method is used to add microstructure simulations to the\nstudy.\n"
      ]
    },
    {
      "cell_type": "code",
      "execution_count": null,
      "metadata": {
        "collapsed": false
      },
      "outputs": [],
      "source": [
        "df = study.data_frame()\ndf = df[df[ColumnNames.TYPE] == SimulationType.POROSITY]\n\nstudy.generate_microstructure_permutations(\n    material_name=material,\n    laser_powers=df[ColumnNames.LASER_POWER].unique(),\n    scan_speeds=df[ColumnNames.SCAN_SPEED].unique(),\n    size_x=1e-3,\n    size_y=1e-3,\n    size_z=1.1e-3,\n    sensor_dimension=1e-4,\n    layer_thicknesses=df[ColumnNames.LAYER_THICKNESS].unique(),\n    heater_temperatures=df[ColumnNames.HEATER_TEMPERATURE].unique(),\n    beam_diameters=df[ColumnNames.BEAM_DIAMETER].unique(),\n    start_angles=df[ColumnNames.START_ANGLE].unique(),\n    rotation_angles=df[ColumnNames.ROTATION_ANGLE].unique(),\n    hatch_spacings=df[ColumnNames.HATCH_SPACING].unique(),\n    iteration=2,\n)"
      ]
    },
    {
      "cell_type": "markdown",
      "metadata": {},
      "source": [
        "Run microstructure simulations\n==============================\n\nRun the simulations using the\n`~ParametricStudy.run_simulations`{.interpreted-text role=\"meth\"}\nmethod.\n"
      ]
    },
    {
      "cell_type": "code",
      "execution_count": null,
      "metadata": {
        "collapsed": false
      },
      "outputs": [],
      "source": [
        "study.run_simulations(additive)"
      ]
    },
    {
      "cell_type": "markdown",
      "metadata": {},
      "source": [
        "View microstructure results\n===========================\n\nMicrostructure simulation results are shown in the\n`XY Average Grain Size (microns)`, `XZ Average Grain Size (microns)`,\nand `YZ Average Grain Size (microns)` columns of the data frame. For\nexplanations of these columns, see `ColumnNames`{.interpreted-text\nrole=\"class\"}.\n"
      ]
    },
    {
      "cell_type": "code",
      "execution_count": null,
      "metadata": {
        "collapsed": false
      },
      "outputs": [],
      "source": [
        "df = study.data_frame()\ndf = df[df[ColumnNames.TYPE] == SimulationType.MICROSTRUCTURE]\ndf.head(len(df))"
      ]
    }
  ],
  "metadata": {
    "kernelspec": {
      "display_name": "Python 3",
      "language": "python",
      "name": "python3"
    },
    "language_info": {
      "codemirror_mode": {
        "name": "ipython",
        "version": 3
      },
      "file_extension": ".py",
      "mimetype": "text/x-python",
      "name": "python",
      "nbconvert_exporter": "python",
      "pygments_lexer": "ipython3",
      "version": "3.10.14"
    }
  },
  "nbformat": 4,
  "nbformat_minor": 0
}