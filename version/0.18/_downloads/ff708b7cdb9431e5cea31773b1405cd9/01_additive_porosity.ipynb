{
  "cells": [
    {
      "cell_type": "markdown",
      "metadata": {},
      "source": [
        "Porosity analysis\n=================\n\nThis example shows how to use PyAdditive to determine porosity for a\ngiven material and machine parameter combinations.\n\nUnits are SI (m, kg, s, K) unless otherwise noted.\n"
      ]
    },
    {
      "cell_type": "markdown",
      "metadata": {},
      "source": [
        "Perform required import and connect\n===================================\n\nPerform the required import and connect to the Additive service.\n"
      ]
    },
    {
      "cell_type": "code",
      "execution_count": null,
      "metadata": {
        "collapsed": false
      },
      "outputs": [],
      "source": [
        "from ansys.additive.core import Additive, AdditiveMachine, PorosityInput, SimulationError\n\nadditive = Additive()"
      ]
    },
    {
      "cell_type": "markdown",
      "metadata": {},
      "source": [
        "Select material\n===============\n\nSelect a material. You can use the\n`~Additive.materials_list`{.interpreted-text role=\"meth\"} method to\nobtain a list of available materials.\n"
      ]
    },
    {
      "cell_type": "code",
      "execution_count": null,
      "metadata": {
        "collapsed": false
      },
      "outputs": [],
      "source": [
        "print(\"Available material names: {}\".format(additive.materials_list()))"
      ]
    },
    {
      "cell_type": "markdown",
      "metadata": {},
      "source": [
        "You can obtain the parameters for a single material by passing a name\nfrom the materials list to the `~Additive.material`{.interpreted-text\nrole=\"meth\"} method.\n"
      ]
    },
    {
      "cell_type": "code",
      "execution_count": null,
      "metadata": {
        "collapsed": false
      },
      "outputs": [],
      "source": [
        "material = additive.material(\"316L\")"
      ]
    },
    {
      "cell_type": "markdown",
      "metadata": {},
      "source": [
        "Specify machine parameters\n==========================\n\nSpecify machine parameters by first creating an\n`AdditiveMachine`{.interpreted-text role=\"class\"} object and then\nassigning the desired values. All values are in SI units (m, kg, s, K)\nunless otherwise noted.\n"
      ]
    },
    {
      "cell_type": "code",
      "execution_count": null,
      "metadata": {
        "collapsed": false
      },
      "outputs": [],
      "source": [
        "machine = AdditiveMachine()\n\n# Show available parameters\nprint(machine)"
      ]
    },
    {
      "cell_type": "markdown",
      "metadata": {},
      "source": [
        "Set laser power and scan speed\n==============================\n\nSet the laser power and scan speed.\n"
      ]
    },
    {
      "cell_type": "code",
      "execution_count": null,
      "metadata": {
        "collapsed": false
      },
      "outputs": [],
      "source": [
        "machine.scan_speed = 1.2  # m/s\nmachine.laser_power = 250  # W"
      ]
    },
    {
      "cell_type": "markdown",
      "metadata": {},
      "source": [
        "Specify inputs for porosity simulation\n======================================\n\nCreate a `PorosityInput`{.interpreted-text role=\"class\"} object\ncontaining the desired simulation parameters.\n"
      ]
    },
    {
      "cell_type": "code",
      "execution_count": null,
      "metadata": {
        "collapsed": false
      },
      "outputs": [],
      "source": [
        "input = PorosityInput(\n    machine=machine,\n    material=material,\n    id=\"porosity-example\",\n    size_x=0.001,  # meters\n    size_y=0.001,\n    size_z=0.001,\n)"
      ]
    },
    {
      "cell_type": "markdown",
      "metadata": {},
      "source": [
        "Run simulation\n==============\n\nUse the `~Additive.simulate`{.interpreted-text role=\"meth\"} method of\nthe `additive` object to run the simulation. The returned object is\neither a `PorositySummary`{.interpreted-text role=\"class\"} object\ncontaining the input and the relative density of the simulated sample or\na `SimulationError`{.interpreted-text role=\"class\"} object.\n"
      ]
    },
    {
      "cell_type": "code",
      "execution_count": null,
      "metadata": {
        "collapsed": false
      },
      "outputs": [],
      "source": [
        "summary = additive.simulate(input)\nif isinstance(summary, SimulationError):\n    raise Exception(summary.message)"
      ]
    },
    {
      "cell_type": "markdown",
      "metadata": {},
      "source": [
        "Print relative density\n======================\n"
      ]
    },
    {
      "cell_type": "code",
      "execution_count": null,
      "metadata": {
        "collapsed": false
      },
      "outputs": [],
      "source": [
        "print(f\"For {summary.input.material.name} with \\n\", summary.input.machine)\nprint(f\"\\n    relative density = {round(summary.relative_density, 5)}\")"
      ]
    }
  ],
  "metadata": {
    "kernelspec": {
      "display_name": "Python 3",
      "language": "python",
      "name": "python3"
    },
    "language_info": {
      "codemirror_mode": {
        "name": "ipython",
        "version": 3
      },
      "file_extension": ".py",
      "mimetype": "text/x-python",
      "name": "python",
      "nbconvert_exporter": "python",
      "pygments_lexer": "ipython3",
      "version": "3.10.14"
    }
  },
  "nbformat": 4,
  "nbformat_minor": 0
}