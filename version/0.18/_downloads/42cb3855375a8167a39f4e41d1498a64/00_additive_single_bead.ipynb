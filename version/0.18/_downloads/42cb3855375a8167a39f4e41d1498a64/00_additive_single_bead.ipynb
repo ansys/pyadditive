{
  "cells": [
    {
      "cell_type": "markdown",
      "metadata": {},
      "source": [
        "Single bead analysis\n====================\n\nThis example shows how to use PyAdditive to determine melt pool\ncharacteristics for a given material and machine parameter combinations.\n\nUnits are SI (m, kg, s, K) unless otherwise noted.\n"
      ]
    },
    {
      "cell_type": "markdown",
      "metadata": {},
      "source": [
        "Perform required imports and connect\n====================================\n\nPerform the required imports and connect to the Additive service.\n"
      ]
    },
    {
      "cell_type": "code",
      "execution_count": null,
      "metadata": {
        "collapsed": false
      },
      "outputs": [],
      "source": [
        "import matplotlib.pyplot as plt\n\nfrom ansys.additive.core import (\n    Additive,\n    AdditiveMachine,\n    MeltPoolColumnNames,\n    SimulationError,\n    SingleBeadInput,\n)\n\nadditive = Additive()"
      ]
    },
    {
      "cell_type": "markdown",
      "metadata": {},
      "source": [
        "Get server connection information\n=================================\n\nGet server connection information using the\n`about() <Additive.about>`{.interpreted-text role=\"meth\"} method.\n"
      ]
    },
    {
      "cell_type": "code",
      "execution_count": null,
      "metadata": {
        "collapsed": false
      },
      "outputs": [],
      "source": [
        "additive.about()"
      ]
    },
    {
      "cell_type": "markdown",
      "metadata": {},
      "source": [
        "Select material\n===============\n\nSelect a material. You can use the\n`~Additive.materials_list`{.interpreted-text role=\"meth\"} method to\nobtain a list of available materials.\n"
      ]
    },
    {
      "cell_type": "code",
      "execution_count": null,
      "metadata": {
        "collapsed": false
      },
      "outputs": [],
      "source": [
        "print(\"Available material names: {}\".format(additive.materials_list()))"
      ]
    },
    {
      "cell_type": "markdown",
      "metadata": {},
      "source": [
        "You can obtain the parameters for a single material by passing a name\nfrom the materials list to the `~Additive.material`{.interpreted-text\nrole=\"meth\"} method.\n"
      ]
    },
    {
      "cell_type": "code",
      "execution_count": null,
      "metadata": {
        "collapsed": false
      },
      "outputs": [],
      "source": [
        "material = additive.material(\"IN718\")"
      ]
    },
    {
      "cell_type": "markdown",
      "metadata": {},
      "source": [
        "Specify machine parameters\n==========================\n\nSpecify machine parameters by first creating an\n`AdditiveMachine`{.interpreted-text role=\"class\"} object and then\nassigning the desired values. All values are in SI units (m, kg, s, K)\nunless otherwise noted.\n"
      ]
    },
    {
      "cell_type": "code",
      "execution_count": null,
      "metadata": {
        "collapsed": false
      },
      "outputs": [],
      "source": [
        "machine = AdditiveMachine()\n\n# Show available parameters\nprint(machine)"
      ]
    },
    {
      "cell_type": "markdown",
      "metadata": {},
      "source": [
        "Set laser power and scan speed\n==============================\n\nSet the laser power and scan speed.\n"
      ]
    },
    {
      "cell_type": "code",
      "execution_count": null,
      "metadata": {
        "collapsed": false
      },
      "outputs": [],
      "source": [
        "machine.scan_speed = 1  # m/s\nmachine.laser_power = 300  # W"
      ]
    },
    {
      "cell_type": "markdown",
      "metadata": {},
      "source": [
        "Specify inputs for single bead simulation\n=========================================\n\nCreate a `SingleBeadInput`{.interpreted-text role=\"class\"} object\ncontaining the desired simulation parameters.\n"
      ]
    },
    {
      "cell_type": "code",
      "execution_count": null,
      "metadata": {
        "collapsed": false
      },
      "outputs": [],
      "source": [
        "input = SingleBeadInput(\n    machine=machine, material=material, id=\"single-bead-example\", bead_length=0.0012  # meters\n)"
      ]
    },
    {
      "cell_type": "markdown",
      "metadata": {},
      "source": [
        "Run simulation\n==============\n\nUse the `~Additive.simulate`{.interpreted-text role=\"meth\"} method of\nthe `additive` object to run the simulation. The returned object is\neither a `SingleBeadSummary`{.interpreted-text role=\"class\"} object\ncontaining the input and a `MeltPool`{.interpreted-text role=\"class\"} or\na `SimulationError`{.interpreted-text role=\"class\"} object.\n"
      ]
    },
    {
      "cell_type": "code",
      "execution_count": null,
      "metadata": {
        "collapsed": false
      },
      "outputs": [],
      "source": [
        "summary = additive.simulate(input)\nif isinstance(summary, SimulationError):\n    raise Exception(summary.message)"
      ]
    },
    {
      "cell_type": "markdown",
      "metadata": {},
      "source": [
        "Plot melt pool statistics\n=========================\n\nObtain a `Pandas DataFrame <pandas.DataFrame>`{.interpreted-text\nrole=\"class\"} instance containing the melt pool statistics by using the\n`~MeltPool.data_frame`{.interpreted-text role=\"meth\"} method of the\n`melt_pool` attribute of the `summary` object. The column names for the\n`~pandas.DataFrame`{.interpreted-text role=\"class\"} instance are\ndescribed in the documentation for\n`~MeltPool.data_frame`{.interpreted-text role=\"meth\"}. Use the\n`~pandas.DataFrame.plot`{.interpreted-text role=\"meth\"} method to plot\nthe melt pool dimensions as a function of bead length.\n"
      ]
    },
    {
      "cell_type": "code",
      "execution_count": null,
      "metadata": {
        "collapsed": false
      },
      "outputs": [],
      "source": [
        "df = summary.melt_pool.data_frame().multiply(1e6)  # convert from meters to microns\ndf.index *= 1e3  # convert bead length from meters to millimeters\n\ndf.plot(\n    y=[\n        MeltPoolColumnNames.LENGTH,\n        MeltPoolColumnNames.WIDTH,\n        MeltPoolColumnNames.DEPTH,\n        MeltPoolColumnNames.REFERENCE_WIDTH,\n        MeltPoolColumnNames.REFERENCE_DEPTH,\n    ],\n    ylabel=\"Melt Pool Dimensions (\u00b5m)\",\n    xlabel=\"Bead Length (mm)\",\n    title=\"Melt Pool Dimensions vs Bead Length\",\n)\nplt.show()"
      ]
    },
    {
      "cell_type": "markdown",
      "metadata": {},
      "source": [
        "List melt pool statistics\n=========================\n\nYou can show a table of the melt pool statistics by typing the name of\nthe data frame object and pressing enter. For brevity, the following\ncode uses the `~pandas.DataFrame.head`{.interpreted-text role=\"meth\"}\nmethod so that only the first few rows are shown. Note, if running this\nexample as a Python script, no output is shown.\n"
      ]
    },
    {
      "cell_type": "code",
      "execution_count": null,
      "metadata": {
        "collapsed": false
      },
      "outputs": [],
      "source": [
        "df.head()"
      ]
    },
    {
      "cell_type": "markdown",
      "metadata": {},
      "source": [
        "Save melt pool statistics\n=========================\n\nSave the melt pool statistics to a CSV file using the\n`to_csv() <pandas.DataFrame.to_csv>`{.interpreted-text role=\"meth\"}\nmethod.\n"
      ]
    },
    {
      "cell_type": "code",
      "execution_count": null,
      "metadata": {
        "collapsed": false
      },
      "outputs": [],
      "source": [
        "df.to_csv(\"melt_pool.csv\")"
      ]
    }
  ],
  "metadata": {
    "kernelspec": {
      "display_name": "Python 3",
      "language": "python",
      "name": "python3"
    },
    "language_info": {
      "codemirror_mode": {
        "name": "ipython",
        "version": 3
      },
      "file_extension": ".py",
      "mimetype": "text/x-python",
      "name": "python",
      "nbconvert_exporter": "python",
      "pygments_lexer": "ipython3",
      "version": "3.10.14"
    }
  },
  "nbformat": 4,
  "nbformat_minor": 0
}