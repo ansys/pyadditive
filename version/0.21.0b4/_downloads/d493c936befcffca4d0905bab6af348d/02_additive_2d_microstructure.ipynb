{
  "cells": [
    {
      "cell_type": "markdown",
      "metadata": {},
      "source": [
        "# 2D Microstructure analysis\n\nThis example shows how to use PyAdditive to determine the\ntwo-dimensional microstructure in the XY, XZ, and YZ planes for a sample\ncoupon with given material and machine parameters.\n\nUnits are SI (m, kg, s, K) unless otherwise noted.\n"
      ]
    },
    {
      "cell_type": "markdown",
      "metadata": {},
      "source": [
        "# Perform required import and connect\n\nPerform the required import and connect to the Additive service.\n"
      ]
    },
    {
      "cell_type": "code",
      "execution_count": null,
      "metadata": {
        "collapsed": false
      },
      "outputs": [],
      "source": [
        "from ansys.additive.core import (\n    Additive,\n    AdditiveMachine,\n    MicrostructureInput,\n    SimulationError,\n)\n\nadditive = Additive()"
      ]
    },
    {
      "cell_type": "markdown",
      "metadata": {},
      "source": [
        "# Select material\n\nSelect a material. You can use the\n`~Additive.materials_list`{.interpreted-text role=\"meth\"} method to\nobtain a list of available materials.\n"
      ]
    },
    {
      "cell_type": "code",
      "execution_count": null,
      "metadata": {
        "collapsed": false
      },
      "outputs": [],
      "source": [
        "print(\"Available material names: {}\".format(additive.materials_list()))"
      ]
    },
    {
      "cell_type": "markdown",
      "metadata": {},
      "source": [
        "You can obtain the parameters for a single material by passing a name\nfrom the materials list to the `~Additive.material`{.interpreted-text\nrole=\"meth\"} method.\n"
      ]
    },
    {
      "cell_type": "code",
      "execution_count": null,
      "metadata": {
        "collapsed": false
      },
      "outputs": [],
      "source": [
        "material = additive.material(\"17-4PH\")"
      ]
    },
    {
      "cell_type": "markdown",
      "metadata": {},
      "source": [
        "# Specify machine parameters\n\nSpecify machine parameters by first creating an\n`AdditiveMachine`{.interpreted-text role=\"class\"} object and then\nassigning the desired values. All values are in SI units (m, kg, s, K)\nunless otherwise noted.\n"
      ]
    },
    {
      "cell_type": "code",
      "execution_count": null,
      "metadata": {
        "collapsed": false
      },
      "outputs": [],
      "source": [
        "machine = AdditiveMachine()\n\n# Show available parameters\nprint(machine)"
      ]
    },
    {
      "cell_type": "markdown",
      "metadata": {},
      "source": [
        "# Set laser power and scan speed\n\nSet the laser power and scan speed.\n"
      ]
    },
    {
      "cell_type": "code",
      "execution_count": null,
      "metadata": {
        "collapsed": false
      },
      "outputs": [],
      "source": [
        "machine.scan_speed = 1  # m/s\nmachine.laser_power = 500  # W"
      ]
    },
    {
      "cell_type": "markdown",
      "metadata": {},
      "source": [
        "# Specify inputs for microstructure simulation\n\nMicrostructure simulation inputs can include thermal parameters. Thermal\nparameters consist of `cooling_rate`, `thermal_gradient`,\n`melt_pool_width`, and `melt_pool_depth`. If thermal parameters are not\nspecified, the thermal solver is used to obtain the parameters prior to\nrunning the microstructure solver.\n"
      ]
    },
    {
      "cell_type": "code",
      "execution_count": null,
      "metadata": {
        "collapsed": false
      },
      "outputs": [],
      "source": [
        "# Specify microstructure inputs with thermal parameters\ninput_with_thermal = MicrostructureInput(\n    machine=machine,\n    material=material,\n    sensor_dimension=0.0005,\n    sample_size_x=0.001,  # in meters (1 mm), must be >= sensor_dimension + 0.0005\n    sample_size_y=0.001,  # in meters (1 mm), must be >= sensor_dimension + 0.0005\n    sample_size_z=0.0015,  # in meters (1 mm), must be >= sensor_dimension + 0.001\n    use_provided_thermal_parameters=True,\n    cooling_rate=1.1e6,  # \u00b0K/s\n    thermal_gradient=1.2e7,  # \u00b0K/m\n    melt_pool_width=1.5e-4,  # meters (150 microns)\n    melt_pool_depth=1.1e-4,  # meters (110 microns)\n)\n\n# Specify microstructure inputs without thermal parameters\ninput_without_thermal = MicrostructureInput(\n    machine=machine,\n    material=material,\n    sensor_dimension=0.0005,\n    sample_size_x=0.001,  # in meters (1 mm), must be >= sensor_dimension + 0.0005\n    sample_size_y=0.001,  # in meters (1 mm), must be >= sensor_dimension + 0.0005\n    sample_size_z=0.0015,  # in meters (1 mm), must be >= sensor_dimension + 0.001\n    # use_provided_thermal_parameters defaults to False\n)"
      ]
    },
    {
      "cell_type": "markdown",
      "metadata": {},
      "source": [
        "# Run simulation\n\nUse the `~Additive.simulate`{.interpreted-text role=\"meth\"} method of\nthe `additive` object to run the simulation. The returned object is\neither a `MicrostructureSummary`{.interpreted-text role=\"class\"} object\nor a `SimulationError`{.interpreted-text role=\"class\"} object.\n"
      ]
    },
    {
      "cell_type": "code",
      "execution_count": null,
      "metadata": {
        "collapsed": false
      },
      "outputs": [],
      "source": [
        "summary = additive.simulate(input_with_thermal)\nif isinstance(summary, SimulationError):\n    raise Exception(summary.message)"
      ]
    },
    {
      "cell_type": "markdown",
      "metadata": {},
      "source": [
        "# Plot results\n\nThe `summary`[ object includes three VTK files, one for each of the XY,\nXZ, and YZ planes. Each VTK file contains data sets for grain\norientation, boundaries, and number. In addition, the\n]{.title-ref}[summary]{.title-ref}[ object includes circle equivalence\ndata and average grain size for each plane. See\n:class:\\`MicrostructureSummary]{.title-ref} for details.\n"
      ]
    },
    {
      "cell_type": "code",
      "execution_count": null,
      "metadata": {
        "collapsed": false
      },
      "outputs": [],
      "source": [
        "import matplotlib.pyplot as plt\nimport pandas as pd\nimport pyvista as pv\nfrom matplotlib import colors\nfrom matplotlib.colors import LinearSegmentedColormap as colorMap\nfrom matplotlib.ticker import PercentFormatter\n\nfrom ansys.additive.core import CircleEquivalenceColumnNames"
      ]
    },
    {
      "cell_type": "markdown",
      "metadata": {},
      "source": [
        "# Plot 2D grain visualizations\n\nPlot the planar data, read VTK data in data set objects, and create a\ncolor map to use with the boundary map.\n"
      ]
    },
    {
      "cell_type": "code",
      "execution_count": null,
      "metadata": {
        "collapsed": false
      },
      "outputs": [],
      "source": [
        "# Function to plot the planar data\ndef plot_microstructure(\n    xy_data: any,\n    xz_data: any,\n    yz_data: any,\n    scalars: str,\n    cmap: colors.LinearSegmentedColormap,\n):\n    \"\"\"Convenience function to plot microstructure VTK data.\"\"\"\n    font_size = 8\n    plotter = pv.Plotter(shape=(2, 2), lighting=\"three lights\")\n    plotter.show_axes_all()\n    plotter.add_mesh(xy_data, cmap=cmap, scalars=scalars)\n    plotter.add_title(\"XY Plane\", font_size=font_size)\n\n    plotter.subplot(0, 1)\n    plotter.add_mesh(xz_data, cmap=cmap, scalars=scalars)\n    plotter.add_title(\"XZ Plane\", font_size=font_size)\n\n    plotter.subplot(1, 0)\n    plotter.add_mesh(yz_data, cmap=cmap, scalars=scalars)\n    plotter.add_title(\"YZ Plane\", font_size=font_size)\n\n    plotter.subplot(1, 1)\n    plotter.add_mesh(xy_data, cmap=cmap, scalars=scalars)\n    plotter.add_mesh(xz_data, cmap=cmap, scalars=scalars)\n    plotter.add_mesh(yz_data, cmap=cmap, scalars=scalars)\n    plotter.add_title(\"Combined\", font_size=font_size)\n\n    return plotter\n\n\n# Read VTK data into pyvista.DataSet objects\nxy = pv.read(summary.xy_vtk)\nxz = pv.read(summary.xz_vtk)\nyz = pv.read(summary.yz_vtk)\n\n# Create a color map to use with the boundary plot\nwhite_black_cmap = colorMap.from_list(\"whiteblack\", [\"white\", \"black\"])\n\nplot_microstructure(xy, xz, yz, \"GrainBoundaries\", white_black_cmap).show(\n    title=\"Grain Boundaries\"\n)\nplot_microstructure(xy, xz, yz, \"Orientation_(deg)\", \"spectral\").show(\n    title=\"Orientation \u00b0\"\n)\nplot_microstructure(xy, xz, yz, \"GrainNumber\", None).show(title=\"Grain Number\")"
      ]
    },
    {
      "cell_type": "markdown",
      "metadata": {},
      "source": [
        "# Plot grain statistics\n\nAdd grain statistic plots to a figure, create a figure for grain\nstatistics, and then plot the figure.\n"
      ]
    },
    {
      "cell_type": "code",
      "execution_count": null,
      "metadata": {
        "collapsed": false
      },
      "outputs": [],
      "source": [
        "# Function to simplify plotting grain statistics\ndef add_grain_statistics_to_figure(\n    plane_data: pd.DataFrame,\n    plane_str: str,\n    plane_ave_grain_size: float,\n    diameter_axes: plt.Axes,\n    orientation_axes: plt.Axes,\n):\n    \"\"\"Convenience function to add grain statistic plots to a figure.\"\"\"\n    xmax = len(plane_data[CircleEquivalenceColumnNames.DIAMETER])\n    diameter_axes.hist(\n        plane_data[CircleEquivalenceColumnNames.DIAMETER], bins=20, rwidth=0.75\n    )\n    diameter_axes.set_xlabel(\"Grain Diameter (\u00b5m)\")\n    diameter_axes.set_ylabel(\"Area Fraction\")\n    diameter_axes.set_title(\n        plane_str.upper()\n        + f\" Grain Size Distribution, ave: {plane_ave_grain_size:.2f} \u00b5m\"\n    )\n    diameter_axes.yaxis.set_major_formatter(PercentFormatter(xmax=xmax))\n    orientation_axes.hist(\n        plane_data[CircleEquivalenceColumnNames.ORIENTATION_ANGLE], bins=9, rwidth=0.75\n    )\n    orientation_axes.yaxis.set_major_formatter(PercentFormatter(xmax=xmax))\n    orientation_axes.set_xlabel(\"Orientation Angle (\u00b0)\")\n    orientation_axes.set_ylabel(\"Number Fraction\")\n    orientation_axes.set_title(plane_str.upper() + \" Orientation Angle\")\n\n\n# Create figure for grain statistics\nfig, axs = plt.subplots(3, 2, figsize=(10, 15), tight_layout=True)\nfig.suptitle(\"Circle Equivalence Grain Data\", fontsize=16)\nadd_grain_statistics_to_figure(\n    summary.xy_circle_equivalence,\n    \"xy\",\n    summary.xy_average_grain_size,\n    axs[0][0],\n    axs[0][1],\n)\nadd_grain_statistics_to_figure(\n    summary.xz_circle_equivalence,\n    \"xz\",\n    summary.xz_average_grain_size,\n    axs[1][0],\n    axs[1][1],\n)\nadd_grain_statistics_to_figure(\n    summary.yz_circle_equivalence,\n    \"yz\",\n    summary.yz_average_grain_size,\n    axs[2][0],\n    axs[2][1],\n)\nplt.show()"
      ]
    },
    {
      "cell_type": "markdown",
      "metadata": {},
      "source": [
        "# Print the simulation logs\n\nTo print the simulation logs, use the\n`~MicrostructureSummary.logs`{.interpreted-text role=\"meth\"} property.\n"
      ]
    },
    {
      "cell_type": "code",
      "execution_count": null,
      "metadata": {
        "collapsed": false
      },
      "outputs": [],
      "source": [
        "print(summary.logs)"
      ]
    }
  ],
  "metadata": {
    "kernelspec": {
      "display_name": "Python 3",
      "language": "python",
      "name": "python3"
    },
    "language_info": {
      "codemirror_mode": {
        "name": "ipython",
        "version": 3
      },
      "file_extension": ".py",
      "mimetype": "text/x-python",
      "name": "python",
      "nbconvert_exporter": "python",
      "pygments_lexer": "ipython3",
      "version": "3.12.11"
    }
  },
  "nbformat": 4,
  "nbformat_minor": 0
}