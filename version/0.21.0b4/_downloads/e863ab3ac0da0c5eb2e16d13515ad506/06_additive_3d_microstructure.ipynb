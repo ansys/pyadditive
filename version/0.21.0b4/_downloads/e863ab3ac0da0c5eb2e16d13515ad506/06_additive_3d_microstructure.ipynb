{
  "cells": [
    {
      "cell_type": "markdown",
      "metadata": {},
      "source": [
        "# 3D Microstructure analysis (BETA)\n\n::: warning\n::: title\nWarning\n:::\n\nBeta Features Disclaimer\n\n-   This is beta documentation for one or more beta software features.\n-   Beta features are considered unreleased and have not been fully\n    tested nor fully validated. The results are not guaranteed by Ansys,\n    Inc. (Ansys) to be correct. You assume the risk of using beta\n    features.\n-   At its discretion, Ansys may release, change, or withdraw beta\n    features in future revisions.\n-   Beta features are not subject to the Ansys Class 3 error reporting\n    system. Ansys makes no commitment to resolve defects reported\n    against beta features; however, your feedback will help us improve\n    the quality of the product.\n-   Ansys does not guarantee that database and/or input files used with\n    beta features will run successfully from version to version of the\n    software, nor with the final released version of the features. You\n    may need to modify the database and/or input files before running\n    them on other versions.\n-   Documentation for beta features is called beta documentation, and it\n    may not be written to the same standard as documentation for\n    released features. Beta documentation may not be complete at the\n    time of product release. At its discretion, Ansys may add, change,\n    or delete beta documentation at any time.\n:::\n\nThis example shows how to use PyAdditive to determine the\nthree-dimensional microstructure for a sample coupon with given material\nand machine parameters.\n\nUnits are SI (m, kg, s, K) unless otherwise noted.\n"
      ]
    },
    {
      "cell_type": "markdown",
      "metadata": {},
      "source": [
        "# Perform required import and connect\n\nPerform the required import and connect to the Additive service.\n"
      ]
    },
    {
      "cell_type": "code",
      "execution_count": null,
      "metadata": {
        "collapsed": false
      },
      "outputs": [],
      "source": [
        "import pyvista as pv\n\nfrom ansys.additive.core import (\n    Additive,\n    AdditiveMachine,\n    Microstructure3DInput,\n    SimulationError,\n)\n\n# Beta features must be enabled to use the 3D microstructure simulation.\nadditive = Additive(enable_beta_features=True)"
      ]
    },
    {
      "cell_type": "markdown",
      "metadata": {},
      "source": [
        "# Select material\n\nSelect a material. You can use the\n`~Additive.materials_list`{.interpreted-text role=\"meth\"} method to\nobtain a list of available materials.\n"
      ]
    },
    {
      "cell_type": "code",
      "execution_count": null,
      "metadata": {
        "collapsed": false
      },
      "outputs": [],
      "source": [
        "print(\"Available material names: {}\".format(additive.materials_list()))"
      ]
    },
    {
      "cell_type": "markdown",
      "metadata": {},
      "source": [
        "You can obtain the parameters for a single material by passing a name\nfrom the materials list to the `~Additive.material`{.interpreted-text\nrole=\"meth\"} method.\n"
      ]
    },
    {
      "cell_type": "code",
      "execution_count": null,
      "metadata": {
        "collapsed": false
      },
      "outputs": [],
      "source": [
        "material = additive.material(\"IN625\")"
      ]
    },
    {
      "cell_type": "markdown",
      "metadata": {},
      "source": [
        "# Specify machine parameters\n\nSpecify machine parameters by first creating an\n`AdditiveMachine`{.interpreted-text role=\"class\"} object and then\nassigning the desired values. All values are in SI units (m, kg, s, K)\nunless otherwise noted.\n"
      ]
    },
    {
      "cell_type": "code",
      "execution_count": null,
      "metadata": {
        "collapsed": false
      },
      "outputs": [],
      "source": [
        "machine = AdditiveMachine()\n\n# Show available parameters\nprint(machine)"
      ]
    },
    {
      "cell_type": "markdown",
      "metadata": {},
      "source": [
        "# Set laser power and scan speed\n\nSet the laser power and scan speed.\n"
      ]
    },
    {
      "cell_type": "code",
      "execution_count": null,
      "metadata": {
        "collapsed": false
      },
      "outputs": [],
      "source": [
        "machine.scan_speed = 1  # m/s\nmachine.laser_power = 500  # W"
      ]
    },
    {
      "cell_type": "markdown",
      "metadata": {},
      "source": [
        "# Specify inputs for 3D microstructure simulation\n\nSpecify microstructure inputs.\n"
      ]
    },
    {
      "cell_type": "code",
      "execution_count": null,
      "metadata": {
        "collapsed": false
      },
      "outputs": [],
      "source": [
        "input = Microstructure3DInput(\n    machine=machine,\n    material=material,\n    sample_size_x=0.0001,  # in meters (.1 mm)\n    sample_size_y=0.0001,\n    sample_size_z=0.0001,\n)"
      ]
    },
    {
      "cell_type": "markdown",
      "metadata": {},
      "source": [
        "# Run simulation\n\nUse the `~Additive.simulate`{.interpreted-text role=\"meth\"} method of\nthe `additive` object to run the simulation. The returned object is\neither a `Microstructure3DSummary`{.interpreted-text role=\"class\"}\nobject or a `SimulationError`{.interpreted-text role=\"class\"} object.\n"
      ]
    },
    {
      "cell_type": "code",
      "execution_count": null,
      "metadata": {
        "collapsed": false
      },
      "outputs": [],
      "source": [
        "summary = additive.simulate(input)\nif isinstance(summary, SimulationError):\n    raise Exception(summary.message)"
      ]
    },
    {
      "cell_type": "markdown",
      "metadata": {},
      "source": [
        "# Plot 3D grain visualization\n\nThe `summary` object includes a VTK file describing the 3D grain\nstructure. The VTK file contains scalar data sets `GrainNumber`,\n`Phi0_(deg)`, `Phi1_(deg)`, `Phi2_(deg)`, and `Temperatures`.\n"
      ]
    },
    {
      "cell_type": "code",
      "execution_count": null,
      "metadata": {
        "collapsed": false
      },
      "outputs": [],
      "source": [
        "# Plot the Phi0 data of the 3D grain structure\ncmap = \"coolwarm\"\nms3d = pv.read(summary.grain_3d_vtk)\nms3d.plot(scalars=\"Phi0_(deg)\", cmap=cmap)\n\n# Add a cut plane to the plot\nplotter = pv.Plotter()\nplotter.add_mesh_clip_plane(ms3d, scalars=\"Phi0_(deg)\", cmap=cmap)\nplotter.show()"
      ]
    },
    {
      "cell_type": "markdown",
      "metadata": {},
      "source": [
        "# Print average grain sizes\n\nThe `summary` object includes the average grain sizes in the XY, XZ, and\nYZ planes.\n"
      ]
    },
    {
      "cell_type": "code",
      "execution_count": null,
      "metadata": {
        "collapsed": false
      },
      "outputs": [],
      "source": [
        "print(\"Average grain size in XY plane: {} \u00b5m\".format(summary.xy_average_grain_size))\nprint(\"Average grain size in XZ plane: {} \u00b5m\".format(summary.xz_average_grain_size))\nprint(\"Average grain size in YZ plane: {} \u00b5m\".format(summary.yz_average_grain_size))"
      ]
    },
    {
      "cell_type": "markdown",
      "metadata": {},
      "source": [
        "# Print the simulation logs\n\nTo print the simulation logs, use the\n`~Microstructure3DSummary.logs`{.interpreted-text role=\"meth\"} property.\n"
      ]
    },
    {
      "cell_type": "code",
      "execution_count": null,
      "metadata": {
        "collapsed": false
      },
      "outputs": [],
      "source": [
        "print(summary.logs)"
      ]
    }
  ],
  "metadata": {
    "kernelspec": {
      "display_name": "Python 3",
      "language": "python",
      "name": "python3"
    },
    "language_info": {
      "codemirror_mode": {
        "name": "ipython",
        "version": 3
      },
      "file_extension": ".py",
      "mimetype": "text/x-python",
      "name": "python",
      "nbconvert_exporter": "python",
      "pygments_lexer": "ipython3",
      "version": "3.12.11"
    }
  },
  "nbformat": 4,
  "nbformat_minor": 0
}