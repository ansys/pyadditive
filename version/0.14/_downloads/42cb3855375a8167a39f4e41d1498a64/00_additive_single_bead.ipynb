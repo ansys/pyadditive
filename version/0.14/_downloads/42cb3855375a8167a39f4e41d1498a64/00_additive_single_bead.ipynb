{
  "cells": [
    {
      "cell_type": "markdown",
      "metadata": {},
      "source": [
        "Single bead analysis\n====================\n\nThis example shows how you can use PyAdditive to determine melt pool\ncharacteristics for a given material and machine parameter combinations.\n\nUnits are SI (m, kg, s, K) unless otherwise noted.\n"
      ]
    },
    {
      "cell_type": "markdown",
      "metadata": {},
      "source": [
        "Perform required imports and connect\n====================================\n\nPerform the required imports and connect to the Additive service.\n"
      ]
    },
    {
      "cell_type": "code",
      "execution_count": null,
      "metadata": {
        "collapsed": false
      },
      "outputs": [],
      "source": [
        "import matplotlib.pyplot as plt\n\nfrom ansys.additive.core import (\n    Additive,\n    AdditiveMachine,\n    MeltPoolColumnNames,\n    SimulationError,\n    SingleBeadInput,\n)\n\nadditive = Additive()"
      ]
    },
    {
      "cell_type": "markdown",
      "metadata": {},
      "source": [
        "Get server connection information\n=================================\n\nGet server connection information using the\n`about <Additive.about>`{.interpreted-text role=\"meth\"} method.\n"
      ]
    },
    {
      "cell_type": "code",
      "execution_count": null,
      "metadata": {
        "collapsed": false
      },
      "outputs": [],
      "source": [
        "print(additive.about())"
      ]
    },
    {
      "cell_type": "markdown",
      "metadata": {},
      "source": [
        "Select material\n===============\n\nSelect a material. You can use the\n`get_materials_list() <ansys.additive.core.additive.Additive.get_materials_list>`{.interpreted-text\nrole=\"meth\"} method to obtain a list of available materials.\n"
      ]
    },
    {
      "cell_type": "code",
      "execution_count": null,
      "metadata": {
        "collapsed": false
      },
      "outputs": [],
      "source": [
        "print(additive.get_materials_list())"
      ]
    },
    {
      "cell_type": "markdown",
      "metadata": {},
      "source": [
        "You can obtain the parameters for a single material by passing a name\nfrom the materials list to the\n`get_material() <ansys.additive.core.additive.Additive.get_material>`{.interpreted-text\nrole=\"meth\"} method.\n"
      ]
    },
    {
      "cell_type": "code",
      "execution_count": null,
      "metadata": {
        "collapsed": false
      },
      "outputs": [],
      "source": [
        "material = additive.get_material(\"17-4PH\")"
      ]
    },
    {
      "cell_type": "markdown",
      "metadata": {},
      "source": [
        "Specify machine parameters\n==========================\n\nSpecify machine parameters by first creating an\n`AdditiveMachine <from ansys.additive.core.machine.AdditiveMachine>`{.interpreted-text\nrole=\"class\"} object then assigning the desired values. All values are\nin SI units (m, kg, s, K) unless otherwise noted.\n"
      ]
    },
    {
      "cell_type": "code",
      "execution_count": null,
      "metadata": {
        "collapsed": false
      },
      "outputs": [],
      "source": [
        "machine = AdditiveMachine()\n\n# Show available parameters\nprint(machine)"
      ]
    },
    {
      "cell_type": "markdown",
      "metadata": {},
      "source": [
        "Set laser power and scan speed\n==============================\n\nSet the laser power and scan speed.\n"
      ]
    },
    {
      "cell_type": "code",
      "execution_count": null,
      "metadata": {
        "collapsed": false
      },
      "outputs": [],
      "source": [
        "machine.scan_speed = 1  # m/s\nmachine.laser_power = 300  # W"
      ]
    },
    {
      "cell_type": "markdown",
      "metadata": {},
      "source": [
        "Specify inputs for single bead simulation\n=========================================\n\nCreate a\n`SingleBeadInput <ansys.additive.core.single_bead.SingleBeadInput>`{.interpreted-text\nrole=\"class\"} object containing the desired simulation parameters.\n"
      ]
    },
    {
      "cell_type": "code",
      "execution_count": null,
      "metadata": {
        "collapsed": false
      },
      "outputs": [],
      "source": [
        "input = SingleBeadInput(\n    machine=machine, material=material, id=\"single-bead-example\", bead_length=0.0012  # meters\n)"
      ]
    },
    {
      "cell_type": "markdown",
      "metadata": {},
      "source": [
        "Run simulation\n==============\n\nUse the\n`simulate() <ansys.additive.core.additive.Additive.simulate>`{.interpreted-text\nrole=\"meth\"} method of the `additive` object to run the simulation. The\nreturned object is a either a\n`SingleBeadSummary <ansys.additive.core.single_bead.SingleBeadSummary>`{.interpreted-text\nrole=\"class\"} object containing the input and a\n`MeltPool <ansys.additive.core.single_bead.MeltPool>`{.interpreted-text\nrole=\"class\"} or a :class:\\`SimulationError\n\\<ansys.additive.core.simulation.SimulationError\\>.\n"
      ]
    },
    {
      "cell_type": "code",
      "execution_count": null,
      "metadata": {
        "collapsed": false
      },
      "outputs": [],
      "source": [
        "summary = additive.simulate(input)\nif isinstance(summary, SimulationError):\n    raise Exception(summary.message)"
      ]
    },
    {
      "cell_type": "markdown",
      "metadata": {},
      "source": [
        "Plot melt pool statistics\n=========================\n\nObtain a `Pandas DataFrame <pandas.DataFrame>`{.interpreted-text\nrole=\"class\"} containing the melt pool statistics by using the\n`data_frame() <ansys.additive.core.single_bead.MeltPool.data_frame>`{.interpreted-text\nrole=\"meth\"} property of the `melt_pool` attribute of the `summary`\nobject. Use the\n`DataFrame.plot() <pandas.DataFrame.plot>`{.interpreted-text\nrole=\"meth\"} method to plot the melt pool dimensions as a function of\nbead length.\n"
      ]
    },
    {
      "cell_type": "code",
      "execution_count": null,
      "metadata": {
        "collapsed": false
      },
      "outputs": [],
      "source": [
        "df = summary.melt_pool.data_frame().multiply(1e6)  # convert from meters to microns\ndf.index *= 1e3  # convert bead length from meters to millimeters\n\ndf.plot(\n    y=[\n        MeltPoolColumnNames.LENGTH,\n        MeltPoolColumnNames.WIDTH,\n        MeltPoolColumnNames.DEPTH,\n        MeltPoolColumnNames.REFERENCE_WIDTH,\n        MeltPoolColumnNames.REFERENCE_DEPTH,\n    ],\n    ylabel=\"Melt Pool Dimensions (\u00b5m)\",\n    xlabel=\"Bead Length (mm)\",\n    title=\"Melt Pool Dimensions vs Bead Length\",\n)\nplt.show()"
      ]
    },
    {
      "cell_type": "markdown",
      "metadata": {},
      "source": [
        "List melt pool statistics\n=========================\n\nYou can show a table of the melt pool statistics by typing the name of\nthe data frame object and pressing enter. For brevity, the following\ncode uses `head()` so that only the first few rows are shown.\n"
      ]
    },
    {
      "cell_type": "code",
      "execution_count": null,
      "metadata": {
        "collapsed": false
      },
      "outputs": [],
      "source": [
        "df.head()\n\n# .. note::\n#    If running this example as a Python script, no output is shown."
      ]
    },
    {
      "cell_type": "markdown",
      "metadata": {},
      "source": [
        "Save melt pool statistics\n=========================\n\nSave the melt pool statistics to a CSV file using the\n`to_csv() <pandas.DataFrame.to_csv>`{.interpreted-text role=\"meth\"}\nmethod.\n"
      ]
    },
    {
      "cell_type": "code",
      "execution_count": null,
      "metadata": {
        "collapsed": false
      },
      "outputs": [],
      "source": [
        "df.to_csv(\"melt_pool.csv\")"
      ]
    }
  ],
  "metadata": {
    "kernelspec": {
      "display_name": "Python 3",
      "language": "python",
      "name": "python3"
    },
    "language_info": {
      "codemirror_mode": {
        "name": "ipython",
        "version": 3
      },
      "file_extension": ".py",
      "mimetype": "text/x-python",
      "name": "python",
      "nbconvert_exporter": "python",
      "pygments_lexer": "ipython3",
      "version": "3.10.13"
    }
  },
  "nbformat": 4,
  "nbformat_minor": 0
}