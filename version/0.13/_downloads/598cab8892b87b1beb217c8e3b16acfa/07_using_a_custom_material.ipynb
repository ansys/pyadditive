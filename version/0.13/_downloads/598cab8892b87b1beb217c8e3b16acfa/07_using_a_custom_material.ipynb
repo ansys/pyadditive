{
  "cells": [
    {
      "cell_type": "code",
      "execution_count": null,
      "metadata": {
        "collapsed": false
      },
      "outputs": [],
      "source": [
        "%matplotlib inline"
      ]
    },
    {
      "cell_type": "markdown",
      "metadata": {},
      "source": [
        "Using A Custom Material\n=======================\n\nThis tutorial shows how you can use a custom material in PyAdditive\nsimulations. Background information and file formats can be found in\n[the Additive\ndocumentation](https://ansysproducthelpqa.win.ansys.com/account/secured?returnurl=/Views/Secured/corp/v232/en/add_beta/add_science_BETA_material_tuning_tool.html).\n\nUnits are SI (m, kg, s, K) unless otherwise noted.\n"
      ]
    },
    {
      "cell_type": "code",
      "execution_count": null,
      "metadata": {
        "collapsed": false
      },
      "outputs": [],
      "source": [
        "import ansys.additive as pyadditive\n\nadditive = pyadditive.Additive()"
      ]
    },
    {
      "cell_type": "markdown",
      "metadata": {},
      "source": [
        "Example Custom Material\n=======================\n\nHere we download an example custom material. Typically a user would have\nthe files defining their custom material stored locally.\n"
      ]
    },
    {
      "cell_type": "code",
      "execution_count": null,
      "metadata": {
        "collapsed": false
      },
      "outputs": [],
      "source": [
        "import ansys.additive.examples as examples\n\nmaterial_files = examples.download_custom_material()"
      ]
    },
    {
      "cell_type": "markdown",
      "metadata": {},
      "source": [
        "Load the Custom Material Files\n==============================\n\nThe `load_material` method on the `additive` object loads the files\ndefining a custom material.\n"
      ]
    },
    {
      "cell_type": "code",
      "execution_count": null,
      "metadata": {
        "collapsed": false
      },
      "outputs": [],
      "source": [
        "custom_material = additive.load_material(\n    parameters_file=material_files.material_parameters_file,\n    thermal_lookup_file=material_files.thermal_properties_lookup_file,\n    characteristic_width_lookup_file=material_files.characteristic_width_lookup_file,\n)"
      ]
    },
    {
      "cell_type": "markdown",
      "metadata": {},
      "source": [
        "Use the Custom Material in a Simulation\n=======================================\n\nOnce the custom material has been loaded, it can be assigned to a\nsimulation input object.\n"
      ]
    },
    {
      "cell_type": "code",
      "execution_count": null,
      "metadata": {
        "collapsed": false
      },
      "outputs": [],
      "source": [
        "input = pyadditive.SingleBeadInput(\n    machine=pyadditive.AdditiveMachine(),\n    material=custom_material,\n    id=\"single-bead-simulation\",\n    bead_length=0.001,  # meters\n)\n\n# Remove '#' to run the simulation\n# additive.simulate(input)"
      ]
    }
  ],
  "metadata": {
    "kernelspec": {
      "display_name": "Python 3",
      "language": "python",
      "name": "python3"
    },
    "language_info": {
      "codemirror_mode": {
        "name": "ipython",
        "version": 3
      },
      "file_extension": ".py",
      "mimetype": "text/x-python",
      "name": "python",
      "nbconvert_exporter": "python",
      "pygments_lexer": "ipython3",
      "version": "3.10.12"
    }
  },
  "nbformat": 4,
  "nbformat_minor": 0
}