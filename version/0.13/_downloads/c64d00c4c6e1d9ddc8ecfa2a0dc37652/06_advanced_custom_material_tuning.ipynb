{
  "cells": [
    {
      "cell_type": "code",
      "execution_count": null,
      "metadata": {
        "collapsed": false
      },
      "outputs": [],
      "source": [
        "%matplotlib inline"
      ]
    },
    {
      "cell_type": "markdown",
      "metadata": {},
      "source": [
        "Custom Material Tuning\n======================\n\nThis tutorial shows how you can tune a custom material for use with\nPyAdditive. Background information and file formats can be found in [the\nAdditive\ndocumentation](https://ansysproducthelpqa.win.ansys.com/account/secured?returnurl=/Views/Secured/corp/v232/en/add_beta/add_science_BETA_material_tuning_tool.html).\nTo prevent wasted time, the steps described in the Additive\ndocumentation should be reviewed carefully before executing the tuning\nprocess below.\n\nUnits are SI (m, kg, s, K) unless otherwise noted.\n"
      ]
    },
    {
      "cell_type": "code",
      "execution_count": null,
      "metadata": {
        "collapsed": false
      },
      "outputs": [],
      "source": [
        "import ansys.additive as pyadditive\n\nadditive = pyadditive.Additive()"
      ]
    },
    {
      "cell_type": "markdown",
      "metadata": {},
      "source": [
        "Specify the Tuning Inputs\n=========================\n\nThe `MaterialTuningInput` object contains the paths to the files needed\nto tune a material. The `experiment_data_file` is a CSV file containing\nthe results of single bead experiments. The `material_parameters_file`\nis a JSON file containing the material parameters. The\n`thermal_properties_lookup_file` is a CSV file containing the\ntemperature dependent properties of the material. The\n`characteristic_width_lookup_file` is an optional CSV file containing\nthe melt pool characteristic width at various laser powers and scan\nspeeds. If the characteristic width lookup file is not specified, it\nwill be generated during the tuning process.\n\nExample input files can be downloaded as shown below.\n"
      ]
    },
    {
      "cell_type": "code",
      "execution_count": null,
      "metadata": {
        "collapsed": false
      },
      "outputs": [],
      "source": [
        "import ansys.additive.examples as examples\n\ninput_files = examples.download_material_tuning_input()\n\n# Below we include the characteristic width lookup file in order to reduce\n# processing time. If a characteristic width lookup file is not available,\n# the field can be omitted when creating the ``MaterialTuningInput`` object.\ninput = pyadditive.MaterialTuningInput(\n    id=\"custom-material-tuning\",\n    experiment_data_file=input_files.experiment_data_file,\n    material_parameters_file=input_files.material_parameters_file,\n    thermal_properties_lookup_file=input_files.thermal_properties_lookup_file,\n    characteristic_width_lookup_file=input_files.characteristic_width_lookup_file,\n    allowable_error=0.05,  # allowable difference, as a ratio, between experimental and simulated results\n    max_iterations=10,  # maximum number of simulation iterations to perform\n    base_plate_temperature=353.15,  # only used when calculating the characteristic width\n)"
      ]
    },
    {
      "cell_type": "markdown",
      "metadata": {},
      "source": [
        "Perform the Material Tuning\n===========================\n\nMaterial tuning is performed using the `tune_material` method.\n"
      ]
    },
    {
      "cell_type": "code",
      "execution_count": null,
      "metadata": {
        "collapsed": false
      },
      "outputs": [],
      "source": [
        "summary = additive.tune_material(input)"
      ]
    },
    {
      "cell_type": "markdown",
      "metadata": {},
      "source": [
        "Review the Results\n==================\n\nThe `MaterialTuningSummary` object contains the results of the material\ntuning process. These results are used in follow-on steps to calculate\nthe material parameters needed by PyAdditive. See the Additive\ndocumentation referred to above for details.\n"
      ]
    },
    {
      "cell_type": "code",
      "execution_count": null,
      "metadata": {
        "collapsed": false
      },
      "outputs": [],
      "source": [
        "print(summary)"
      ]
    }
  ],
  "metadata": {
    "kernelspec": {
      "display_name": "Python 3",
      "language": "python",
      "name": "python3"
    },
    "language_info": {
      "codemirror_mode": {
        "name": "ipython",
        "version": 3
      },
      "file_extension": ".py",
      "mimetype": "text/x-python",
      "name": "python",
      "nbconvert_exporter": "python",
      "pygments_lexer": "ipython3",
      "version": "3.10.12"
    }
  },
  "nbformat": 4,
  "nbformat_minor": 0
}