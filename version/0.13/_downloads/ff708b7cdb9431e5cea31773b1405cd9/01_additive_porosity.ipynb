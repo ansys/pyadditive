{
  "cells": [
    {
      "cell_type": "code",
      "execution_count": null,
      "metadata": {
        "collapsed": false
      },
      "outputs": [],
      "source": [
        "%matplotlib inline"
      ]
    },
    {
      "cell_type": "markdown",
      "metadata": {},
      "source": [
        "Porosity Analysis\n=================\n\nThis tutorial shows how you can use PyAdditive to determine porosity for\ngiven material and machine parameter combinations.\n\nUnits are SI (m, kg, s, K) unless otherwise noted.\n\nFirst, connect to the Additive service.\n"
      ]
    },
    {
      "cell_type": "code",
      "execution_count": null,
      "metadata": {
        "collapsed": false
      },
      "outputs": [],
      "source": [
        "import ansys.additive as pyadditive\n\nadditive = pyadditive.Additive()"
      ]
    },
    {
      "cell_type": "markdown",
      "metadata": {},
      "source": [
        "Select Material\n===============\n\nThe next step is a to choose a material. A list of available materials\ncan be obtained using the\n`get_materials_list() <ansys.additive.additive.Additive.get_materials_list>`{.interpreted-text\nrole=\"meth\"} command.\n"
      ]
    },
    {
      "cell_type": "code",
      "execution_count": null,
      "metadata": {
        "collapsed": false
      },
      "outputs": [],
      "source": [
        "print(additive.get_materials_list())"
      ]
    },
    {
      "cell_type": "markdown",
      "metadata": {},
      "source": [
        "Obtain the parameters for a single material by passing one of the names\nfrom the materials list to\n`get_material() <ansys.additive.additive.Additive.get_material>`{.interpreted-text\nrole=\"meth\"}.\n"
      ]
    },
    {
      "cell_type": "code",
      "execution_count": null,
      "metadata": {
        "collapsed": false
      },
      "outputs": [],
      "source": [
        "material = additive.get_material(\"316L\")"
      ]
    },
    {
      "cell_type": "markdown",
      "metadata": {},
      "source": [
        "Set Machine Parameters\n======================\n\nSpecify machine parameters by first creating an\n`AdditiveMachine <ansys.additive.machine.AdditiveMachine>`{.interpreted-text\nrole=\"class\"} object then assigning the desired values. All values are\nin SI units (m, kg, s, K) unless otherwise noted.\n"
      ]
    },
    {
      "cell_type": "code",
      "execution_count": null,
      "metadata": {
        "collapsed": false
      },
      "outputs": [],
      "source": [
        "machine = pyadditive.AdditiveMachine()\n\n# Show available parameters\nprint(machine)"
      ]
    },
    {
      "cell_type": "markdown",
      "metadata": {},
      "source": [
        "Set laser power and scan speed\n"
      ]
    },
    {
      "cell_type": "code",
      "execution_count": null,
      "metadata": {
        "collapsed": false
      },
      "outputs": [],
      "source": [
        "machine.scan_speed = 1.2  # m/s\nmachine.laser_power = 250  # W"
      ]
    },
    {
      "cell_type": "markdown",
      "metadata": {},
      "source": [
        "Specify Porosity Simulation Inputs\n==================================\n\nCreate a\n`PorosityInput <ansys.additive.porosity.PorosityInput>`{.interpreted-text\nrole=\"class\"} object containing the desired simulation parameters.\n"
      ]
    },
    {
      "cell_type": "code",
      "execution_count": null,
      "metadata": {
        "collapsed": false
      },
      "outputs": [],
      "source": [
        "input = pyadditive.PorosityInput(\n    machine=machine,\n    material=material,\n    id=\"porosity-example\",\n    size_x=0.001,  # meters\n    size_y=0.001,\n    size_z=0.001,\n)"
      ]
    },
    {
      "cell_type": "markdown",
      "metadata": {},
      "source": [
        "Run Simulation\n==============\n\nUse the\n`simulate() <ansys.additive.additive.Additive.simulate>`{.interpreted-text\nrole=\"meth\"} method on the `additive` object to run the simulation. The\nreturned object is a\n`PorositySummary <ansys.additive.porosity.PorositySummary>`{.interpreted-text\nrole=\"class\"} object containing the input and the relative density of\nthe simulated sample.\n"
      ]
    },
    {
      "cell_type": "code",
      "execution_count": null,
      "metadata": {
        "collapsed": false
      },
      "outputs": [],
      "source": [
        "summary = additive.simulate(input)"
      ]
    },
    {
      "cell_type": "markdown",
      "metadata": {},
      "source": [
        "Print Results\n=============\n"
      ]
    },
    {
      "cell_type": "code",
      "execution_count": null,
      "metadata": {
        "collapsed": false
      },
      "outputs": [],
      "source": [
        "print(f\"For {summary.input.material.name} with \\n\", summary.input.machine)\nprint(f\"\\n    relative density = {round(summary.relative_density, 5)}\")"
      ]
    }
  ],
  "metadata": {
    "kernelspec": {
      "display_name": "Python 3",
      "language": "python",
      "name": "python3"
    },
    "language_info": {
      "codemirror_mode": {
        "name": "ipython",
        "version": 3
      },
      "file_extension": ".py",
      "mimetype": "text/x-python",
      "name": "python",
      "nbconvert_exporter": "python",
      "pygments_lexer": "ipython3",
      "version": "3.10.12"
    }
  },
  "nbformat": 4,
  "nbformat_minor": 0
}