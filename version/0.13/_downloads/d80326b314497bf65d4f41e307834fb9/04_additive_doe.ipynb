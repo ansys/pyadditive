{
  "cells": [
    {
      "cell_type": "code",
      "execution_count": null,
      "metadata": {
        "collapsed": false
      },
      "outputs": [],
      "source": [
        "%matplotlib inline"
      ]
    },
    {
      "cell_type": "markdown",
      "metadata": {},
      "source": [
        "Design Of Experiments\n=====================\n\nThis tutorial shows how you can use PyAdditive to run a design of\nexperiments (DOE). For this DOE we will vary laser power and scan speed\nover multiple single bead simulations and plot the results.\n\nUnits are SI (m, kg, s, K) unless otherwise noted.\n\nFirst, connect to the Additive service.\n"
      ]
    },
    {
      "cell_type": "code",
      "execution_count": null,
      "metadata": {
        "collapsed": false
      },
      "outputs": [],
      "source": [
        "# from matplotlib.colors import LinearSegmentedColormap as colorMap\n# import matplotlib.pyplot as plt\n# import numpy as np\n\n# import ansys.additive as pyadditive\n\n# additive = pyadditive.Additive()"
      ]
    },
    {
      "cell_type": "markdown",
      "metadata": {},
      "source": [
        "Specify Parameters\n==================\n\nHere we create a list of `SingleBeadInput` objects with various laser\npower and scan speed combinations.\n"
      ]
    },
    {
      "cell_type": "code",
      "execution_count": null,
      "metadata": {
        "collapsed": false
      },
      "outputs": [],
      "source": [
        "# bead_length = 0.001\n# material = additive.get_material(\"17-4PH\")\n# initial_powers = [50, 350, 700]\n# initial_scan_speeds = [0.35, 1.25, 2.5]\n# # Use a comprehension to create a list of 9 machines\n# machines = [\n#     pyadditive.AdditiveMachine(laser_power=p, scan_speed=s)\n#     for p in initial_powers\n#     for s in initial_scan_speeds\n# ]\n# inputs = []\n# for count, machine in enumerate(machines):\n#     inputs.append(\n#         pyadditive.SingleBeadInput(\n#             id=f\"single-bead-doe-{count}\",\n#             material=material,\n#             machine=machine,\n#             bead_length=bead_length,\n#         )\n#     )\n\n# ###############################################################################\n# # Run Simulations\n# # ---------------\n# # The ``simulate`` method returns a list of summaries. In this case they are of\n# # type :class:`SingleBeadSummary`.\n\n# summaries = additive.simulate(inputs)"
      ]
    },
    {
      "cell_type": "markdown",
      "metadata": {},
      "source": [
        "Plot Individual Meltpool Statistics\n===================================\n"
      ]
    },
    {
      "cell_type": "code",
      "execution_count": null,
      "metadata": {
        "collapsed": false
      },
      "outputs": [],
      "source": [
        "# import plotly.graph_objects as go\n# summaries.sort(key=lambda s: (s.input.machine.laser_power, s.input.machine.scan_speed))\n\n# traces = []\n# buttons = [\n#     dict(\n#         label=\"All\",\n#         method=\"restyle\",\n#         args=[{\"visible\": True}],\n#         args2=[{\"visible\": False}]),\n# ]\n# for summary in sb_summaries:\n#     meltpool = summary.melt_pool\n#     title = (\n# f\"{summary.input.machine.laser_power} W, {summary.input.machine.scan_speed} m/s,\n# {summary.input.machine.layer_thickness * 1e6} um\"\n# )\n#     # xaxis labelalias for hover text?\n#     traces.append(go.Scatter(x=meltpool.laser_x, y=meltpool.width, name=f\"{title} width\", visible=False))\n#     traces.append(go.Scatter(x=meltpool.laser_x, y=meltpool.depth, name=f\"{title} depth\", visible=False))\n#     traces.append(go.Scatter(x=meltpool.laser_x, y=meltpool.length, name=f\"{title} length\", visible=False))\n#     traces.append(go.Scatter(x=meltpool.laser_x,\n# y=meltpool.reference_width, name=f\"{title} ref width\", visible=False))\n#     traces.append(go.Scatter(x=meltpool.laser_x,\n# y=meltpool.reference_depth, name=f\"{title} ref depth\", visible=False))\n#     buttons.append(\n#         dict(\n#             label=title,\n#             method=\"restyle\",\n#             args=[{\"visible\": True}, [i for i, x in enumerate(traces) if title in x.name]],\n#             args2=[{\"visible\": False}, [i for i, x in enumerate(traces) if title in x.name]],\n#         )\n#     )\n\n\n# layout = go.Layout(\n#     updatemenus=[\n#         dict(\n#             buttons = buttons,\n#             type = \"buttons\",\n#             direction = \"down\",\n#             x = 0,\n#             y = 1.1,\n#             xanchor = \"right\",\n#             yanchor = \"top\",\n#             pad=dict(r=100, t=40),\n#             showactive = True,\n#         )\n#     ],\n#     title=\"Melt Pool Dimensions (toggle buttons to view individual melt pool dimensions)\",\n\n#     showlegend=True,\n#     xaxis=dict(\n#         title=\"meters\",\n#         range=[0, max(sb_summaries[0].melt_pool.laser_x)]\n#     ),\n#     yaxis=dict(\n#         title=\"meters\",\n#         range=[0, sb_summaries[0].input.bead_length*1.05],\n#     ),\n#     margin=dict(l=200, r=20, t=20, b=20),\n# )\n\n# fig = go.Figure(data=traces, layout=layout)\n# fig.update_layout(hovermode=\"x\")\n# #fig.data[0].name\n# fig.show()\n\n\n# ###############################################################################\n# # Plot Meltpool Average Depth Over Width Verses Laser Power And Scan Speed\n# # ------------------------------------------------------------------------\n# # Here we create a \"watermelon\" plot to visualize the optimal laser power\n# # and scan speed combinations.\n\n# # Gather plot values\n# powers = []\n# scan_speeds = []\n# depth_over_width = []\n\n# for s in summaries:\n#     mp = s.melt_pool\n#     ave_width = np.average(mp.width)\n#     ave_depth = np.average(mp.depth)\n#     powers.append(s.input.machine.laser_power)\n#     scan_speeds.append(s.input.machine.scan_speed)\n#     depth_over_width.append(ave_depth / ave_width if ave_width else 0)\n\n# # Create plot, adjust dwMin and dwMax for desired acceptable range.\n# dwMin = 0.37\n# dwMax = 0.6\n# contour_gradient = []\n# marker_colors = []\n# fig, ax = plt.subplots(figsize=(20, 10))\n# for i in range(len(depth_over_width)):\n#     if dwMin < depth_over_width[i] < dwMax:\n#         contour_gradient.append(0)\n#         marker_colors.append(\"blue\")\n#     else:\n#         contour_gradient.append(abs(((dwMax + dwMin) / 2) - depth_over_width[i]))\n#         marker_colors.append(\"black\")\n#     txt = \"{}\".format(round(depth_over_width[i], 2))\n#     ax.annotate(\n#         str(txt),\n#         (scan_speeds[i], powers[i] + 25),\n#         verticalalignment=\"top\",\n#         horizontalalignment=\"center\",\n#     )\n\n# colMap = colorMap.from_list(\"\", [\"green\", \"yellow\", \"red\", \"red\"])\n# ax.tricontourf(scan_speeds, powers, contour_gradient, cmap=colMap, levels=255)\n# ax.scatter(scan_speeds, powers, c=marker_colors, marker=\"d\", s=100, facecolor=\"none\")\n# ax.use_sticky_edges = False\n# ax.margins(0.075)\n# ax.set_title(\"Melt Pool Depth/Width\")\n# ax.set_xlabel(f\"Laser Scan Speed (m/s)\")\n# ax.set_ylabel(f\"Laser Power (W)\")"
      ]
    }
  ],
  "metadata": {
    "kernelspec": {
      "display_name": "Python 3",
      "language": "python",
      "name": "python3"
    },
    "language_info": {
      "codemirror_mode": {
        "name": "ipython",
        "version": 3
      },
      "file_extension": ".py",
      "mimetype": "text/x-python",
      "name": "python",
      "nbconvert_exporter": "python",
      "pygments_lexer": "ipython3",
      "version": "3.10.12"
    }
  },
  "nbformat": 4,
  "nbformat_minor": 0
}