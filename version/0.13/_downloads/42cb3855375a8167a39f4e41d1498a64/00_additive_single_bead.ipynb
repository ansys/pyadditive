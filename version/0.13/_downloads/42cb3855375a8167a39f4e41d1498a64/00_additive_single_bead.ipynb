{
  "cells": [
    {
      "cell_type": "code",
      "execution_count": null,
      "metadata": {
        "collapsed": false
      },
      "outputs": [],
      "source": [
        "%matplotlib inline"
      ]
    },
    {
      "cell_type": "markdown",
      "metadata": {},
      "source": [
        "Single Bead Analysis\n====================\n\nThis tutorial shows how you can use PyAdditive to determine meltpool\ncharacteristics for given material and machine parameter combinations.\n\nUnits are SI (m, kg, s, K) unless otherwise noted.\n\nFirst, connect to the Additive service.\n"
      ]
    },
    {
      "cell_type": "code",
      "execution_count": null,
      "metadata": {
        "collapsed": false
      },
      "outputs": [],
      "source": [
        "import ansys.additive as pyadditive\n\nadditive = pyadditive.Additive()"
      ]
    },
    {
      "cell_type": "markdown",
      "metadata": {},
      "source": [
        "Select Material\n===============\n\nThe next step is a to choose a material. A list of available materials\ncan be obtained using the\n`get_materials_list() <ansys.additive.additive.Additive.get_materials_list>`{.interpreted-text\nrole=\"meth\"} command.\n"
      ]
    },
    {
      "cell_type": "code",
      "execution_count": null,
      "metadata": {
        "collapsed": false
      },
      "outputs": [],
      "source": [
        "print(additive.get_materials_list())"
      ]
    },
    {
      "cell_type": "markdown",
      "metadata": {},
      "source": [
        "Obtain the parameters for a single material by passing one of the names\nfrom the materials list to\n`get_material() <ansys.additive.additive.Additive.get_material>`{.interpreted-text\nrole=\"meth\"}.\n"
      ]
    },
    {
      "cell_type": "code",
      "execution_count": null,
      "metadata": {
        "collapsed": false
      },
      "outputs": [],
      "source": [
        "material = additive.get_material(\"17-4PH\")"
      ]
    },
    {
      "cell_type": "markdown",
      "metadata": {},
      "source": [
        "Set Machine Parameters\n======================\n\nSpecify machine parameters by first creating an\n`AdditiveMachine <ansys.additive.machine.AdditiveMachine>`{.interpreted-text\nrole=\"class\"} object then assigning the desired values. All values are\nin SI units (m, kg, s, K) unless otherwise noted.\n"
      ]
    },
    {
      "cell_type": "code",
      "execution_count": null,
      "metadata": {
        "collapsed": false
      },
      "outputs": [],
      "source": [
        "machine = pyadditive.AdditiveMachine()\n\n# Show available parameters\nprint(machine)"
      ]
    },
    {
      "cell_type": "markdown",
      "metadata": {},
      "source": [
        "Set laser power and scan speed\n"
      ]
    },
    {
      "cell_type": "code",
      "execution_count": null,
      "metadata": {
        "collapsed": false
      },
      "outputs": [],
      "source": [
        "machine.scan_speed = 1  # m/s\nmachine.laser_power = 300  # W"
      ]
    },
    {
      "cell_type": "markdown",
      "metadata": {},
      "source": [
        "Specify Single Bead Simulation Inputs\n=====================================\n\nCreate a\n`SingleBeadInput <ansys.additive.single_bead.SingleBeadInput>`{.interpreted-text\nrole=\"class\"} object containing the desired simulation parameters.\n"
      ]
    },
    {
      "cell_type": "code",
      "execution_count": null,
      "metadata": {
        "collapsed": false
      },
      "outputs": [],
      "source": [
        "input = pyadditive.SingleBeadInput(\n    machine=machine, material=material, id=\"single-bead-example\", bead_length=0.0012  # meters\n)"
      ]
    },
    {
      "cell_type": "markdown",
      "metadata": {},
      "source": [
        "Run Simulation\n==============\n\nUse the\n`simulate() <ansys.additive.additive.Additive.simulate>`{.interpreted-text\nrole=\"meth\"} method of the `additive` object to run the simulation. The\nreturned object is a\n`SingleBeadSummary <ansys.additive.single_bead.SingleBeadSummary>`{.interpreted-text\nrole=\"class\"} containing the input and a\n`MeltPool <ansys.additive.single_bead.MeltPool>`{.interpreted-text\nrole=\"class\"} object.\n"
      ]
    },
    {
      "cell_type": "code",
      "execution_count": null,
      "metadata": {
        "collapsed": false
      },
      "outputs": [],
      "source": [
        "summary = additive.simulate(input)"
      ]
    },
    {
      "cell_type": "markdown",
      "metadata": {},
      "source": [
        "Plot Melt Pool Statistics\n=========================\n\nA `Pandas DataFrame <pandas.DataFrame>`{.interpreted-text role=\"class\"}\ncontaining the melt pool statistics can be obtained using the\n`data_frame() <ansys.additive.single_bead.MeltPool.data_frame>`{.interpreted-text\nrole=\"meth\"} property of the `melt_pool` attribute of the `summary`\nobject. The `plot() <pandas.DataFrame.plot>`{.interpreted-text\nrole=\"meth\"} method can be used to plot the melt pool dimensions as a\nfunction of bead length.\n"
      ]
    },
    {
      "cell_type": "code",
      "execution_count": null,
      "metadata": {
        "collapsed": false
      },
      "outputs": [],
      "source": [
        "df = summary.melt_pool.data_frame.multiply(1e6)  # convert from meters to microns\ndf.index *= 1e3  # convert bead length from meters to millimeters\n\ndf.plot(\n    y=[\"length\", \"width\", \"depth\", \"reference_width\", \"reference_depth\"],\n    ylabel=\"Melt Pool Dimensions (\u00b5m)\",\n    xlabel=\"Bead Length (mm)\",\n    title=\"Melt Pool Dimensions vs Bead Length\",\n)"
      ]
    },
    {
      "cell_type": "markdown",
      "metadata": {},
      "source": [
        "List Melt Pool Statistics\n=========================\n\nA table of the melt pool statistics can be obtained using a [Pandas\nStyler](https://pandas.pydata.org/docs/user_guide/style.html). Here we\nshow only the first few rows using `head()` for brevity.\n"
      ]
    },
    {
      "cell_type": "code",
      "execution_count": null,
      "metadata": {
        "collapsed": false
      },
      "outputs": [],
      "source": [
        "df.head().style.format(\"{:.2f}\").format_index(\"{:.2f}\")"
      ]
    },
    {
      "cell_type": "markdown",
      "metadata": {},
      "source": [
        "Save Melt Pool Statistics\n=========================\n\nThe melt pool statistics can be saved to a CSV file using the\n`to_csv() <pandas.DataFrame.to_csv>`{.interpreted-text role=\"meth\"}\nmethod.\n"
      ]
    },
    {
      "cell_type": "code",
      "execution_count": null,
      "metadata": {
        "collapsed": false
      },
      "outputs": [],
      "source": [
        "df.to_csv(\"melt_pool.csv\")"
      ]
    }
  ],
  "metadata": {
    "kernelspec": {
      "display_name": "Python 3",
      "language": "python",
      "name": "python3"
    },
    "language_info": {
      "codemirror_mode": {
        "name": "ipython",
        "version": 3
      },
      "file_extension": ".py",
      "mimetype": "text/x-python",
      "name": "python",
      "nbconvert_exporter": "python",
      "pygments_lexer": "ipython3",
      "version": "3.10.12"
    }
  },
  "nbformat": 4,
  "nbformat_minor": 0
}