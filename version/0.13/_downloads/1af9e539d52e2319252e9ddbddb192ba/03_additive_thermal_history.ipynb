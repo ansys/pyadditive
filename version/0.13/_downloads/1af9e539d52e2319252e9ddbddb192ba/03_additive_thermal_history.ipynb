{
  "cells": [
    {
      "cell_type": "code",
      "execution_count": null,
      "metadata": {
        "collapsed": false
      },
      "outputs": [],
      "source": [
        "%matplotlib inline"
      ]
    },
    {
      "cell_type": "markdown",
      "metadata": {},
      "source": [
        "Thermal History Analysis\n========================\n\nThis tutorial shows how you can use PyAdditive to determine thermal\nhistory during a build using a simulated coaxial average sensor.\n\nUnits are SI (m, kg, s, K) unless otherwise noted.\n\nFirst, connect to the Additive service.\n"
      ]
    },
    {
      "cell_type": "code",
      "execution_count": null,
      "metadata": {
        "collapsed": false
      },
      "outputs": [],
      "source": [
        "import ansys.additive as pyadditive\n\nadditive = pyadditive.Additive()"
      ]
    },
    {
      "cell_type": "markdown",
      "metadata": {},
      "source": [
        "Model Selection\n===============\n\nThe next step is a to specify a geometry model. Currently, PyAdditive\nsupports two types of geometry specifications, STL files and build\nfiles. A build file in this context is a zip archive containing an STL\nfile describing the geometry, a machine instruction file and zero or\nmore STL files describing support structures. For details of the build\nfile see \\<TBD\\>.\n\nExample build and STL files can be downloaded by importing the examples\nmodule as shown below.\n"
      ]
    },
    {
      "cell_type": "code",
      "execution_count": null,
      "metadata": {
        "collapsed": false
      },
      "outputs": [],
      "source": [
        "import ansys.additive.examples as examples\n\n# Creating an ``StlFile`` object\n# ~~~~~~~~~~~~~~~~~~~~~~~~~~~~~~\n\nstl_name = examples.download_10mm_cube()\nstl_file = pyadditive.StlFile(stl_name)\n\n# Creating a ``BuildFile`` object\n# ~~~~~~~~~~~~~~~~~~~~~~~~~~~~~~~\n\nbuild_file_name = examples.download_small_wedge_slm_build_file()\nbuild_file = pyadditive.BuildFile(pyadditive.MachineType.SLM, build_file_name)"
      ]
    },
    {
      "cell_type": "markdown",
      "metadata": {},
      "source": [
        "Select Material\n===============\n\nThe next step is a to choose a material. A list of available materials\ncan be obtained using the `get_materials_list` command.\n"
      ]
    },
    {
      "cell_type": "code",
      "execution_count": null,
      "metadata": {
        "collapsed": false
      },
      "outputs": [],
      "source": [
        "print(additive.get_materials_list())"
      ]
    },
    {
      "cell_type": "markdown",
      "metadata": {},
      "source": [
        "Obtain the parameters for a single material using one of the names from\nthe list.\n"
      ]
    },
    {
      "cell_type": "code",
      "execution_count": null,
      "metadata": {
        "collapsed": false
      },
      "outputs": [],
      "source": [
        "material = additive.get_material(\"17-4PH\")"
      ]
    },
    {
      "cell_type": "markdown",
      "metadata": {},
      "source": [
        "Set Machine Parameters\n======================\n\nSpecify machine parameters by first creating an `AdditiveMachine` object\nthen assigning the desired values. All values are in SI units (m, kg, s,\nK) unless otherwise noted.\n"
      ]
    },
    {
      "cell_type": "code",
      "execution_count": null,
      "metadata": {
        "collapsed": false
      },
      "outputs": [],
      "source": [
        "machine = pyadditive.AdditiveMachine()\n\n# Show available parameters\nprint(machine)"
      ]
    },
    {
      "cell_type": "markdown",
      "metadata": {},
      "source": [
        "Set laser power and scan speed\n"
      ]
    },
    {
      "cell_type": "code",
      "execution_count": null,
      "metadata": {
        "collapsed": false
      },
      "outputs": [],
      "source": [
        "machine.scan_speed = 1  # m/s\nmachine.laser_power = 500  # W"
      ]
    },
    {
      "cell_type": "markdown",
      "metadata": {},
      "source": [
        "Specify Thermal History Simulation Inputs\n=========================================\n\nCreate a `ThermalHistoryInput` object containing the desired simulation\nparameters. The `ThermalHistoryInput` object contains\n`CoaxialAverageSensorInputs`. `CoaxialAverageSensorInputs` consist of a\nsensor radius and one or more `Range` of z heights.\n"
      ]
    },
    {
      "cell_type": "code",
      "execution_count": null,
      "metadata": {
        "collapsed": false
      },
      "outputs": [],
      "source": [
        "# Values are in meters\nsensor_inputs = pyadditive.CoaxialAverageSensorInputs(\n    radius=5e-4,\n    z_heights=[pyadditive.Range(min=1e-3, max=1.1e-3), pyadditive.Range(min=6.5e-3, max=6.6e-3)],\n)\n\ninput = pyadditive.ThermalHistoryInput(\n    machine=machine,\n    material=material,\n    id=\"thermal-history-example\",\n    geometry=stl_file,\n    coax_ave_sensor_inputs=sensor_inputs,\n)"
      ]
    },
    {
      "cell_type": "markdown",
      "metadata": {},
      "source": [
        "Run Simulation\n==============\n\nUse the `simulate` method of the `additive` object to run the\nsimulation.\n"
      ]
    },
    {
      "cell_type": "code",
      "execution_count": null,
      "metadata": {
        "collapsed": false
      },
      "outputs": [],
      "source": [
        "summary = additive.simulate(input)"
      ]
    },
    {
      "cell_type": "markdown",
      "metadata": {},
      "source": [
        "Plot Thermal History\n====================\n\nYou can plot the thermal history using pyvista as shown below.\n"
      ]
    },
    {
      "cell_type": "code",
      "execution_count": null,
      "metadata": {
        "collapsed": false
      },
      "outputs": [],
      "source": [
        "import glob\nimport os\n\nimport pyvista as pv\n\nvtk_files = glob.glob(os.path.join(summary.coax_ave_output_folder, \"*.vtk\"))\nfor file in vtk_files:\n    plotter = pv.Plotter(window_size=[512, 512])\n    plotter.add_mesh(pv.read(file))\n    title = os.path.splitext(os.path.basename(file))[0]\n    plotter.add_title(title, font_size=8)\n    plotter.show()"
      ]
    }
  ],
  "metadata": {
    "kernelspec": {
      "display_name": "Python 3",
      "language": "python",
      "name": "python3"
    },
    "language_info": {
      "codemirror_mode": {
        "name": "ipython",
        "version": 3
      },
      "file_extension": ".py",
      "mimetype": "text/x-python",
      "name": "python",
      "nbconvert_exporter": "python",
      "pygments_lexer": "ipython3",
      "version": "3.10.12"
    }
  },
  "nbformat": 4,
  "nbformat_minor": 0
}