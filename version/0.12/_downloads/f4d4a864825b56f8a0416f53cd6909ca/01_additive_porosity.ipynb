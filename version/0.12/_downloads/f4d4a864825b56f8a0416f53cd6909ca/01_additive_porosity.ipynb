{
  "cells": [
    {
      "cell_type": "code",
      "execution_count": null,
      "metadata": {
        "collapsed": false
      },
      "outputs": [],
      "source": [
        "%matplotlib inline"
      ]
    },
    {
      "cell_type": "markdown",
      "metadata": {},
      "source": [
        "Porosity Analysis\n=================\n\nThis tutorial shows how you can use PyAdditive to determine porosity for\ngiven material and machine parameter combinations.\n\nUnits are SI (m, kg, s, K) unless otherwise noted.\n\nFirst, connect to the Additive service.\n"
      ]
    },
    {
      "cell_type": "code",
      "execution_count": null,
      "metadata": {
        "collapsed": false
      },
      "outputs": [],
      "source": [
        "import ansys.additive as pyadditive\n\nadditive = pyadditive.Additive()"
      ]
    },
    {
      "cell_type": "markdown",
      "metadata": {},
      "source": [
        "Material Selection\n==================\n\nThe next step is a to choose a material. A list of available materials\ncan be obtained using the `get_materials_list` command.\n"
      ]
    },
    {
      "cell_type": "code",
      "execution_count": null,
      "metadata": {
        "collapsed": false
      },
      "outputs": [],
      "source": [
        "print(additive.get_materials_list())"
      ]
    },
    {
      "cell_type": "markdown",
      "metadata": {},
      "source": [
        "Obtain the parameters for a single material using one of the names from\nthe list.\n"
      ]
    },
    {
      "cell_type": "code",
      "execution_count": null,
      "metadata": {
        "collapsed": false
      },
      "outputs": [],
      "source": [
        "material_name = \"17-4PH\"\nmaterial = additive.get_material(material_name)"
      ]
    },
    {
      "cell_type": "markdown",
      "metadata": {},
      "source": [
        "Machine Parameter Specification\n===============================\n\nSpecify machine parameters by first creating an `AdditiveMachine` object\nthen assigning the desired values. All values are in SI units (m, kg, s,\nK) unless otherwise noted.\n"
      ]
    },
    {
      "cell_type": "code",
      "execution_count": null,
      "metadata": {
        "collapsed": false
      },
      "outputs": [],
      "source": [
        "machine = pyadditive.AdditiveMachine()\n\n# Show available parameters\nprint(machine)"
      ]
    },
    {
      "cell_type": "markdown",
      "metadata": {},
      "source": [
        "Set laser power and scan speed\n"
      ]
    },
    {
      "cell_type": "code",
      "execution_count": null,
      "metadata": {
        "collapsed": false
      },
      "outputs": [],
      "source": [
        "machine.scan_speed = 1.2  # m/s\nmachine.laser_power = 250  # W"
      ]
    },
    {
      "cell_type": "markdown",
      "metadata": {},
      "source": [
        "Specify Porosity Simulation Inputs\n==================================\n\nCreate a `PorosityInput` object containing the desired simulation\nparameters.\n"
      ]
    },
    {
      "cell_type": "code",
      "execution_count": null,
      "metadata": {
        "collapsed": false
      },
      "outputs": [],
      "source": [
        "input = pyadditive.PorosityInput(\n    machine=machine,\n    material=material,\n    id=\"porosity-example\",\n    size_x=0.001,  # in meters (1 mm)\n    size_y=0.001,\n    size_z=0.001,\n)"
      ]
    },
    {
      "cell_type": "markdown",
      "metadata": {},
      "source": [
        "Run Simulation\n==============\n\nUse the `simulate` method of the `additive` object to run the\nsimulation.\n"
      ]
    },
    {
      "cell_type": "code",
      "execution_count": null,
      "metadata": {
        "collapsed": false
      },
      "outputs": [],
      "source": [
        "summary = additive.simulate(input)"
      ]
    },
    {
      "cell_type": "markdown",
      "metadata": {},
      "source": [
        "Print Results\n=============\n\nThe result object has void\\_ratio, powder\\_ratio and solid\\_ratio\nproperties.\n"
      ]
    },
    {
      "cell_type": "code",
      "execution_count": null,
      "metadata": {
        "collapsed": false
      },
      "outputs": [],
      "source": [
        "print(\n    f\"For {material_name} with laser power of {summary.input.machine.laser_power} W\"\n    + f\" and scan speed of {summary.input.machine.scan_speed} m/s:\"\n)\nprint(f\"    solid ratio = {round(summary.solid_ratio, 5)}\")\nprint(f\"    powder ratio = {round(summary.powder_ratio, 5)}\")\nprint(f\"    void ratio = {round(summary.void_ratio, 5)}\")"
      ]
    }
  ],
  "metadata": {
    "kernelspec": {
      "display_name": "Python 3",
      "language": "python",
      "name": "python3"
    },
    "language_info": {
      "codemirror_mode": {
        "name": "ipython",
        "version": 3
      },
      "file_extension": ".py",
      "mimetype": "text/x-python",
      "name": "python",
      "nbconvert_exporter": "python",
      "pygments_lexer": "ipython3",
      "version": "3.10.12"
    }
  },
  "nbformat": 4,
  "nbformat_minor": 0
}