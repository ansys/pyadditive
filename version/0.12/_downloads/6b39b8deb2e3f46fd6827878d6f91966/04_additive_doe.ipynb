{
  "cells": [
    {
      "cell_type": "code",
      "execution_count": null,
      "metadata": {
        "collapsed": false
      },
      "outputs": [],
      "source": [
        "%matplotlib inline"
      ]
    },
    {
      "cell_type": "markdown",
      "metadata": {},
      "source": [
        "Design Of Experiments\n=====================\n\nThis tutorial shows how you can use PyAdditive to run a design of\nexperiments (DOE). For this DOE we will vary laser power and scan speed\nover multiple single bead simulations and plot the results.\n\nUnits are SI (m, kg, s, K) unless otherwise noted.\n\nFirst, connect to the Additive service.\n"
      ]
    },
    {
      "cell_type": "code",
      "execution_count": null,
      "metadata": {
        "collapsed": false
      },
      "outputs": [],
      "source": [
        "from matplotlib.colors import LinearSegmentedColormap as colorMap\nimport matplotlib.pyplot as plt\nimport numpy as np\n\nimport ansys.additive as pyadditive\n\nadditive = pyadditive.Additive()"
      ]
    },
    {
      "cell_type": "markdown",
      "metadata": {},
      "source": [
        "Specify Parameters\n==================\n\nHere we create a list of `SingleBeadInput` objects with various laser\npower and scan speed combinations.\n"
      ]
    },
    {
      "cell_type": "code",
      "execution_count": null,
      "metadata": {
        "collapsed": false
      },
      "outputs": [],
      "source": [
        "bead_length = 0.001\nmaterial = additive.get_material(\"17-4PH\")\ninitial_powers = [50, 350, 700]\ninitial_scan_speeds = [0.35, 1.25, 2.5]\n# Use a comprehension to create a list of 9 machines\nmachines = [\n    pyadditive.AdditiveMachine(laser_power=p, scan_speed=s)\n    for p in initial_powers\n    for s in initial_scan_speeds\n]\ninputs = []\nfor count, machine in enumerate(machines):\n    inputs.append(\n        pyadditive.SingleBeadInput(\n            id=f\"single-bead-doe-{count}\",\n            material=material,\n            machine=machine,\n            bead_length=bead_length,\n        )\n    )"
      ]
    },
    {
      "cell_type": "markdown",
      "metadata": {},
      "source": [
        "Run Simulations\n===============\n\nThe `simulate` method returns a list of summaries. In this case they are\nof type `SingleBeadSummary`{.interpreted-text role=\"class\"}.\n"
      ]
    },
    {
      "cell_type": "code",
      "execution_count": null,
      "metadata": {
        "collapsed": false
      },
      "outputs": [],
      "source": [
        "summaries = additive.simulate(inputs)"
      ]
    },
    {
      "cell_type": "markdown",
      "metadata": {},
      "source": [
        "Plot Individual Meltpool Statistics\n===================================\n"
      ]
    },
    {
      "cell_type": "code",
      "execution_count": null,
      "metadata": {
        "collapsed": false
      },
      "outputs": [],
      "source": [
        "summaries.sort(key=lambda s: (s.input.machine.laser_power, s.input.machine.scan_speed))\nnrows = len(initial_powers)\nncols = len(initial_scan_speeds)\nfig, axs = plt.subplots(nrows, ncols, figsize=(15, 15), layout=\"constrained\")\nfor r in range(nrows):\n    for c in range(ncols):\n        i = r * nrows + c\n        mp = summaries[i].melt_pool\n        axs[r][c].plot(mp.laser_x, mp.width, label=\"width\")\n        axs[r][c].plot(mp.laser_x, mp.reference_width, label=\"ref width\")\n        axs[r][c].plot(mp.laser_x, mp.depth, label=\"depth\")\n        axs[r][c].plot(mp.laser_x, mp.reference_depth, label=\"ref depth\")\n        axs[r][c].plot(mp.laser_x, mp.length, label=\"length\")\n        axs[r][c].legend()\n        axs[r][c].set_xlabel(f\"Bead Length (m)\")\n        axs[r][c].set_ylabel(f\"Melt Pool (m)\")\n        title = (\n            \"Power \"\n            + str(summaries[i].input.machine.laser_power)\n            + \"W, Scan Speed \"\n            + str(summaries[i].input.machine.scan_speed)\n            + \"m/s\"\n        )\n        axs[r][c].set_title(title)"
      ]
    },
    {
      "cell_type": "markdown",
      "metadata": {},
      "source": [
        "Plot Meltpool Average Depth Over Width Verses Laser Power And Scan Speed\n========================================================================\n\nHere we create a \\\"watermelon\\\" plot to visualize the optimal laser\npower and scan speed combinations.\n"
      ]
    },
    {
      "cell_type": "code",
      "execution_count": null,
      "metadata": {
        "collapsed": false
      },
      "outputs": [],
      "source": [
        "# Gather plot values\npowers = []\nscan_speeds = []\ndepth_over_width = []\n\nfor s in summaries:\n    mp = s.melt_pool\n    ave_width = np.average(mp.width)\n    ave_depth = np.average(mp.depth)\n    powers.append(s.input.machine.laser_power)\n    scan_speeds.append(s.input.machine.scan_speed)\n    depth_over_width.append(ave_depth / ave_width if ave_width else 0)\n\n# Create plot, adjust dwMin and dwMax for desired acceptable range.\ndwMin = 0.37\ndwMax = 0.6\ncontour_gradient = []\nmarker_colors = []\nfig, ax = plt.subplots(figsize=(20, 10))\nfor i in range(len(depth_over_width)):\n    if dwMin < depth_over_width[i] < dwMax:\n        contour_gradient.append(0)\n        marker_colors.append(\"blue\")\n    else:\n        contour_gradient.append(abs(((dwMax + dwMin) / 2) - depth_over_width[i]))\n        marker_colors.append(\"black\")\n    txt = \"{}\".format(round(depth_over_width[i], 2))\n    ax.annotate(\n        str(txt),\n        (scan_speeds[i], powers[i] + 25),\n        verticalalignment=\"top\",\n        horizontalalignment=\"center\",\n    )\n\ncolMap = colorMap.from_list(\"\", [\"green\", \"yellow\", \"red\", \"red\"])\nax.tricontourf(scan_speeds, powers, contour_gradient, cmap=colMap, levels=255)\nax.scatter(scan_speeds, powers, c=marker_colors, marker=\"d\", s=100, facecolor=\"none\")\nax.use_sticky_edges = False\nax.margins(0.075)\nax.set_title(\"Melt Pool Depth/Width\")\nax.set_xlabel(f\"Laser Scan Speed (m/s)\")\nax.set_ylabel(f\"Laser Power (W)\")"
      ]
    }
  ],
  "metadata": {
    "kernelspec": {
      "display_name": "Python 3",
      "language": "python",
      "name": "python3"
    },
    "language_info": {
      "codemirror_mode": {
        "name": "ipython",
        "version": 3
      },
      "file_extension": ".py",
      "mimetype": "text/x-python",
      "name": "python",
      "nbconvert_exporter": "python",
      "pygments_lexer": "ipython3",
      "version": "3.10.12"
    }
  },
  "nbformat": 4,
  "nbformat_minor": 0
}