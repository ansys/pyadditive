{
  "cells": [
    {
      "cell_type": "code",
      "execution_count": null,
      "metadata": {
        "collapsed": false
      },
      "outputs": [],
      "source": [
        "%matplotlib inline"
      ]
    },
    {
      "cell_type": "markdown",
      "metadata": {},
      "source": [
        "Microstructure Analysis\n=======================\n\nThis tutorial shows how you can use PyAdditive to determine the\nmicrostructure for a sample coupon with given material and machine\nparameters.\n\nUnits are SI (m, kg, s, K) unless otherwise noted.\n\nFirst, connect to the Additive service.\n"
      ]
    },
    {
      "cell_type": "code",
      "execution_count": null,
      "metadata": {
        "collapsed": false
      },
      "outputs": [],
      "source": [
        "import ansys.additive as pyadditive\n\nadditive = pyadditive.Additive()"
      ]
    },
    {
      "cell_type": "markdown",
      "metadata": {},
      "source": [
        "Material Selection\n==================\n\nThe next step is a to choose a material. A list of available materials\ncan be obtained using the `get_materials_list` command.\n"
      ]
    },
    {
      "cell_type": "code",
      "execution_count": null,
      "metadata": {
        "collapsed": false
      },
      "outputs": [],
      "source": [
        "print(additive.get_materials_list())"
      ]
    },
    {
      "cell_type": "markdown",
      "metadata": {},
      "source": [
        "Obtain the parameters for a single material using one of the names from\nthe list.\n"
      ]
    },
    {
      "cell_type": "code",
      "execution_count": null,
      "metadata": {
        "collapsed": false
      },
      "outputs": [],
      "source": [
        "material = additive.get_material(\"17-4PH\")"
      ]
    },
    {
      "cell_type": "markdown",
      "metadata": {},
      "source": [
        "Machine Parameter Specification\n===============================\n\nSpecify machine parameters by first creating an `AdditiveMachine` object\nthen assigning the desired values. All values are in SI units (m, kg, s,\nK) unless otherwise noted.\n"
      ]
    },
    {
      "cell_type": "code",
      "execution_count": null,
      "metadata": {
        "collapsed": false
      },
      "outputs": [],
      "source": [
        "machine = pyadditive.AdditiveMachine()\n\n# Show available parameters\nprint(machine)"
      ]
    },
    {
      "cell_type": "markdown",
      "metadata": {},
      "source": [
        "Set laser power and scan speed\n"
      ]
    },
    {
      "cell_type": "code",
      "execution_count": null,
      "metadata": {
        "collapsed": false
      },
      "outputs": [],
      "source": [
        "machine.scan_speed = 1  # m/s\nmachine.laser_power = 500  # W"
      ]
    },
    {
      "cell_type": "markdown",
      "metadata": {},
      "source": [
        "Specify Microstructure Simulation Inputs\n========================================\n\nMicrostructure simulation inputs can either include thermal parameters\nor not. Thermal parameters consist of `cooling_rate`,\n`thermal_gradient`, `melt_pool_width` and `melt_pool_depth`. If thermal\nparameters are not specified, the thermal solver will be used to obtain\nthe parameters prior to running the microstructure solver.\n"
      ]
    },
    {
      "cell_type": "code",
      "execution_count": null,
      "metadata": {
        "collapsed": false
      },
      "outputs": [],
      "source": [
        "# Specifying microstructure inputs with thermal parameters\ninput_with_thermal = pyadditive.MicrostructureInput(\n    machine=machine,\n    material=material,\n    id=\"micro-with-thermal\",\n    sensor_dimension=0.0005,\n    sample_size_x=0.001,  # in meters (1 mm), must be >= sensor_dimension + 0.0005\n    sample_size_y=0.001,  # in meters (1 mm), must be >= sensor_dimension + 0.0005\n    sample_size_z=0.0015,  # in meters (1 mm), must be >= sensor_dimension + 0.001\n    use_provided_thermal_parameters=True,\n    cooling_rate=1.1e6,  # \u00b0K/s\n    thermal_gradient=1.2e7,  # \u00b0K/m\n    melt_pool_width=1.5e-4,  # meters (150 microns)\n    melt_pool_depth=1.1e-4,  # meters (110 microns)\n)\n\n# Specifying microstructure inputs without thermal parameters\ninput_without_thermal = pyadditive.MicrostructureInput(\n    machine=machine,\n    material=material,\n    id=\"micro-without-thermal\",\n    sensor_dimension=0.0005,\n    sample_size_x=0.001,  # in meters (1 mm), must be >= sensor_dimension + 0.0005\n    sample_size_y=0.001,  # in meters (1 mm), must be >= sensor_dimension + 0.0005\n    sample_size_z=0.0015,  # in meters (1 mm), must be >= sensor_dimension + 0.001\n    # use_provided_thermal_parameters defaults to False\n)"
      ]
    },
    {
      "cell_type": "markdown",
      "metadata": {},
      "source": [
        "Run Simulation\n==============\n\nUse the `simulate` method of the `additive` object to run the\nsimulation.\n"
      ]
    },
    {
      "cell_type": "code",
      "execution_count": null,
      "metadata": {
        "collapsed": false
      },
      "outputs": [],
      "source": [
        "summary = additive.simulate(input_with_thermal)"
      ]
    },
    {
      "cell_type": "markdown",
      "metadata": {},
      "source": [
        "Plot Results\n============\n\nThe microstructure simulation results include three VTK files, one for\neach of the XY, XZ and YZ planes. Each of the files contains data sets\nfor grain orientation, boundaries and number. In addition, the results\ninclude grain statistics. See `MicrostructureSummary`{.interpreted-text\nrole=\"class\"}.\n"
      ]
    },
    {
      "cell_type": "code",
      "execution_count": null,
      "metadata": {
        "collapsed": false
      },
      "outputs": [],
      "source": [
        "from matplotlib import colors\nfrom matplotlib.colors import LinearSegmentedColormap as colorMap\nimport matplotlib.pyplot as plt\nfrom matplotlib.ticker import PercentFormatter\n\n# import plotting dependencies\nimport pyvista as pv"
      ]
    },
    {
      "cell_type": "markdown",
      "metadata": {},
      "source": [
        "Plot Grain 2D Visualtions\n=========================\n"
      ]
    },
    {
      "cell_type": "code",
      "execution_count": null,
      "metadata": {
        "collapsed": false
      },
      "outputs": [],
      "source": [
        "# Function to plot the planar data\ndef plot_microstructure(\n    xy_data: any, xz_data: any, yz_data: any, scalars: str, cmap: colors.LinearSegmentedColormap\n):\n    \"\"\"Convenience function to plot microstructure VTK data.\"\"\"\n    font_size = 8\n    plotter = pv.Plotter(shape=(2, 2), lighting=\"three lights\")\n    plotter.show_axes_all()\n    plotter.add_mesh(xy_data, cmap=cmap, scalars=scalars)\n    plotter.add_title(\"XY Plane\", font_size=font_size)\n\n    plotter.subplot(0, 1)\n    plotter.add_mesh(xz_data, cmap=cmap, scalars=scalars)\n    plotter.add_title(\"XZ Plane\", font_size=font_size)\n\n    plotter.subplot(1, 0)\n    plotter.add_mesh(yz_data, cmap=cmap, scalars=scalars)\n    plotter.add_title(\"YZ Plane\", font_size=font_size)\n\n    plotter.subplot(1, 1)\n    plotter.add_mesh(xy_data, cmap=cmap, scalars=scalars)\n    plotter.add_mesh(xz_data, cmap=cmap, scalars=scalars)\n    plotter.add_mesh(yz_data, cmap=cmap, scalars=scalars)\n    plotter.add_title(\"Combined\", font_size=font_size)\n\n    return plotter\n\n\n# Read VTK data into pyvista.DataSet objects\nxy = pv.read(summary.xy_vtk)\nxz = pv.read(summary.xz_vtk)\nyz = pv.read(summary.yz_vtk)\n\n# Create colormap to use with boundary plot\nwhite_black_cmap = colorMap.from_list(\"whiteblack\", [\"white\", \"black\"])\n\nplot_microstructure(xy, xz, yz, \"GrainBoundaries\", white_black_cmap).show(title=\"Grain Boundaries\")\nplot_microstructure(xy, xz, yz, \"Orientation_(deg)\", \"spectral\").show(title=\"Orientation \u00b0\")\nplot_microstructure(xy, xz, yz, \"GrainNumber\", None).show(title=\"Grain Number\")"
      ]
    },
    {
      "cell_type": "markdown",
      "metadata": {},
      "source": [
        "Plot Grain Statistics\n=====================\n"
      ]
    },
    {
      "cell_type": "code",
      "execution_count": null,
      "metadata": {
        "collapsed": false
      },
      "outputs": [],
      "source": [
        "# Function to simplify plotting grain statistics\ndef add_grain_statistics_to_figure(\n    plane_data: dict, plane_str: str, diameter_axes: plt.Axes, orientation_axes: plt.Axes\n):\n    \"\"\"Convenience function to add grain statistic plots to a figure.\"\"\"\n    xmax = len(plane_data[\"diameter_um\"])\n    diameter_axes.hist(plane_data[\"diameter_um\"], bins=20, rwidth=0.75)\n    diameter_axes.set_xlabel(f\"Grain Diameter (\u00b5m)\")\n    diameter_axes.set_ylabel(\"Area Fraction\")\n    diameter_axes.set_title(plane_str.upper() + \" Grain Size Distribution\")\n    diameter_axes.yaxis.set_major_formatter(PercentFormatter(xmax=xmax))\n    orientation_axes.hist(plane_data[\"orientation_angle\"], bins=9, rwidth=0.75)\n    orientation_axes.yaxis.set_major_formatter(PercentFormatter(xmax=xmax))\n    orientation_axes.set_xlabel(f\"Orientation Angle (\u00b0)\")\n    orientation_axes.set_ylabel(\"Number Fraction\")\n    orientation_axes.set_title(plane_str.upper() + \" Orientation Angle\")\n\n\n# Create figure for grain statistics\nfig, axs = plt.subplots(3, 2, figsize=(10, 15), tight_layout=True)\nfig.suptitle(\"Circle Equivalence Grain Data\", fontsize=16)\nadd_grain_statistics_to_figure(summary.xy_circle_equivalence, \"xy\", axs[0][0], axs[0][1])\nadd_grain_statistics_to_figure(summary.xz_circle_equivalence, \"xz\", axs[1][0], axs[1][1])\nadd_grain_statistics_to_figure(summary.yz_circle_equivalence, \"yz\", axs[2][0], axs[2][1])\nplt.show()"
      ]
    }
  ],
  "metadata": {
    "kernelspec": {
      "display_name": "Python 3",
      "language": "python",
      "name": "python3"
    },
    "language_info": {
      "codemirror_mode": {
        "name": "ipython",
        "version": 3
      },
      "file_extension": ".py",
      "mimetype": "text/x-python",
      "name": "python",
      "nbconvert_exporter": "python",
      "pygments_lexer": "ipython3",
      "version": "3.10.12"
    }
  },
  "nbformat": 4,
  "nbformat_minor": 0
}