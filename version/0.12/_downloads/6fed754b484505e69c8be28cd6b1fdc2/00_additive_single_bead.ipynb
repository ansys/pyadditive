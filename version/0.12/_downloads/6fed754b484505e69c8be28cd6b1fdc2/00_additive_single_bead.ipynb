{
  "cells": [
    {
      "cell_type": "code",
      "execution_count": null,
      "metadata": {
        "collapsed": false
      },
      "outputs": [],
      "source": [
        "%matplotlib inline"
      ]
    },
    {
      "cell_type": "markdown",
      "metadata": {},
      "source": [
        "Single Bead Analysis\n====================\n\nThis tutorial shows how you can use PyAdditive to determine meltpool\ncharacteristics for given material and machine parameter combinations.\n\nUnits are SI (m, kg, s, K) unless otherwise noted.\n\nFirst, connect to the Additive service.\n"
      ]
    },
    {
      "cell_type": "code",
      "execution_count": null,
      "metadata": {
        "collapsed": false
      },
      "outputs": [],
      "source": [
        "import matplotlib.pyplot as plt\n\nimport ansys.additive as pyadditive\n\nadditive = pyadditive.Additive()"
      ]
    },
    {
      "cell_type": "markdown",
      "metadata": {},
      "source": [
        "Material Selection\n==================\n\nThe next step is a to choose a material. A list of available materials\ncan be obtained using the `get_materials_list` command.\n"
      ]
    },
    {
      "cell_type": "code",
      "execution_count": null,
      "metadata": {
        "collapsed": false
      },
      "outputs": [],
      "source": [
        "print(additive.get_materials_list())"
      ]
    },
    {
      "cell_type": "markdown",
      "metadata": {},
      "source": [
        "Obtain the parameters for a single material using one of the names from\nthe list.\n"
      ]
    },
    {
      "cell_type": "code",
      "execution_count": null,
      "metadata": {
        "collapsed": false
      },
      "outputs": [],
      "source": [
        "material = additive.get_material(\"17-4PH\")"
      ]
    },
    {
      "cell_type": "markdown",
      "metadata": {},
      "source": [
        "Machine Parameter Specification\n===============================\n\nSpecify machine parameters by first creating an `AdditiveMachine` object\nthen assigning the desired values. All values are in SI units (m, kg, s,\nK) unless otherwise noted.\n"
      ]
    },
    {
      "cell_type": "code",
      "execution_count": null,
      "metadata": {
        "collapsed": false
      },
      "outputs": [],
      "source": [
        "machine = pyadditive.AdditiveMachine()\n\n# Show available parameters\nprint(machine)"
      ]
    },
    {
      "cell_type": "markdown",
      "metadata": {},
      "source": [
        "Set laser power and scan speed\n"
      ]
    },
    {
      "cell_type": "code",
      "execution_count": null,
      "metadata": {
        "collapsed": false
      },
      "outputs": [],
      "source": [
        "machine.scan_speed = 1  # m/s\nmachine.laser_power = 300  # W"
      ]
    },
    {
      "cell_type": "markdown",
      "metadata": {},
      "source": [
        "Specify Single Bead Simulation Inputs\n=====================================\n\nCreate a `SingleBeadInput` object containing the desired simulation\nparameters.\n"
      ]
    },
    {
      "cell_type": "code",
      "execution_count": null,
      "metadata": {
        "collapsed": false
      },
      "outputs": [],
      "source": [
        "input = pyadditive.SingleBeadInput(\n    machine=machine, material=material, id=\"single-bead-example\", bead_length=0.0012  # meters\n)"
      ]
    },
    {
      "cell_type": "markdown",
      "metadata": {},
      "source": [
        "Run Simulation\n==============\n\nUse the `simulate` method of the `additive` object to run the\nsimulation.\n"
      ]
    },
    {
      "cell_type": "code",
      "execution_count": null,
      "metadata": {
        "collapsed": false
      },
      "outputs": [],
      "source": [
        "summary = additive.simulate(input)"
      ]
    },
    {
      "cell_type": "markdown",
      "metadata": {},
      "source": [
        "Plot Melt Pool Statistics\n=========================\n\nYou can plot the melt pool statistics using matplotlib.\n"
      ]
    },
    {
      "cell_type": "code",
      "execution_count": null,
      "metadata": {
        "collapsed": false
      },
      "outputs": [],
      "source": [
        "_, ax = plt.subplots()\nmp = summary.melt_pool\nax.plot(mp.laser_x, mp.length, label=\"length\")\nax.plot(mp.laser_x, mp.width, label=\"width\")\nax.plot(mp.laser_x, mp.depth, label=\"depth\")\nax.plot(mp.laser_x, mp.reference_width, label=\"reference_width\")\nax.plot(mp.laser_x, mp.reference_depth, label=\"reference_depth\")\nax.legend()\nax.set_xlabel(\"Bead Length (m)\")\nax.set_ylabel(\"Melt Pool (m)\")\nax.set_title(\"Melt Pool Statistics\")\n\nplt.show()"
      ]
    }
  ],
  "metadata": {
    "kernelspec": {
      "display_name": "Python 3",
      "language": "python",
      "name": "python3"
    },
    "language_info": {
      "codemirror_mode": {
        "name": "ipython",
        "version": 3
      },
      "file_extension": ".py",
      "mimetype": "text/x-python",
      "name": "python",
      "nbconvert_exporter": "python",
      "pygments_lexer": "ipython3",
      "version": "3.10.12"
    }
  },
  "nbformat": 4,
  "nbformat_minor": 0
}