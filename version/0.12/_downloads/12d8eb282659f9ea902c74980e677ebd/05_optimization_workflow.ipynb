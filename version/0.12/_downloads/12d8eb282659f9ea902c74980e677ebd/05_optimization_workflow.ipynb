{
  "cells": [
    {
      "cell_type": "code",
      "execution_count": null,
      "metadata": {
        "collapsed": false
      },
      "outputs": [],
      "source": [
        "%matplotlib inline"
      ]
    },
    {
      "cell_type": "markdown",
      "metadata": {},
      "source": [
        "Optimization Workflow Analysis\n==============================\n\nThis tutorial shows how you can use PyAdditive to perform machine\nparameter optimization.\n\nUnits are SI (m, kg, s, K) unless otherwise noted.\n\nFirst, connect to the Additive service.\n"
      ]
    },
    {
      "cell_type": "code",
      "execution_count": null,
      "metadata": {
        "collapsed": false
      },
      "outputs": [],
      "source": [
        "from matplotlib import colors\nfrom matplotlib.colors import LinearSegmentedColormap as colorMap\nimport matplotlib.pyplot as plt\nfrom matplotlib.ticker import PercentFormatter\nimport numpy as np\nimport pyvista as pv\n\nimport ansys.additive as pyadditive\n\nadditive = pyadditive.Additive()"
      ]
    },
    {
      "cell_type": "markdown",
      "metadata": {},
      "source": [
        "Perform A Single Bead Evaluation\n================================\n\nHere we simulate multiple single beads using various laser power and\nscan speed combinations.\n"
      ]
    },
    {
      "cell_type": "code",
      "execution_count": null,
      "metadata": {
        "collapsed": false
      },
      "outputs": [],
      "source": [
        "# Select a material to use for the evaluation\nmaterial = additive.get_material(\"17-4PH\")\n\n# Specify the laser power and scan speed values to use\ninitial_powers = [50, 170, 340, 510, 700]\ninitial_scan_speeds = [0.35, 0.75, 1.25, 1.75, 2.25, 2.5]\n\n# Specify length of the bead\nbead_length = 0.001\n\n# Create a list of machines, one per power and scan speed combination.\n# We use a comprehension to create the list.\nmachines = [\n    pyadditive.AdditiveMachine(laser_power=p, scan_speed=s)\n    for p in initial_powers\n    for s in initial_scan_speeds\n]\ninputs = []\nfor count, machine in enumerate(machines):\n    inputs.append(\n        pyadditive.SingleBeadInput(\n            id=f\"single-bead-opt-{count}\",\n            material=material,\n            machine=machine,\n            bead_length=bead_length,\n        )\n    )"
      ]
    },
    {
      "cell_type": "markdown",
      "metadata": {},
      "source": [
        "Run The Simulations\n===================\n\nThe `simulate` method returns a list of summaries. In this case they are\nof type `SingleBeadSummary`{.interpreted-text role=\"class\"}.\n"
      ]
    },
    {
      "cell_type": "code",
      "execution_count": null,
      "metadata": {
        "collapsed": false
      },
      "outputs": [],
      "source": [
        "sb_summaries = additive.simulate(inputs)"
      ]
    },
    {
      "cell_type": "markdown",
      "metadata": {},
      "source": [
        "Plot Individual Meltpool Statistics\n===================================\n"
      ]
    },
    {
      "cell_type": "code",
      "execution_count": null,
      "metadata": {
        "collapsed": false
      },
      "outputs": [],
      "source": [
        "sb_summaries.sort(key=lambda s: (s.input.machine.laser_power, s.input.machine.scan_speed))\nnrows = len(initial_powers)\nncols = len(initial_scan_speeds)\nfig, axs = plt.subplots(nrows, ncols, figsize=(15, 15), layout=\"constrained\")\nfor r in range(nrows):\n    for c in range(ncols):\n        i = r * nrows + c\n        mp = sb_summaries[i].melt_pool\n        axs[r][c].plot(mp.laser_x, mp.width, label=\"width\")\n        axs[r][c].plot(mp.laser_x, mp.reference_width, label=\"ref width\")\n        axs[r][c].plot(mp.laser_x, mp.depth, label=\"depth\")\n        axs[r][c].plot(mp.laser_x, mp.reference_depth, label=\"ref depth\")\n        axs[r][c].plot(mp.laser_x, mp.length, label=\"length\")\n        axs[r][c].legend()\n        axs[r][c].set_xlabel(f\"Bead Length (m)\")\n        axs[r][c].set_ylabel(f\"Melt Pool (m)\")\n        title = (\n            \"Power \"\n            + str(sb_summaries[i].input.machine.laser_power)\n            + \"W, Scan Speed \"\n            + str(sb_summaries[i].input.machine.scan_speed)\n            + \"m/s\"\n        )\n        axs[r][c].set_title(title)"
      ]
    },
    {
      "cell_type": "markdown",
      "metadata": {},
      "source": [
        "Plot Meltpool Average Depth Over Width Verses Laser Power And Scan Speed\n========================================================================\n\nHere we create a \\\"watermelon\\\" plot to visualize the desired range for\nlaser power and scan speed. The criteria used is the melt pool average\ndepth over width. The acceptable range is defined by `dwMin` and `dwMax`\nbelow. The combinations that fall in this range will be used in the\nporosity evaluation.\n"
      ]
    },
    {
      "cell_type": "code",
      "execution_count": null,
      "metadata": {
        "collapsed": false
      },
      "outputs": [],
      "source": [
        "# Gather plot values\npowers = []\nscan_speeds = []\ndepth_over_width = []\n\nfor s in sb_summaries:\n    mp = s.melt_pool\n    ave_width = np.average(mp.width)\n    ave_depth = np.average(mp.depth)\n    powers.append(s.input.machine.laser_power)\n    scan_speeds.append(s.input.machine.scan_speed)\n    depth_over_width.append(ave_depth / ave_width if ave_width else 0)\n\n# Create plot, adjust dwMin and dwMax for desired acceptable range.\ndwMin = 0.37\ndwMax = 0.6\ncontour_gradient = []\nmarker_colors = []\nfig, ax = plt.subplots(figsize=(20, 10))\nfor i in range(len(depth_over_width)):\n    if dwMin < depth_over_width[i] < dwMax:\n        contour_gradient.append(0)\n        marker_colors.append(\"blue\")\n    else:\n        contour_gradient.append(abs(((dwMax + dwMin) / 2) - depth_over_width[i]))\n        marker_colors.append(\"black\")\n    txt = \"{}\".format(round(depth_over_width[i], 2))\n    ax.annotate(\n        str(txt),\n        (scan_speeds[i], powers[i] + 25),\n        verticalalignment=\"top\",\n        horizontalalignment=\"center\",\n    )\n\ncolMap = colorMap.from_list(\"\", [\"green\", \"yellow\", \"red\", \"red\"])\nax.tricontourf(scan_speeds, powers, contour_gradient, cmap=colMap, levels=255)\nax.scatter(scan_speeds, powers, c=marker_colors, marker=\"d\", s=100, facecolor=\"none\")\nax.use_sticky_edges = False\nax.margins(0.075)\nax.set_title(\"Melt Pool Depth/Width\")\nax.set_xlabel(f\"Laser Scan Speed (m/s)\")\nax.set_ylabel(f\"Laser Power (W)\")"
      ]
    },
    {
      "cell_type": "markdown",
      "metadata": {},
      "source": [
        "Perform A Porosity Evaluation\n=============================\n\nHere we filter the results from the single bead simulations and combine\nthem with various hatch spacing values to run porosity simulations. The\nfilter criteria used is a range of average meltpool depth over width\nvalues. This range is defined by `dwMin` and `dwMax` above.\n"
      ]
    },
    {
      "cell_type": "code",
      "execution_count": null,
      "metadata": {
        "collapsed": false
      },
      "outputs": [],
      "source": [
        "# Determine laser power and scan speed combinations of interest\n# We narrow the range from what was used earlier only to reduce simulation time\ndwMin = 0.45\ndwMax = 0.55\nps_of_interest = []\nfor i, dw in enumerate(depth_over_width):\n    if dwMin < dw < dwMax:\n        ps_of_interest.append((powers[i], scan_speeds[i]))\n\n# Vary hatch spacing, valid hatch spacing: 6e-5 to 2e-4\nhatch_spacings = [6e-5, 1e-4, 2e-4]\n\n# Create a list of machines\nmachines = [\n    pyadditive.AdditiveMachine(laser_power=ps[0], scan_speed=ps[1], hatch_spacing=h)\n    for ps in ps_of_interest\n    for h in hatch_spacings\n]\n\n# Create a list of PorosityInputs, one per machine\ninputs = []\nfor count, machine in enumerate(machines):\n    inputs.append(\n        pyadditive.PorosityInput(\n            id=f\"porosity-opt-{count}\",\n            material=material,\n            machine=machine,\n            size_x=0.001,\n            size_y=0.001,\n            size_z=0.001,\n        )\n    )\n\n# Run the simulations\nporosity_summaries = additive.simulate(inputs)"
      ]
    },
    {
      "cell_type": "markdown",
      "metadata": {},
      "source": [
        "Perform A Microstructure Evaluation\n===================================\n\nHere we filter the results of the porosity simulations based upon the\nsolid ratio value. For results above this value we run microstructure\nsimulations to determine if the resulting build has the desired grain\nproperties.\n"
      ]
    },
    {
      "cell_type": "code",
      "execution_count": null,
      "metadata": {
        "collapsed": false
      },
      "outputs": [],
      "source": [
        "# Specify the minimum acceptable solid ratio\nmin_solid_ratio = 0.99\n\n# Create a list of machines with the properties of the porosity summaries\n# which meet the solid ratio criteria\nmachines = [\n    pyadditive.AdditiveMachine(\n        beam_diameter=p.input.machine.beam_diameter,\n        hatch_spacing=p.input.machine.hatch_spacing,\n        heater_temperature=p.input.machine.heater_temperature,\n        laser_power=p.input.machine.laser_power,\n        layer_rotation_angle=p.input.machine.layer_rotation_angle,\n        layer_thickness=p.input.machine.layer_thickness,\n        scan_speed=p.input.machine.scan_speed,\n        slicing_stripe_width=p.input.machine.slicing_stripe_width,\n        starting_layer_angle=p.input.machine.starting_layer_angle,\n    )\n    for p in porosity_summaries\n    if p.solid_ratio >= min_solid_ratio\n]\n\n# Create simulation inputs, one per machine\ninputs = []\nfor count, machine in enumerate(machines):\n    inputs.append(\n        pyadditive.MicrostructureInput(id=f\"micro-opt-{count}\", material=material, machine=machine)\n    )\n\n# Run the simulations\nmicro_summaries = additive.simulate(inputs)"
      ]
    },
    {
      "cell_type": "markdown",
      "metadata": {},
      "source": [
        "Plot Grain 2D Visualtions\n=========================\n\nFor the plots that follow, we use only the first microstructure summary.\nPlotting the remaining summaries is similar.\n"
      ]
    },
    {
      "cell_type": "code",
      "execution_count": null,
      "metadata": {
        "collapsed": false
      },
      "outputs": [],
      "source": [
        "# Function to plot the planar data\ndef plot_microstructure(\n    xy_data: any, xz_data: any, yz_data: any, scalars: str, cmap: colors.LinearSegmentedColormap\n):\n    \"\"\"Convenience function to plot microstructure VTK data.\"\"\"\n    font_size = 8\n    plotter = pv.Plotter(shape=(2, 2), lighting=\"three lights\")\n    plotter.show_axes_all()\n    plotter.add_mesh(xy_data, cmap=cmap, scalars=scalars)\n    plotter.add_title(\"XY Plane\", font_size=font_size)\n\n    plotter.subplot(0, 1)\n    plotter.add_mesh(xz_data, cmap=cmap, scalars=scalars)\n    plotter.add_title(\"XZ Plane\", font_size=font_size)\n\n    plotter.subplot(1, 0)\n    plotter.add_mesh(yz_data, cmap=cmap, scalars=scalars)\n    plotter.add_title(\"YZ Plane\", font_size=font_size)\n\n    plotter.subplot(1, 1)\n    plotter.add_mesh(xy_data, cmap=cmap, scalars=scalars)\n    plotter.add_mesh(xz_data, cmap=cmap, scalars=scalars)\n    plotter.add_mesh(yz_data, cmap=cmap, scalars=scalars)\n    plotter.add_title(\"Combined\", font_size=font_size)\n\n    return plotter\n\n\n# Plot first summary, change the array index to plot other summaries\nsummary = micro_summaries[0]\n\n# Read VTK data into pyvista.DataSet objects\nxy = pv.read(summary.xy_vtk)\nxz = pv.read(summary.xz_vtk)\nyz = pv.read(summary.yz_vtk)\n\n# Create colormap to use with boundary plot\nwhite_black_cmap = colorMap.from_list(\"whiteblack\", [\"white\", \"black\"])\n\nplot_microstructure(xy, xz, yz, \"GrainBoundaries\", white_black_cmap).show(title=\"Grain Boundaries\")\nplot_microstructure(xy, xz, yz, \"Orientation_(deg)\", \"spectral\").show(title=\"Orientation \u00b0\")\nplot_microstructure(xy, xz, yz, \"GrainNumber\", None).show(title=\"Grain Number\")"
      ]
    },
    {
      "cell_type": "markdown",
      "metadata": {},
      "source": [
        "Plot Grain Statistics\n=====================\n"
      ]
    },
    {
      "cell_type": "code",
      "execution_count": null,
      "metadata": {
        "collapsed": false
      },
      "outputs": [],
      "source": [
        "# Function to simplify plotting grain statistics\ndef add_grain_statistics_to_figure(\n    plane_data: dict, plane_str: str, diameter_axes: plt.Axes, orientation_axes: plt.Axes\n):\n    \"\"\"Convenience function to add grain statistic plots to a figure.\"\"\"\n    xmax = len(plane_data[\"diameter_um\"])\n    diameter_axes.hist(plane_data[\"diameter_um\"], bins=20, rwidth=0.75)\n    diameter_axes.set_xlabel(f\"Grain Diameter (\u00b5m)\")\n    diameter_axes.set_ylabel(\"Area Fraction\")\n    diameter_axes.set_title(plane_str.upper() + \" Grain Size Distribution\")\n    diameter_axes.yaxis.set_major_formatter(PercentFormatter(xmax=xmax))\n    orientation_axes.hist(plane_data[\"orientation_angle\"], bins=9, rwidth=0.75)\n    orientation_axes.yaxis.set_major_formatter(PercentFormatter(xmax=xmax))\n    orientation_axes.set_xlabel(f\"Orientation Angle (\u00b0)\")\n    orientation_axes.set_ylabel(\"Number Fraction\")\n    orientation_axes.set_title(plane_str.upper() + \" Orientation Angle\")\n\n\n# Create figure for grain statistics\nfig, axs = plt.subplots(3, 2, figsize=(10, 15), tight_layout=True)\nfig.suptitle(\"Circle Equivalence Grain Data\", fontsize=16)\nadd_grain_statistics_to_figure(summary.xy_circle_equivalence, \"xy\", axs[0][0], axs[0][1])\nadd_grain_statistics_to_figure(summary.xz_circle_equivalence, \"xz\", axs[1][0], axs[1][1])\nadd_grain_statistics_to_figure(summary.yz_circle_equivalence, \"yz\", axs[2][0], axs[2][1])\nplt.show()"
      ]
    }
  ],
  "metadata": {
    "kernelspec": {
      "display_name": "Python 3",
      "language": "python",
      "name": "python3"
    },
    "language_info": {
      "codemirror_mode": {
        "name": "ipython",
        "version": 3
      },
      "file_extension": ".py",
      "mimetype": "text/x-python",
      "name": "python",
      "nbconvert_exporter": "python",
      "pygments_lexer": "ipython3",
      "version": "3.10.12"
    }
  },
  "nbformat": 4,
  "nbformat_minor": 0
}