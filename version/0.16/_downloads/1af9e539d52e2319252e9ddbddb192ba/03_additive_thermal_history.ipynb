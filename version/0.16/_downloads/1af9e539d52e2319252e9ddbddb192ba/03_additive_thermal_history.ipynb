{
  "cells": [
    {
      "cell_type": "markdown",
      "metadata": {},
      "source": [
        "Thermal history analysis\n========================\n\nThis example shows how you can use PyAdditive to determine thermal\nhistory during a build using a simulated coaxial average sensor.\n\nUnits are SI (m, kg, s, K) unless otherwise noted.\n"
      ]
    },
    {
      "cell_type": "markdown",
      "metadata": {},
      "source": [
        "Perform required import and connect\n===================================\n\nPerform the required import and connect to the Additive service.\n"
      ]
    },
    {
      "cell_type": "code",
      "execution_count": null,
      "metadata": {
        "collapsed": false
      },
      "outputs": [],
      "source": [
        "from ansys.additive.core import (\n    Additive,\n    AdditiveMachine,\n    BuildFile,\n    CoaxialAverageSensorInputs,\n    MachineType,\n    Range,\n    SimulationError,\n    StlFile,\n    ThermalHistoryInput,\n)\n\nadditive = Additive()"
      ]
    },
    {
      "cell_type": "markdown",
      "metadata": {},
      "source": [
        "Select model\n============\n\nSelect the geometry model. Currently, PyAdditive supports two types of\ngeometry specifications,\n`STLFile <ansys.additive.core.geometry_file.StlFile>`{.interpreted-text\nrole=\"class\"} and\n`BuildFile <ansys.additive.core.geometry_file.BuildFile>`{.interpreted-text\nrole=\"class\"}.\n\nYou can download example build and STL files by importing the `examples`\nmodule.\n"
      ]
    },
    {
      "cell_type": "code",
      "execution_count": null,
      "metadata": {
        "collapsed": false
      },
      "outputs": [],
      "source": [
        "import ansys.additive.core.examples as examples\n\n# Create an ``StlFile`` object.\nstl_name = examples.download_10mm_cube()\nstl_file = StlFile(stl_name)\n\n# Or, create a ``BuildFile`` object.\nbuild_file_name = examples.download_small_wedge_slm_build_file()\nbuild_file = BuildFile(MachineType.SLM, build_file_name)"
      ]
    },
    {
      "cell_type": "markdown",
      "metadata": {},
      "source": [
        "Select material\n===============\n\nSelect a material. You can use the\n`materials_list() <ansys.additive.additive.Additive.materials_list>`{.interpreted-text\nrole=\"meth\"} method to obtain a list of available materials.\n"
      ]
    },
    {
      "cell_type": "code",
      "execution_count": null,
      "metadata": {
        "collapsed": false
      },
      "outputs": [],
      "source": [
        "additive.materials_list()"
      ]
    },
    {
      "cell_type": "markdown",
      "metadata": {},
      "source": [
        "You can obtain the parameters for a single material by passing a name\nfrom the materials list to the\n`material() <ansys.additive.additive.Additive.material>`{.interpreted-text\nrole=\"meth\"} method.\n"
      ]
    },
    {
      "cell_type": "code",
      "execution_count": null,
      "metadata": {
        "collapsed": false
      },
      "outputs": [],
      "source": [
        "material = additive.material(\"17-4PH\")"
      ]
    },
    {
      "cell_type": "markdown",
      "metadata": {},
      "source": [
        "Specify machine parameters\n==========================\n\nSpecify machine parameters by first creating an\n`AdditiveMachine <ansys.additive.core.machine.AdditiveMachine>`{.interpreted-text\nrole=\"class\"} object then assigning the desired values. All values are\nin SI units (m, kg, s, K) unless otherwise noted.\n"
      ]
    },
    {
      "cell_type": "code",
      "execution_count": null,
      "metadata": {
        "collapsed": false
      },
      "outputs": [],
      "source": [
        "machine = AdditiveMachine()\n\n# Show available parameters\nprint(machine)"
      ]
    },
    {
      "cell_type": "markdown",
      "metadata": {},
      "source": [
        "Set laser power and scan speed\n==============================\n\nSet the laser power and scan speed.\n"
      ]
    },
    {
      "cell_type": "code",
      "execution_count": null,
      "metadata": {
        "collapsed": false
      },
      "outputs": [],
      "source": [
        "machine.scan_speed = 1  # m/s\nmachine.laser_power = 500  # W"
      ]
    },
    {
      "cell_type": "markdown",
      "metadata": {},
      "source": [
        "Specify inputs for thermal history simulation\n=============================================\n\nThermal history is simulated for the given geometry over a range of\nheights in the Z dimension. More than one range can be specified. Each\nrange is specified with a\n`Range <ansys.additive.core.thermal_history.Range>`{.interpreted-text\nrole=\"class\"} object. The ranges are assigned to a\n`CoaxialAverageSensorInputs <ansys.additive.core.thermal_history.CoaxialAverageSensorInputs>`{.interpreted-text\nrole=\"class\"} object which also includes a sensor radius. The\n`CoaxialAverageSensorInputs` object is assigned to a\n`ThermalHistoryInput <ansys.additive.core.thermal_history.ThermalHistoryInput>`{.interpreted-text\nrole=\"class\"} object.\n"
      ]
    },
    {
      "cell_type": "code",
      "execution_count": null,
      "metadata": {
        "collapsed": false
      },
      "outputs": [],
      "source": [
        "# Values are in meters\nsensor_inputs = CoaxialAverageSensorInputs(\n    radius=5e-4,\n    z_heights=[Range(min=1e-3, max=1.1e-3), Range(min=6.5e-3, max=6.6e-3)],\n)\n\ninput = ThermalHistoryInput(\n    machine=machine,\n    material=material,\n    id=\"thermal-history-example\",\n    geometry=stl_file,\n    coax_ave_sensor_inputs=sensor_inputs,\n)"
      ]
    },
    {
      "cell_type": "markdown",
      "metadata": {},
      "source": [
        "Run simulation\n==============\n\nUse the\n`simulate() <ansys.additive.core.additive.Additive.simulate>`{.interpreted-text\nrole=\"meth\"} method of the `additive` object to run the simulation. The\nreturned object is a either a\n`ThermalHistorySummary <ansys.additive.core.thermal_history.ThemalHistorySummary>`{.interpreted-text\nrole=\"class\"} object or a\n`SimulationError <ansys.additive.core.simulation.SimulationError>`{.interpreted-text\nrole=\"class\"}.\n"
      ]
    },
    {
      "cell_type": "code",
      "execution_count": null,
      "metadata": {
        "collapsed": false
      },
      "outputs": [],
      "source": [
        "summary = additive.simulate(input)\nif isinstance(summary, SimulationError):\n    raise Exception(summary.message)"
      ]
    },
    {
      "cell_type": "markdown",
      "metadata": {},
      "source": [
        "Plot thermal history\n====================\n\nPlot the thermal history using PyVista.\n"
      ]
    },
    {
      "cell_type": "code",
      "execution_count": null,
      "metadata": {
        "collapsed": false
      },
      "outputs": [],
      "source": [
        "import glob\nimport os\n\nimport pyvista as pv\n\nvtk_files = glob.glob(os.path.join(summary.coax_ave_output_folder, \"*.vtk\"))\nfor file in vtk_files:\n    plotter = pv.Plotter(window_size=[512, 512])\n    plotter.add_mesh(pv.read(file))\n    title = os.path.splitext(os.path.basename(file))[0]\n    plotter.add_title(title, font_size=8)\n    plotter.show()"
      ]
    }
  ],
  "metadata": {
    "kernelspec": {
      "display_name": "Python 3",
      "language": "python",
      "name": "python3"
    },
    "language_info": {
      "codemirror_mode": {
        "name": "ipython",
        "version": 3
      },
      "file_extension": ".py",
      "mimetype": "text/x-python",
      "name": "python",
      "nbconvert_exporter": "python",
      "pygments_lexer": "ipython3",
      "version": "3.10.13"
    }
  },
  "nbformat": 4,
  "nbformat_minor": 0
}