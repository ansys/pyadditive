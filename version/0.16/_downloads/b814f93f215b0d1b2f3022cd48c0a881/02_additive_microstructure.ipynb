{
  "cells": [
    {
      "cell_type": "markdown",
      "metadata": {},
      "source": [
        "Microstructure analysis\n=======================\n\nThis example shows how you can use PyAdditive to determine the\nmicrostructure for a sample coupon with given material and machine\nparameters.\n\nUnits are SI (m, kg, s, K) unless otherwise noted.\n"
      ]
    },
    {
      "cell_type": "markdown",
      "metadata": {},
      "source": [
        "Perform required import and connect\n===================================\n\nPerform the required import and connect to the Additive service.\n"
      ]
    },
    {
      "cell_type": "code",
      "execution_count": null,
      "metadata": {
        "collapsed": false
      },
      "outputs": [],
      "source": [
        "from ansys.additive.core import Additive, AdditiveMachine, MicrostructureInput, SimulationError\n\nadditive = Additive()"
      ]
    },
    {
      "cell_type": "markdown",
      "metadata": {},
      "source": [
        "Select material\n===============\n\nSelect a material. You can use the\n`materials_list() <ansys.additive.core.additive.Additive.materials_list>`{.interpreted-text\nrole=\"meth\"} method to obtain a list of available materials.\n"
      ]
    },
    {
      "cell_type": "code",
      "execution_count": null,
      "metadata": {
        "collapsed": false
      },
      "outputs": [],
      "source": [
        "additive.materials_list()"
      ]
    },
    {
      "cell_type": "markdown",
      "metadata": {},
      "source": [
        "You can obtain the parameters for a single material by passing a name\nfrom the materials list to the\n`material() <ansys.additive.core.additive.Additive.material>`{.interpreted-text\nrole=\"meth\"} method.\n"
      ]
    },
    {
      "cell_type": "code",
      "execution_count": null,
      "metadata": {
        "collapsed": false
      },
      "outputs": [],
      "source": [
        "material = additive.material(\"17-4PH\")"
      ]
    },
    {
      "cell_type": "markdown",
      "metadata": {},
      "source": [
        "Specify machine parameters\n==========================\n\nSpecify machine parameters by first creating an\n`AdditiveMachine <ansys.additive.core.machine.AdditiveMachine>`{.interpreted-text\nrole=\"class\"} object and then assigning the desired values. All values\nare in SI units (m, kg, s, K) unless otherwise noted.\n"
      ]
    },
    {
      "cell_type": "code",
      "execution_count": null,
      "metadata": {
        "collapsed": false
      },
      "outputs": [],
      "source": [
        "machine = AdditiveMachine()\n\n# Show available parameters\nprint(machine)"
      ]
    },
    {
      "cell_type": "markdown",
      "metadata": {},
      "source": [
        "Set laser power and scan speed\n==============================\n\nSet the laser power and scan speed.\n"
      ]
    },
    {
      "cell_type": "code",
      "execution_count": null,
      "metadata": {
        "collapsed": false
      },
      "outputs": [],
      "source": [
        "machine.scan_speed = 1  # m/s\nmachine.laser_power = 500  # W"
      ]
    },
    {
      "cell_type": "markdown",
      "metadata": {},
      "source": [
        "Specify inputs for microstructure simulation\n============================================\n\nMicrostructure simulation inputs can include thermal parameters. Thermal\nparameters consist of `cooling_rate`, `thermal_gradient`,\n`melt_pool_width`, and `melt_pool_depth`. If thermal parameters are not\nspecified, the thermal solver is used to obtain the parameters prior to\nrunning the microstructure solver.\n"
      ]
    },
    {
      "cell_type": "code",
      "execution_count": null,
      "metadata": {
        "collapsed": false
      },
      "outputs": [],
      "source": [
        "# Specify microstructure inputs with thermal parameters\ninput_with_thermal = MicrostructureInput(\n    machine=machine,\n    material=material,\n    id=\"micro-with-thermal\",\n    sensor_dimension=0.0005,\n    sample_size_x=0.001,  # in meters (1 mm), must be >= sensor_dimension + 0.0005\n    sample_size_y=0.001,  # in meters (1 mm), must be >= sensor_dimension + 0.0005\n    sample_size_z=0.0015,  # in meters (1 mm), must be >= sensor_dimension + 0.001\n    use_provided_thermal_parameters=True,\n    cooling_rate=1.1e6,  # \u00b0K/s\n    thermal_gradient=1.2e7,  # \u00b0K/m\n    melt_pool_width=1.5e-4,  # meters (150 microns)\n    melt_pool_depth=1.1e-4,  # meters (110 microns)\n)\n\n# Specify microstructure inputs without thermal parameters\ninput_without_thermal = MicrostructureInput(\n    machine=machine,\n    material=material,\n    id=\"micro-without-thermal\",\n    sensor_dimension=0.0005,\n    sample_size_x=0.001,  # in meters (1 mm), must be >= sensor_dimension + 0.0005\n    sample_size_y=0.001,  # in meters (1 mm), must be >= sensor_dimension + 0.0005\n    sample_size_z=0.0015,  # in meters (1 mm), must be >= sensor_dimension + 0.001\n    # use_provided_thermal_parameters defaults to False\n)"
      ]
    },
    {
      "cell_type": "markdown",
      "metadata": {},
      "source": [
        "Run simulation\n==============\n\nUse the\n`simulate() <ansys.additive.core.additive.Additive.simulate>`{.interpreted-text\nrole=\"meth\"} method of the `additive` object to run the simulation. The\nreturned object is either a\n`MicrostructureSummary <ansys.additive.core.microstructure.MicrostructureSummary>`{.interpreted-text\nrole=\"class\"} object or a\n`SimulationError <ansys.additive.core.simulation.SimulationError>`{.interpreted-text\nrole=\"class\"}.\n"
      ]
    },
    {
      "cell_type": "code",
      "execution_count": null,
      "metadata": {
        "collapsed": false
      },
      "outputs": [],
      "source": [
        "summary = additive.simulate(input_with_thermal)\nif isinstance(summary, SimulationError):\n    raise Exception(summary.message)"
      ]
    },
    {
      "cell_type": "markdown",
      "metadata": {},
      "source": [
        "Plot results\n============\n\nThe\n`MicrostructureSummary <ansys.additive.core.microstructure.MicrostructureSummary>`{.interpreted-text\nrole=\"class\"} includes three VTK files, one for each of the XY, XZ, and\nYZ planes. Each VTK file contains data sets for grain orientation,\nboundaries, and number. In addition,\n`MicrostructureSummary <ansys.additive.core.microstructure.MicrostructureSummary>`{.interpreted-text\nrole=\"class\"} includes circle equivalence data and average grain size\nfor each plane.\n"
      ]
    },
    {
      "cell_type": "code",
      "execution_count": null,
      "metadata": {
        "collapsed": false
      },
      "outputs": [],
      "source": [
        "from matplotlib import colors\nfrom matplotlib.colors import LinearSegmentedColormap as colorMap\nimport matplotlib.pyplot as plt\nfrom matplotlib.ticker import PercentFormatter\nimport pandas as pd\nimport pyvista as pv\n\nfrom ansys.additive.core import CircleEquivalenceColumnNames"
      ]
    },
    {
      "cell_type": "markdown",
      "metadata": {},
      "source": [
        "Plot grain 2D visualizations\n============================\n\nPlot the planar data, read VTK data in data set objects, and create a\ncolor map to use with the boundary map.\n"
      ]
    },
    {
      "cell_type": "code",
      "execution_count": null,
      "metadata": {
        "collapsed": false
      },
      "outputs": [],
      "source": [
        "# Function to plot the planar data\ndef plot_microstructure(\n    xy_data: any, xz_data: any, yz_data: any, scalars: str, cmap: colors.LinearSegmentedColormap\n):\n    \"\"\"Convenience function to plot microstructure VTK data.\"\"\"\n    font_size = 8\n    plotter = pv.Plotter(shape=(2, 2), lighting=\"three lights\")\n    plotter.show_axes_all()\n    plotter.add_mesh(xy_data, cmap=cmap, scalars=scalars)\n    plotter.add_title(\"XY Plane\", font_size=font_size)\n\n    plotter.subplot(0, 1)\n    plotter.add_mesh(xz_data, cmap=cmap, scalars=scalars)\n    plotter.add_title(\"XZ Plane\", font_size=font_size)\n\n    plotter.subplot(1, 0)\n    plotter.add_mesh(yz_data, cmap=cmap, scalars=scalars)\n    plotter.add_title(\"YZ Plane\", font_size=font_size)\n\n    plotter.subplot(1, 1)\n    plotter.add_mesh(xy_data, cmap=cmap, scalars=scalars)\n    plotter.add_mesh(xz_data, cmap=cmap, scalars=scalars)\n    plotter.add_mesh(yz_data, cmap=cmap, scalars=scalars)\n    plotter.add_title(\"Combined\", font_size=font_size)\n\n    return plotter\n\n\n# Read VTK data into pyvista.DataSet objects\nxy = pv.read(summary.xy_vtk)\nxz = pv.read(summary.xz_vtk)\nyz = pv.read(summary.yz_vtk)\n\n# Create a color map to use with the boundary plot\nwhite_black_cmap = colorMap.from_list(\"whiteblack\", [\"white\", \"black\"])\n\nplot_microstructure(xy, xz, yz, \"GrainBoundaries\", white_black_cmap).show(title=\"Grain Boundaries\")\nplot_microstructure(xy, xz, yz, \"Orientation_(deg)\", \"spectral\").show(title=\"Orientation \u00b0\")\nplot_microstructure(xy, xz, yz, \"GrainNumber\", None).show(title=\"Grain Number\")"
      ]
    },
    {
      "cell_type": "markdown",
      "metadata": {},
      "source": [
        "Plot Grain Statistics\n=====================\n\nAdd grain statistic plots to a figure, create a figure for grain\nstatistics, and then plot the figure.\n"
      ]
    },
    {
      "cell_type": "code",
      "execution_count": null,
      "metadata": {
        "collapsed": false
      },
      "outputs": [],
      "source": [
        "# Function to simplify plotting grain statistics\ndef add_grain_statistics_to_figure(\n    plane_data: pd.DataFrame,\n    plane_str: str,\n    plane_ave_grain_size: float,\n    diameter_axes: plt.Axes,\n    orientation_axes: plt.Axes,\n):\n    \"\"\"Convenience function to add grain statistic plots to a figure.\"\"\"\n    xmax = len(plane_data[CircleEquivalenceColumnNames.DIAMETER])\n    diameter_axes.hist(plane_data[CircleEquivalenceColumnNames.DIAMETER], bins=20, rwidth=0.75)\n    diameter_axes.set_xlabel(f\"Grain Diameter (\u00b5m)\")\n    diameter_axes.set_ylabel(\"Area Fraction\")\n    diameter_axes.set_title(\n        plane_str.upper() + f\" Grain Size Distribution, ave: {plane_ave_grain_size:.2f} \u00b5m\"\n    )\n    diameter_axes.yaxis.set_major_formatter(PercentFormatter(xmax=xmax))\n    orientation_axes.hist(\n        plane_data[CircleEquivalenceColumnNames.ORIENTATION_ANGLE], bins=9, rwidth=0.75\n    )\n    orientation_axes.yaxis.set_major_formatter(PercentFormatter(xmax=xmax))\n    orientation_axes.set_xlabel(f\"Orientation Angle (\u00b0)\")\n    orientation_axes.set_ylabel(\"Number Fraction\")\n    orientation_axes.set_title(plane_str.upper() + \" Orientation Angle\")\n\n\n# Create figure for grain statistics\nfig, axs = plt.subplots(3, 2, figsize=(10, 15), tight_layout=True)\nfig.suptitle(\"Circle Equivalence Grain Data\", fontsize=16)\nadd_grain_statistics_to_figure(\n    summary.xy_circle_equivalence, \"xy\", summary.xy_average_grain_size, axs[0][0], axs[0][1]\n)\nadd_grain_statistics_to_figure(\n    summary.xz_circle_equivalence, \"xz\", summary.xz_average_grain_size, axs[1][0], axs[1][1]\n)\nadd_grain_statistics_to_figure(\n    summary.yz_circle_equivalence, \"yz\", summary.yz_average_grain_size, axs[2][0], axs[2][1]\n)\nplt.show()"
      ]
    }
  ],
  "metadata": {
    "kernelspec": {
      "display_name": "Python 3",
      "language": "python",
      "name": "python3"
    },
    "language_info": {
      "codemirror_mode": {
        "name": "ipython",
        "version": 3
      },
      "file_extension": ".py",
      "mimetype": "text/x-python",
      "name": "python",
      "nbconvert_exporter": "python",
      "pygments_lexer": "ipython3",
      "version": "3.10.13"
    }
  },
  "nbformat": 4,
  "nbformat_minor": 0
}