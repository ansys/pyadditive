{
  "cells": [
    {
      "cell_type": "markdown",
      "metadata": {},
      "source": [
        "# Using a custom material\n\nThis example shows how to use a custom material in PyAdditive\nsimulations. For background information and file formats, see [Material\nTuning Tool (Beta) to Create User Defined\nMaterials](https://ansyshelp.ansys.com/account/secured?returnurl=/Views/Secured/corp/v232/en/add_beta/add_science_BETA_material_tuning_tool.html?q=material%20tuning%20tool)\nin the *Additive Manufacturing Beta Features* documentation. To prevent\nwasted time, before executing this example, carefully review the steps\ndescribed in this PyAdditive documentation.\n\nUnits are SI (m, kg, s, K) unless otherwise noted.\n"
      ]
    },
    {
      "cell_type": "markdown",
      "metadata": {},
      "source": [
        "# Perform required import and connect\n\nPerform the required import and connect to the Additive service.\n"
      ]
    },
    {
      "cell_type": "code",
      "execution_count": null,
      "metadata": {
        "collapsed": false
      },
      "outputs": [],
      "source": [
        "from ansys.additive.core import Additive, AdditiveMachine, SingleBeadInput\n\nadditive = Additive()"
      ]
    },
    {
      "cell_type": "markdown",
      "metadata": {},
      "source": [
        "# Download custom material\n\nDownload an example of a custom material. Typically, you would have the\nfiles defining your custom material stored locally.\n"
      ]
    },
    {
      "cell_type": "code",
      "execution_count": null,
      "metadata": {
        "collapsed": false
      },
      "outputs": [],
      "source": [
        "import ansys.additive.core.examples as examples\n\nmaterial_files = examples.download_custom_material()"
      ]
    },
    {
      "cell_type": "markdown",
      "metadata": {},
      "source": [
        "# Load custom material files\n\nUse the `~Additive.load_material`{.interpreted-text role=\"meth\"} method\non the `additive` object to load custom material defnition files. The\nmethod returns an `~AdditiveMaterial`{.interpreted-text role=\"class\"}\nobject that you can use in simulations. The\n`~AdditiveMaterial`{.interpreted-text role=\"class\"} object exists only\nin the current Python session and is not saved.\n"
      ]
    },
    {
      "cell_type": "code",
      "execution_count": null,
      "metadata": {
        "collapsed": false
      },
      "outputs": [],
      "source": [
        "custom_material = additive.load_material(\n    parameters_file=material_files.material_configuration_file,\n    thermal_lookup_file=material_files.thermal_properties_lookup_file,\n    characteristic_width_lookup_file=material_files.characteristic_width_lookup_file,\n)"
      ]
    },
    {
      "cell_type": "markdown",
      "metadata": {},
      "source": [
        "# Use the custom material in a simulation\n\nOnce the custom material has been loaded, you can assign it to a\nsimulation input object.\n"
      ]
    },
    {
      "cell_type": "code",
      "execution_count": null,
      "metadata": {
        "collapsed": false
      },
      "outputs": [],
      "source": [
        "input = SingleBeadInput(\n    machine=AdditiveMachine(),\n    material=custom_material,\n    bead_length=0.001,  # meters\n)\n\n# Remove '#' to run the simulation\n# additive.simulate(input)"
      ]
    },
    {
      "cell_type": "markdown",
      "metadata": {},
      "source": [
        "# Add a custom material to the material library\n\nYou can add a custom material to the material library for use in future\nPython sessions. The `~Additive.add_material`{.interpreted-text\nrole=\"meth\"} method is similar to the\n`~Additive.load_material`{.interpreted-text role=\"meth\"} method, except\nthat it saves the material to the server.\n"
      ]
    },
    {
      "cell_type": "code",
      "execution_count": null,
      "metadata": {
        "collapsed": false
      },
      "outputs": [],
      "source": [
        "# show current available materials\nprint(additive.materials_list())\n\ncustom_material = additive.add_material(\n    parameters_file=material_files.material_configuration_file,\n    thermal_lookup_file=material_files.thermal_properties_lookup_file,\n    characteristic_width_lookup_file=material_files.characteristic_width_lookup_file,\n)\n\n# show updated available materials\nprint(additive.materials_list())"
      ]
    },
    {
      "cell_type": "markdown",
      "metadata": {},
      "source": [
        "# Remove the custom material from the material library\n\nYou can remove a custom material from the material library using the\n`~Additive.remove_material`{.interpreted-text role=\"meth\"} method.\nAnsys-supplied materials cannot be removed and will raise an error if\nyou try to remove them.\n"
      ]
    },
    {
      "cell_type": "code",
      "execution_count": null,
      "metadata": {
        "collapsed": false
      },
      "outputs": [],
      "source": [
        "# show current available materials\nprint(additive.materials_list())\n\nadditive.remove_material(custom_material.name)\n\n# show updated available materials\nprint(additive.materials_list())"
      ]
    }
  ],
  "metadata": {
    "kernelspec": {
      "display_name": "Python 3",
      "language": "python",
      "name": "python3"
    },
    "language_info": {
      "codemirror_mode": {
        "name": "ipython",
        "version": 3
      },
      "file_extension": ".py",
      "mimetype": "text/x-python",
      "name": "python",
      "nbconvert_exporter": "python",
      "pygments_lexer": "ipython3",
      "version": "3.12.12"
    }
  },
  "nbformat": 4,
  "nbformat_minor": 0
}