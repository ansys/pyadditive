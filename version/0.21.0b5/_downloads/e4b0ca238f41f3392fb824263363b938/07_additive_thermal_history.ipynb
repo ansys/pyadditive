{
  "cells": [
    {
      "cell_type": "markdown",
      "metadata": {},
      "source": [
        "# Thermal history analysis (BETA)\n\n::: warning\n::: title\nWarning\n:::\n\nBeta Features Disclaimer\n\n-   This is beta documentation for one or more beta software features.\n-   Beta features are considered unreleased and have not been fully\n    tested nor fully validated. The results are not guaranteed by Ansys,\n    Inc. (Ansys) to be correct. You assume the risk of using beta\n    features.\n-   At its discretion, Ansys may release, change, or withdraw beta\n    features in future revisions.\n-   Beta features are not subject to the Ansys Class 3 error reporting\n    system. Ansys makes no commitment to resolve defects reported\n    against beta features; however, your feedback will help us improve\n    the quality of the product.\n-   Ansys does not guarantee that database and/or input files used with\n    beta features will run successfully from version to version of the\n    software, nor with the final released version of the features. You\n    may need to modify the database and/or input files before running\n    them on other versions.\n-   Documentation for beta features is called beta documentation, and it\n    may not be written to the same standard as documentation for\n    released features. Beta documentation may not be complete at the\n    time of product release. At its discretion, Ansys may add, change,\n    or delete beta documentation at any time.\n:::\n\nThis example shows how to use PyAdditive to determine thermal history\nduring a build using a simulated coaxial average sensor.\n\nUnits are SI (m, kg, s, K) unless otherwise noted.\n"
      ]
    },
    {
      "cell_type": "markdown",
      "metadata": {},
      "source": [
        "# Perform required import and connect\n\nPerform the required import and connect to the Additive service.\n"
      ]
    },
    {
      "cell_type": "code",
      "execution_count": null,
      "metadata": {
        "collapsed": false
      },
      "outputs": [],
      "source": [
        "from ansys.additive.core import (\n    Additive,\n    AdditiveMachine,\n    BuildFile,\n    CoaxialAverageSensorInputs,\n    MachineType,\n    Range,\n    SimulationError,\n    StlFile,\n    ThermalHistoryInput,\n)\n\nadditive = Additive(enable_beta_features=True)"
      ]
    },
    {
      "cell_type": "markdown",
      "metadata": {},
      "source": [
        "# Specify model\n\nSpecify the geometry model. PyAdditive supports two types of geometry\nspecifications, the `StlFile`{.interpreted-text role=\"class\"} class and\nthe `BuildFile`{.interpreted-text role=\"class\"} class.\n\nYou can download the example build and STL files by importing the\n`~ansys.additive.core.examples`{.interpreted-text role=\"obj\"} module.\n"
      ]
    },
    {
      "cell_type": "code",
      "execution_count": null,
      "metadata": {
        "collapsed": false
      },
      "outputs": [],
      "source": [
        "import ansys.additive.core.examples as examples\n\n# Create an ``StlFile`` object.\nstl_name = examples.download_10mm_cube()\nstl_file = StlFile(stl_name)\n\n# Or, create a ``BuildFile`` object.\nbuild_file_name = examples.download_small_wedge_slm_build_file()\nbuild_file = BuildFile(MachineType.SLM, build_file_name)"
      ]
    },
    {
      "cell_type": "markdown",
      "metadata": {},
      "source": [
        "# Select material\n\nSelect a material. You can use the\n`~Additive.materials_list`{.interpreted-text role=\"meth\"} method to\nobtain a list of available materials.\n"
      ]
    },
    {
      "cell_type": "code",
      "execution_count": null,
      "metadata": {
        "collapsed": false
      },
      "outputs": [],
      "source": [
        "print(\"Available material names: {}\".format(additive.materials_list()))"
      ]
    },
    {
      "cell_type": "markdown",
      "metadata": {},
      "source": [
        "You can obtain the parameters for a single material by passing a name\nfrom the materials list to the `~Additive.material`{.interpreted-text\nrole=\"meth\"} method.\n"
      ]
    },
    {
      "cell_type": "code",
      "execution_count": null,
      "metadata": {
        "collapsed": false
      },
      "outputs": [],
      "source": [
        "material = additive.material(\"17-4PH\")"
      ]
    },
    {
      "cell_type": "markdown",
      "metadata": {},
      "source": [
        "# Specify machine parameters\n\nSpecify machine parameters by first creating an\n`AdditiveMachine`{.interpreted-text role=\"class\"} object and then\nassigning the desired values. All values are in SI units (m, kg, s, K)\nunless otherwise noted.\n"
      ]
    },
    {
      "cell_type": "code",
      "execution_count": null,
      "metadata": {
        "collapsed": false
      },
      "outputs": [],
      "source": [
        "machine = AdditiveMachine()\n\n# Show available parameters\nprint(machine)"
      ]
    },
    {
      "cell_type": "markdown",
      "metadata": {},
      "source": [
        "# Set laser power and scan speed\n\nSet the laser power and scan speed.\n"
      ]
    },
    {
      "cell_type": "code",
      "execution_count": null,
      "metadata": {
        "collapsed": false
      },
      "outputs": [],
      "source": [
        "machine.scan_speed = 1  # m/s\nmachine.laser_power = 500  # W"
      ]
    },
    {
      "cell_type": "markdown",
      "metadata": {},
      "source": [
        "# Specify inputs for thermal history simulation\n\nThermal history is simulated for the given geometry over a range of\nheights in the Z dimension. More than one range can be specified. Each\nrange is specified with a `Range`{.interpreted-text role=\"class\"}\nobject. The ranges are assigned to a\n`CoaxialAverageSensorInputs`{.interpreted-text role=\"class\"} object,\nwhich also includes a sensor radius. The\n`CoaxialAverageSensorInputs`{.interpreted-text role=\"class\"} object is\nassigned to a `ThermalHistoryInput`{.interpreted-text role=\"class\"}\nobject.\n"
      ]
    },
    {
      "cell_type": "code",
      "execution_count": null,
      "metadata": {
        "collapsed": false
      },
      "outputs": [],
      "source": [
        "# Values are in meters\nsensor_inputs = CoaxialAverageSensorInputs(\n    radius=5e-4,\n    z_heights=[Range(min=1e-3, max=1.1e-3), Range(min=6.5e-3, max=6.6e-3)],\n)\n\ninput = ThermalHistoryInput(\n    machine=machine,\n    material=material,\n    geometry=stl_file,\n    coax_ave_sensor_inputs=sensor_inputs,\n)"
      ]
    },
    {
      "cell_type": "markdown",
      "metadata": {},
      "source": [
        "# Run simulation\n\nUse the `~Additive.simulate`{.interpreted-text role=\"meth\"} method of\nthe `additive` object to run the simulation. The returned object is\neither a `ThermalHistorySummary`{.interpreted-text role=\"class\"} object\nor a `SimulationError`{.interpreted-text role=\"class\"} object.\n"
      ]
    },
    {
      "cell_type": "code",
      "execution_count": null,
      "metadata": {
        "collapsed": false
      },
      "outputs": [],
      "source": [
        "summary = additive.simulate(input)\nif isinstance(summary, SimulationError):\n    raise Exception(summary.message)"
      ]
    },
    {
      "cell_type": "markdown",
      "metadata": {},
      "source": [
        "# Plot thermal history\n\nPlot the thermal history using PyVista.\n"
      ]
    },
    {
      "cell_type": "code",
      "execution_count": null,
      "metadata": {
        "collapsed": false
      },
      "outputs": [],
      "source": [
        "import glob\nimport os\n\nimport pyvista as pv\n\nvtk_files = glob.glob(os.path.join(summary.coax_ave_output_folder, \"*.vtk\"))\nfor file in vtk_files:\n    plotter = pv.Plotter(window_size=[512, 512])\n    plotter.add_mesh(pv.read(file))\n    title = os.path.splitext(os.path.basename(file))[0]\n    plotter.add_title(title, font_size=8)\n    plotter.show()"
      ]
    },
    {
      "cell_type": "markdown",
      "metadata": {},
      "source": [
        "# Print the simulation logs\n\nTo print the simulation logs, use the\n`~ThermalHistorySummary.logs`{.interpreted-text role=\"meth\"} property.\n"
      ]
    },
    {
      "cell_type": "code",
      "execution_count": null,
      "metadata": {
        "collapsed": false
      },
      "outputs": [],
      "source": [
        "print(summary.logs)"
      ]
    }
  ],
  "metadata": {
    "kernelspec": {
      "display_name": "Python 3",
      "language": "python",
      "name": "python3"
    },
    "language_info": {
      "codemirror_mode": {
        "name": "ipython",
        "version": 3
      },
      "file_extension": ".py",
      "mimetype": "text/x-python",
      "name": "python",
      "nbconvert_exporter": "python",
      "pygments_lexer": "ipython3",
      "version": "3.12.12"
    }
  },
  "nbformat": 4,
  "nbformat_minor": 0
}