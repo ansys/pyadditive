{
 "cells": [
  {
   "cell_type": "code",
   "execution_count": 3,
   "id": "58bc003d-5c8a-4aca-824e-3405c6d28fcb",
   "metadata": {},
   "outputs": [
    {
     "name": "stderr",
     "output_type": "stream",
     "text": [
      "INFO:pyadditive.additive:Connected to localhost:50052\n"
     ]
    }
   ],
   "source": [
    "import concurrent.futures\n",
    "\n",
    "import matplotlib.pyplot as plt\n",
    "import numpy as np\n",
    "\n",
    "import pyadditive.additive as pyadditive\n",
    "from pyadditive.additive_machine import AdditiveMachine\n",
    "from pyadditive.porosity import PorosityInput\n",
    "\n",
    "additive = pyadditive.launch_additive(ip='localhost', port=50052)\n",
    "\n",
    "material = additive.get_material('17-4PH')\n",
    "machine = AdditiveMachine.default()\n",
    "machine.laser_power = 100\n",
    "machine.scan_speed = 1.5\n",
    "input = PorosityInput(machine=machine, material=material, size_x=0.001, size_y=0.001, size_z=0.001)"
   ]
  },
  {
   "cell_type": "code",
   "execution_count": 4,
   "id": "fb5c3d67-db9f-4e5d-a84d-111befac4464",
   "metadata": {},
   "outputs": [
    {
     "name": "stderr",
     "output_type": "stream",
     "text": [
      "Calculating statistics: 100%|\u001b[32m██████████\u001b[0m| 100/100 [00:00<00:00, 50015.55it/s]  \n"
     ]
    }
   ],
   "source": [
    "summary = additive.simulate_porosity(input)\n"
   ]
  },
  {
   "cell_type": "code",
   "execution_count": 5,
   "id": "cb5b3d30-191d-4998-8ce0-3b78ad7f969c",
   "metadata": {},
   "outputs": [
    {
     "name": "stdout",
     "output_type": "stream",
     "text": [
      "PorosityResult\n",
      "size_x: 0.001\n",
      "size_y: 0.001\n",
      "size_z: 0.001\n",
      "starting_layer_angle: 57.00000000000001\n",
      "layer_rotation_angle: 67.0\n",
      "laser_power: 100.0\n",
      "scan_speed: 0.0015\n",
      "layer_thickness: 5.0000000000000004e-08\n",
      "hatch_spacing: 1.0000000000000001e-07\n",
      "slicing_stripe_width: 1e-05\n",
      "heater_temperature: 80.0\n",
      "beam_diameter: 0.0001\n",
      "void_ratio: 0.0\n",
      "powder_ratio: 0.47782745838417795\n",
      "solid_ratio: 0.522172541615822\n",
      "\n"
     ]
    }
   ],
   "source": [
    "print (summary)"
   ]
  }
 ],
 "metadata": {
  "kernelspec": {
   "display_name": "Python 3 (ipykernel)",
   "language": "python",
   "name": "python3"
  },
  "language_info": {
   "codemirror_mode": {
    "name": "ipython",
    "version": 3
   },
   "file_extension": ".py",
   "mimetype": "text/x-python",
   "name": "python",
   "nbconvert_exporter": "python",
   "pygments_lexer": "ipython3",
   "version": "3.9.13"
  },
  "vscode": {
   "interpreter": {
    "hash": "60d3e1bca0dde2a2628b0699112688e2485d3f2038664330ba8211873dc25d1f"
   }
  }
 },
 "nbformat": 4,
 "nbformat_minor": 5
}
