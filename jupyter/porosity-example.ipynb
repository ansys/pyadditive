{
 "cells": [
  {
   "cell_type": "code",
   "execution_count": 2,
   "id": "58bc003d-5c8a-4aca-824e-3405c6d28fcb",
   "metadata": {},
   "outputs": [
    {
     "name": "stderr",
     "output_type": "stream",
     "text": [
      "INFO:ansys.additive.additive:Connected to localhost:50052\n"
     ]
    }
   ],
   "source": [
    "import concurrent.futures\n",
    "\n",
    "import matplotlib.pyplot as plt\n",
    "import numpy as np\n",
    "\n",
    "import ansys.additive.additive as pyadditive\n",
    "from ansys.additive.machine import AdditiveMachine\n",
    "from ansys.additive.porosity import PorosityInput\n",
    "\n",
    "additive = pyadditive.launch_additive(ip='localhost', port=50052)\n",
    "\n",
    "material = additive.get_material('17-4PH')\n",
    "machine = AdditiveMachine()\n",
    "machine.laser_power = 100\n",
    "machine.scan_speed = 1.5\n",
    "input = PorosityInput(machine=machine, material=material, size_x=0.001, size_y=0.001, size_z=0.001)"
   ]
  },
  {
   "cell_type": "code",
   "execution_count": 3,
   "id": "fb5c3d67-db9f-4e5d-a84d-111befac4464",
   "metadata": {},
   "outputs": [
    {
     "name": "stderr",
     "output_type": "stream",
     "text": [
      "Calculating statistics: 100%|\u001b[32m██████████\u001b[0m| 100/100 [00:00<00:00, 25526.77it/s]  \n"
     ]
    }
   ],
   "source": [
    "summary = additive.simulate(input)\n"
   ]
  },
  {
   "cell_type": "code",
   "execution_count": 4,
   "id": "cb5b3d30-191d-4998-8ce0-3b78ad7f969c",
   "metadata": {},
   "outputs": [
    {
     "name": "stdout",
     "output_type": "stream",
     "text": [
      "PorositySummary\n",
      "input: PorosityInput\n",
      "id: \n",
      "size_x: 0.001\n",
      "size_y: 0.001\n",
      "size_z: 0.001\n",
      "\n",
      "machine: AdditiveMachine\n",
      "laser_power: 100\n",
      "scan_speed: 1.5\n",
      "heater_temperature: 80\n",
      "layer_thickness: 5e-05\n",
      "beam_diameter: 0.0001\n",
      "starting_layer_angle: 57\n",
      "layer_rotation_angle: 67\n",
      "hatch_spacing: 0.0001\n",
      "slicing_stripe_width: 0.01\n",
      "\n",
      "material: AdditiveMaterial\n",
      "absorptivity_maximum: 0.8\n",
      "absorptivity_minimum: 0.2\n",
      "absorptivity_powder_coefficient_a: 0.104021901\n",
      "absorptivity_powder_coefficient_b: 0.444062208\n",
      "absorptivity_solid_coefficient_a: 0.104021901\n",
      "absorptivity_solid_coefficient_b: 0.444062208\n",
      "anisotropic_strain_coefficient_parallel: 1.5\n",
      "anisotropic_strain_coefficient_perpendicular: 0.5\n",
      "anisotropic_strain_coefficient_z: 1.0\n",
      "elastic_modulus: 175000000000.0\n",
      "hardening_factor: 0.019943\n",
      "liquidus_temperature: 1450.0\n",
      "material_yield_strength: 821000000.0\n",
      "name: 17-4PH\n",
      "nucleation_constant_bulk: 28444.3999\n",
      "nucleation_constant_interface: 2.37783356\n",
      "penetration_depth_maximum: 0.00041\n",
      "penetration_depth_minimum: 2.7e-05\n",
      "penetration_depth_powder_coefficient_a: 0.440922998\n",
      "penetration_depth_powder_coefficient_b: 2.25501349\n",
      "penetration_depth_solid_coefficient_a: 0.440922998\n",
      "penetration_depth_solid_coefficient_b: 2.25501349\n",
      "poisson_ratio: 0.272\n",
      "powder_packing_density: 0.6\n",
      "purging_gas_convection_coefficient: 12.5\n",
      "solid_density_at_room_temperature: 7733.10368\n",
      "solid_specific_heat_at_room_temperature: 456.93474\n",
      "solid_thermal_conductivity_at_room_temperature: 10.57029102\n",
      "solidus_temperature: 1335.0\n",
      "strain_scaling_factor: 1.0\n",
      "support_yield_strength_ratio: 0.4375\n",
      "thermal_expansion_coefficient: 1.12e-05\n",
      "vaporization_temperature: 3134.0\n",
      "characteristic_width_data: CharacteristicWidthDataPoint[]\n",
      "thermal_characteristic_data: ThermalCharacteristicDataPoint[]\n",
      "\n",
      "void_ratio: 0.0\n",
      "powder_ratio: 0.47782745838417795\n",
      "solid_ratio: 0.522172541615822\n",
      "\n"
     ]
    }
   ],
   "source": [
    "print (summary)"
   ]
  }
 ],
 "metadata": {
  "kernelspec": {
   "display_name": "Python 3 (ipykernel)",
   "language": "python",
   "name": "python3"
  },
  "language_info": {
   "codemirror_mode": {
    "name": "ipython",
    "version": 3
   },
   "file_extension": ".py",
   "mimetype": "text/x-python",
   "name": "python",
   "nbconvert_exporter": "python",
   "pygments_lexer": "ipython3",
   "version": "3.9.13"
  },
  "vscode": {
   "interpreter": {
    "hash": "60d3e1bca0dde2a2628b0699112688e2485d3f2038664330ba8211873dc25d1f"
   }
  }
 },
 "nbformat": 4,
 "nbformat_minor": 5
}
