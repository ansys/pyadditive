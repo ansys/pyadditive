{
 "cells": [
  {
   "cell_type": "code",
   "execution_count": 1,
   "id": "58bc003d-5c8a-4aca-824e-3405c6d28fcb",
   "metadata": {},
   "outputs": [],
   "source": [
    "import concurrent.futures\n",
    "import ansys.additive.additive as pyadditive\n",
    "from ansys.additive.geometry_file import StlFile, BuildFile\n",
    "from ansys.additive.machine import AdditiveMachine\n",
    "from ansys.additive.thermal_history import ThermalHistoryInput, CoaxialAverageSensorInputs, Range\n",
    "import matplotlib.pyplot as plt\n",
    "import numpy as np"
   ]
  },
  {
   "cell_type": "code",
   "execution_count": 2,
   "id": "33b816ee-f123-44fb-8ff7-b61c7b5124a1",
   "metadata": {},
   "outputs": [
    {
     "name": "stderr",
     "output_type": "stream",
     "text": [
      "INFO:ansys.additive.additive:Connected to localhost:50052\n"
     ]
    }
   ],
   "source": [
    "additive = pyadditive.launch_additive(ip='localhost', port=50052)"
   ]
  },
  {
   "cell_type": "code",
   "execution_count": 3,
   "id": "a08d04f7-366d-47c8-962e-ee2a28e71dcd",
   "metadata": {},
   "outputs": [
    {
     "name": "stderr",
     "output_type": "stream",
     "text": [
      "thermal history:   0%|\u001b[32m          \u001b[0m| 0/100 [00:00<?, ?it/s]             1.70s/it]\n"
     ]
    }
   ],
   "source": [
    "# material_list = additive.get_materials_list()\n",
    "# print(material_list)\n",
    "\n",
    "material = additive.get_material('17-4PH')\n",
    "machine = AdditiveMachine();\n",
    "machine.scan_speed = 1.25\n",
    "machine.laser_power = 350\n",
    "sensor_inputs = CoaxialAverageSensorInputs(\n",
    "    radius=5e-4,\n",
    "    z_heights=[Range(min=5e-4, max=6e-4)]\n",
    ")\n",
    "input = ThermalHistoryInput(\n",
    "    id=\"thermal_history\",\n",
    "    machine=machine,\n",
    "    material=material,\n",
    "    geometry=StlFile(path=\"10mm_box.stl\"),\n",
    "    coax_ave_sensor_inputs=sensor_inputs,\n",
    ")\n",
    "result = additive.simulate(input)    "
   ]
  },
  {
   "cell_type": "code",
   "execution_count": 4,
   "id": "cdc731fa-7e8f-437d-8bd9-65a878ac2010",
   "metadata": {},
   "outputs": [
    {
     "name": "stdout",
     "output_type": "stream",
     "text": [
      "C:\\Users\\pkrull\\AppData\\Local\\Temp\\additive\\thermal_history\\coaxial-average-sensors.zip\n"
     ]
    }
   ],
   "source": [
    "print(result.remote_coax_ave_zip_file)\n"
   ]
  },
  {
   "cell_type": "code",
   "execution_count": 5,
   "id": "cb5b3d30-191d-4998-8ce0-3b78ad7f969c",
   "metadata": {},
   "outputs": [
    {
     "name": "stderr",
     "output_type": "stream",
     "text": [
      "Downloading file: 100%|\u001b[32m██████████\u001b[0m| 100/100 [00:00<00:00, 23144.82it/s]\n"
     ]
    }
   ],
   "source": [
    "result_file = additive.download_results(result, \"results\")"
   ]
  },
  {
   "cell_type": "code",
   "execution_count": 6,
   "id": "ba7589ab",
   "metadata": {},
   "outputs": [
    {
     "name": "stdout",
     "output_type": "stream",
     "text": [
      "results\\thermal_history\\coaxial-average-sensors.zip\n"
     ]
    }
   ],
   "source": [
    "print(result_file)"
   ]
  },
  {
   "cell_type": "code",
   "execution_count": 7,
   "id": "ff974f8e",
   "metadata": {},
   "outputs": [],
   "source": [
    "import zipfile\n",
    "with zipfile.ZipFile(result_file, 'r') as zip_ref:\n",
    "    zip_ref.extractall(\"results\")"
   ]
  },
  {
   "cell_type": "code",
   "execution_count": 9,
   "id": "f93307a3",
   "metadata": {},
   "outputs": [
    {
     "name": "stdout",
     "output_type": "stream",
     "text": [
      "results\\Z0.5000mm_CoaxialAverage.vtk\n"
     ]
    }
   ],
   "source": [
    "import pyvista as pv\n",
    "import os\n",
    "import glob\n",
    "from matplotlib.colors import LinearSegmentedColormap as colorMap\n",
    "\n",
    "rainbow_cmap = colorMap.from_list(\"rainbow\", [\"blue\", \"cyan\", \"lime\", \"yellow\", \"orange\", \"red\"])\n",
    "\n",
    "vtk_files = glob.glob(os.path.join(\"results\", \"*.vtk\"))\n",
    "# plotter = pv.Plotter(shape=(3,1))\n",
    "print(vtk_files[0])\n",
    "mesh = pv.read(vtk_files[0])\n",
    "mesh.plot()\n",
    "\n",
    "# for f in vtk_files:\n",
    "#     mesh = pv.read(f)\n",
    "#     mesh.plot()"
   ]
  }
 ],
 "metadata": {
  "kernelspec": {
   "display_name": "Python 3.9.13 64-bit",
   "language": "python",
   "name": "python3"
  },
  "language_info": {
   "codemirror_mode": {
    "name": "ipython",
    "version": 3
   },
   "file_extension": ".py",
   "mimetype": "text/x-python",
   "name": "python",
   "nbconvert_exporter": "python",
   "pygments_lexer": "ipython3",
   "version": "3.9.13"
  },
  "vscode": {
   "interpreter": {
    "hash": "60d3e1bca0dde2a2628b0699112688e2485d3f2038664330ba8211873dc25d1f"
   }
  }
 },
 "nbformat": 4,
 "nbformat_minor": 5
}
