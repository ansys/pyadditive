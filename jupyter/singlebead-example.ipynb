{
 "cells": [
  {
   "cell_type": "code",
   "execution_count": 1,
   "id": "58bc003d-5c8a-4aca-824e-3405c6d28fcb",
   "metadata": {},
   "outputs": [],
   "source": [
    "import concurrent.futures\n",
    "import ansys.additive.additive as pyadditive\n",
    "from ansys.additive.machine import AdditiveMachine\n",
    "from ansys.additive.single_bead import (\n",
    "    BeadType,\n",
    "    SingleBeadInput,\n",
    ")\n",
    "import matplotlib.pyplot as plt\n",
    "import numpy as np"
   ]
  },
  {
   "cell_type": "code",
   "execution_count": 2,
   "id": "33b816ee-f123-44fb-8ff7-b61c7b5124a1",
   "metadata": {},
   "outputs": [
    {
     "name": "stderr",
     "output_type": "stream",
     "text": [
      "INFO:ansys.additive.additive:Connected to localhost:50052\n"
     ]
    }
   ],
   "source": [
    "additive = pyadditive.launch_additive(ip='localhost', port=50052)"
   ]
  },
  {
   "cell_type": "code",
   "execution_count": 3,
   "id": "a08d04f7-366d-47c8-962e-ee2a28e71dcd",
   "metadata": {},
   "outputs": [
    {
     "name": "stderr",
     "output_type": "stream",
     "text": [
      "Single Bead simulation: 100%|\u001b[32m██████████\u001b[0m| 100/100 [00:15<00:00,  6.67it/s]\n"
     ]
    }
   ],
   "source": [
    "# material_list = additive.get_materials_list()\n",
    "# print(material_list)\n",
    "\n",
    "material = additive.get_material('17-4PH')\n",
    "machine = AdditiveMachine();\n",
    "machine.scan_speed = 1.25\n",
    "machine.laser_power = 350\n",
    "input = SingleBeadInput(\n",
    "    machine=machine,\n",
    "    material=material,\n",
    "    id=\"single-bead\",\n",
    "    bead_length=0.001,\n",
    "    bead_type=BeadType.BEAD_ON_POWDER,\n",
    ")\n",
    "result = additive.simulate(input)    "
   ]
  },
  {
   "cell_type": "code",
   "execution_count": 4,
   "id": "cdc731fa-7e8f-437d-8bd9-65a878ac2010",
   "metadata": {},
   "outputs": [
    {
     "name": "stdout",
     "output_type": "stream",
     "text": [
      "SingleBeadSummary\n",
      "input: SingleBeadInput\n",
      "id: single-bead\n",
      "bead_length: 0.001\n",
      "bead_type: BeadType.BEAD_ON_POWDER\n",
      "\n",
      "machine: AdditiveMachine\n",
      "laser_power: 350\n",
      "scan_speed: 1.25\n",
      "heater_temperature: 80\n",
      "layer_thickness: 5e-05\n",
      "beam_diameter: 0.0001\n",
      "starting_layer_angle: 57\n",
      "layer_rotation_angle: 67\n",
      "hatch_spacing: 0.0001\n",
      "slicing_stripe_width: 0.01\n",
      "\n",
      "material: AdditiveMaterial\n",
      "absorptivity_maximum: 0.8\n",
      "absorptivity_minimum: 0.2\n",
      "absorptivity_powder_coefficient_a: 0.104021901\n",
      "absorptivity_powder_coefficient_b: 0.444062208\n",
      "absorptivity_solid_coefficient_a: 0.104021901\n",
      "absorptivity_solid_coefficient_b: 0.444062208\n",
      "anisotropic_strain_coefficient_parallel: 1.5\n",
      "anisotropic_strain_coefficient_perpendicular: 0.5\n",
      "anisotropic_strain_coefficient_z: 1.0\n",
      "elastic_modulus: 175000000000.0\n",
      "hardening_factor: 0.019943\n",
      "liquidus_temperature: 1450.0\n",
      "material_yield_strength: 821000000.0\n",
      "name: 17-4PH\n",
      "nucleation_constant_bulk: 28444.3999\n",
      "nucleation_constant_interface: 2.37783356\n",
      "penetration_depth_maximum: 0.00041\n",
      "penetration_depth_minimum: 2.7e-05\n",
      "penetration_depth_powder_coefficient_a: 0.440922998\n",
      "penetration_depth_powder_coefficient_b: 2.25501349\n",
      "penetration_depth_solid_coefficient_a: 0.440922998\n",
      "penetration_depth_solid_coefficient_b: 2.25501349\n",
      "poisson_ratio: 0.272\n",
      "powder_packing_density: 0.6\n",
      "purging_gas_convection_coefficient: 12.5\n",
      "solid_density_at_room_temperature: 7733.10368\n",
      "solid_specific_heat_at_room_temperature: 456.93474\n",
      "solid_thermal_conductivity_at_room_temperature: 10.57029102\n",
      "solidus_temperature: 1335.0\n",
      "strain_scaling_factor: 1.0\n",
      "support_yield_strength_ratio: 0.4375\n",
      "thermal_expansion_coefficient: 1.12e-05\n",
      "vaporization_temperature: 3134.0\n",
      "characteristic_width_data: CharacteristicWidthDataPoint[]\n",
      "thermal_characteristic_data: ThermalCharacteristicDataPoint[]\n",
      "\n",
      "melt_pool: MeltPool\n",
      "laser_x: [0.0, 2.5000000372529032e-05, 5.0000000745058064e-05, 7.500000298023224e-05, 0.00010000000149011613, 0.000125, 0.00015000000596046448, 0.00017499999701976775, 0.00020000000298023225, 0.00022499999403953553, 0.00025, 0.0002750000059604645, 0.00030000001192092895, 0.00032499998807907106, 0.0003499999940395355, 0.000375, 0.0004000000059604645, 0.00042500001192092896, 0.00044999998807907106, 0.0004749999940395355, 0.0005, 0.0005249999761581421, 0.000550000011920929, 0.000574999988079071, 0.0006000000238418579, 0.000625, 0.0006499999761581421, 0.000675000011920929, 0.000699999988079071, 0.0007250000238418579, 0.00075, 0.0007749999761581421, 0.000800000011920929, 0.000824999988079071, 0.0008500000238418579, 0.000875, 0.0008999999761581421, 0.000925000011920929, 0.000949999988079071, 0.0009750000238418579, 0.001]\n",
      "laser_y: [0.0, 0.0, 0.0, 0.0, 0.0, 0.0, 0.0, 0.0, 0.0, 0.0, 0.0, 0.0, 0.0, 0.0, 0.0, 0.0, 0.0, 0.0, 0.0, 0.0, 0.0, 0.0, 0.0, 0.0, 0.0, 0.0, 0.0, 0.0, 0.0, 0.0, 0.0, 0.0, 0.0, 0.0, 0.0, 0.0, 0.0, 0.0, 0.0, 0.0, 0.0]\n",
      "length: [9.42808985710144e-05, 0.0001267929971218109, 0.00015101000666618348, 0.00017631299793720247, 0.00020023399591445924, 0.00022520099580287934, 0.00024967800080776215, 0.00027287599444389345, 0.00029692700505256654, 0.00032064300775527956, 0.0003429290056228638, 0.0003659200072288513, 0.00038871699571609497, 0.00041010698676109317, 0.00043219500780105594, 0.00045417198538780213, 0.0004748139977455139, 0.0004962930083274842, 0.0005176249742507935, 0.0005376830101013184, 0.0005585219860076904, 0.0005792850255966187, 0.0005988010168075561, 0.00061913001537323, 0.0006393679976463318, 0.000658273994922638, 0.0006779770255088807, 0.000697547972202301, 0.0007156630158424378, 0.0007346060276031494, 0.0007531890273094178, 0.0007703940272331238, 0.0007881119847297669, 0.0008055040240287781, 0.0008211500048637391, 0.0008373900055885315, 0.000852657973766327, 0.0008660989999771118, 0.0008795999884605407, 0.0008920220136642456, 0.0008950759768486023]\n",
      "width: [9.479100257158279e-05, 0.00011584900319576263, 0.00012454599887132644, 0.00013039100170135498, 0.00013481999933719635, 0.00013847699761390686, 0.00014159199595451354, 0.0001442220062017441, 0.00014636999368667603, 0.0001486800014972687, 0.000150751993060112, 0.0001526859998703003, 0.00015469899773597719, 0.00015657399594783784, 0.00015811599791049958, 0.0001590059995651245, 0.0001596360057592392, 0.00016020299494266512, 0.00016075299680233003, 0.00016108299791812896, 0.00016149599850177765, 0.00016176900267601013, 0.00016170699894428253, 0.00016177399456501009, 0.0001619330048561096, 0.000161762997508049, 0.00016180899739265444, 0.0001619440019130707, 0.00016176700592041016, 0.0001618109941482544, 0.00016194500029087066, 0.00016176700592041016, 0.0001618109941482544, 0.00016194500029087066, 0.00016176700592041016, 0.0001618109941482544, 0.00016194500029087066, 0.00016176700592041016, 0.0001618109941482544, 0.00016194500029087066, 0.00016164100170135498]\n",
      "depth: [3.46762016415596e-05, 6.26664012670517e-05, 9.744270145893097e-05, 0.00011525099724531174, 0.0001223440021276474, 0.00012472700327634812, 0.00012641899287700654, 0.00012644800543785097, 0.0001264140009880066, 0.00012695500254631043, 0.00012654399871826172, 0.00012645700573921204, 0.00012689800560474395, 0.00012652799487113952, 0.0001264519989490509, 0.00012689800560474395, 0.00012652799487113952, 0.0001264519989490509, 0.00012689800560474395, 0.00012652799487113952, 0.0001264519989490509, 0.00012689800560474395, 0.00012652799487113952, 0.0001264519989490509, 0.00012689800560474395, 0.00012652799487113952, 0.0001264519989490509, 0.00012689800560474395, 0.00012652799487113952, 0.0001264519989490509, 0.00012689800560474395, 0.00012652799487113952, 0.0001264519989490509, 0.00012689800560474395, 0.00012652799487113952, 0.0001264519989490509, 0.00012689800560474395, 0.00012652799487113952, 0.0001264519989490509, 0.00012689800560474395, 0.00012637099623680114]\n",
      "reference_width: [0.0, 3.759409859776497e-05, 6.398320198059082e-05, 7.645659893751145e-05, 8.452139794826508e-05, 8.963420242071152e-05, 9.425149857997894e-05, 9.791799634695053e-05, 0.00010131300240755081, 0.00010380800068378448, 0.00010601600259542466, 0.00010769899934530258, 0.00010923299938440324, 0.0001102840006351471, 0.00011104299873113632, 0.00011172299832105637, 0.00011216700077056886, 0.0001124430000782013, 0.00011260200291872024, 0.0001126919984817505, 0.00011272600293159485, 0.0001127540022134781, 0.00011274900287389756, 0.00011275599896907807, 0.00011276300251483917, 0.00011275299638509751, 0.00011275699734687806, 0.00011276300251483917, 0.0001127540022134781, 0.00011275699734687806, 0.00011276300251483917, 0.0001127540022134781, 0.00011275699734687806, 0.00011276300251483917, 0.0001127540022134781, 0.00011275699734687806, 0.00011276300251483917, 0.0001127540022134781, 0.00011275699734687806, 0.00011276300251483917, 0.00011277499794960022]\n",
      "reference_depth: [0.0, 1.2666399590671064e-05, 4.744270071387291e-05, 6.52507022023201e-05, 7.234419882297516e-05, 7.472719997167587e-05, 7.641919702291488e-05, 7.644829899072648e-05, 7.64141008257866e-05, 7.69549012184143e-05, 7.65438973903656e-05, 7.64572024345398e-05, 7.689850032329559e-05, 7.652799785137177e-05, 7.645200192928314e-05, 7.689779996871949e-05, 7.6527900993824e-05, 7.645200192928314e-05, 7.689789682626724e-05, 7.6527900993824e-05, 7.645200192928314e-05, 7.689789682626724e-05, 7.6527900993824e-05, 7.645200192928314e-05, 7.689789682626724e-05, 7.6527900993824e-05, 7.645200192928314e-05, 7.689789682626724e-05, 7.6527900993824e-05, 7.645209878683091e-05, 7.689789682626724e-05, 7.6527900993824e-05, 7.645209878683091e-05, 7.689789682626724e-05, 7.652799785137177e-05, 7.645209878683091e-05, 7.689789682626724e-05, 7.652799785137177e-05, 7.645209878683091e-05, 7.689789682626724e-05, 7.637129724025726e-05]\n",
      "\n",
      "\n"
     ]
    }
   ],
   "source": [
    "print(result)\n",
    "\n",
    "# power 50 - 700\n",
    "# velocity .350 - 2.500\n",
    "# pv = []\n",
    "# for p in [50, 350, 700]:\n",
    "#   for v in [.35, 1.25, 2.5]:\n",
    "#     pv.append((p,v))\n",
    "# pv = [(350,1.25)]"
   ]
  },
  {
   "cell_type": "code",
   "execution_count": null,
   "id": "fb5c3d67-db9f-4e5d-a84d-111befac4464",
   "metadata": {},
   "outputs": [],
   "source": [
    "# results = []\n",
    "# with concurrent.futures.ThreadPoolExecutor(4) as executor:\n",
    "#     futures = []\n",
    "#     for x in pv:\n",
    "#         machine = AdditiveMachine.default_machine()\n",
    "#         machine.laser_power=x[0]\n",
    "#         machine.scan_speed=x[1] \n",
    "#         futures.append(executor.submit(additive.simulate_single_bead, machine=machine, material=material, bead_length=0.001, bead_type=BeadType.BEAD_ON_POWDER))\n",
    "#     for future in concurrent.futures.as_completed(futures):\n",
    "#         results.append(future.result())\n",
    "\n"
   ]
  },
  {
   "cell_type": "code",
   "execution_count": null,
   "id": "5b73a311-ea6d-4d1c-bd17-673a3bb21221",
   "metadata": {},
   "outputs": [],
   "source": [
    "print(result)\n",
    "# results.sort(key=lambda r : (r.machine.laser_power, r.machine.scan_speed))\n",
    "# # for r in range(len(results)):\n",
    "# #     print(\"power \" + str(results[r].machine.laser_power) + \", scan speed \" + str(results[r].machine.scan_speed))\n",
    "# # plt.style.use('_mpl-gallery')\n",
    "# # #fig, ax = plt.subplots(figsize=(5, 2.7), layout='constrained')\n",
    "# nrows = 3\n",
    "# ncols = 3\n",
    "# fig, axs = plt.subplots(nrows, ncols, figsize=(15, 15), layout='constrained')\n",
    "# for r in range(nrows):\n",
    "#     for c in range(ncols):\n",
    "#         i = r * nrows + c\n",
    "#         axs[r][c].plot(results[i].melt_pool.laser_x_mm, results[i].melt_pool.width_mm, label='width')\n",
    "#         axs[r][c].plot(results[i].melt_pool.laser_x_mm, results[i].melt_pool.reference_width_mm, label='ref width')\n",
    "#         axs[r][c].plot(results[i].melt_pool.laser_x_mm, results[i].melt_pool.depth_mm, label='depth')\n",
    "#         axs[r][c].plot(results[i].melt_pool.laser_x_mm, results[i].melt_pool.reference_depth_mm, label='ref depth')\n",
    "#         axs[r][c].plot(results[i].melt_pool.laser_x_mm, results[i].melt_pool.length_mm, label='length')\n",
    "#         axs[r][c].set_ylim(0, 1.1)\n",
    "#         axs[r][c].legend()\n",
    "#         axs[r][c].set_xlabel(f'Bead Length (mm)')  # Add an x-label to the axes.\n",
    "#         axs[r][c].set_ylabel(f'(mm)')  # Add a y-label to the axes.\n",
    "#         title = \"Power \" + str(results[i].machine.laser_power) + \"w, Scan Speed \" + str(results[i].machine.scan_speed) + \"m/s\"\n",
    "#         axs[r][c].set_title(title)  # Add a title to the axes."
   ]
  },
  {
   "cell_type": "code",
   "execution_count": null,
   "id": "ae5c9f3a-3923-446a-a61a-9159d211f5e1",
   "metadata": {},
   "outputs": [],
   "source": [
    "powers = []\n",
    "velocities = []\n",
    "dw = []\n",
    "lw = []\n",
    "\n",
    "for r in results:\n",
    "    m = r.melt_pool\n",
    "    m.ave_length = np.average(m.length_mm)\n",
    "    m.ave_width = np.average(m.width_mm)\n",
    "    m.ave_depth = np.average(m.depth_mm)\n",
    "    m.ave_reference_width = np.average(m.reference_width_mm)\n",
    "    m.ave_reference_depth = np.average(m.reference_depth_mm)\n",
    "    powers.append(r.machine.laser_power)\n",
    "    velocities.append(r.machine.scan_speed)\n",
    "    dw.append(m.ave_depth / m.ave_width if m.ave_width else 0)\n",
    "    lw.append(m.ave_length / m.ave_width if m.ave_width else 0)"
   ]
  },
  {
   "cell_type": "code",
   "execution_count": null,
   "id": "2e8e62eb-d7d3-48b6-ad7d-b633eef909d1",
   "metadata": {},
   "outputs": [],
   "source": [
    "from matplotlib.colors import LinearSegmentedColormap as colorMap\n",
    "\n",
    "dwMin=0.37\n",
    "dwMax=0.6\n",
    "contour_gradient = []  # Someday switch this to numpy\n",
    "marker_colors = []\n",
    "fig, ax = plt.subplots(1, 2, figsize=(20,10))\n",
    "for i in range(len(dw)):\n",
    "    if dwMin < dw[i] < dwMax:\n",
    "        contour_gradient.append(0)\n",
    "        marker_colors.append('blue')\n",
    "    else:\n",
    "        contour_gradient.append(abs(((dwMax + dwMin) / 2) - dw[i]))\n",
    "        marker_colors.append('black')\n",
    "    txt = \"{}\".format(round(dw[i], 2))\n",
    "    ax[0].annotate(str(txt), (velocities[i], powers[i] + 25), verticalalignment='top', horizontalalignment='center')\n",
    "\n",
    "colMap = colorMap.from_list(\"\", [\"green\", \"yellow\", \"red\", \"red\"])\n",
    "ax[0].tricontourf(velocities, powers, contour_gradient, cmap=colMap, levels=255)\n",
    "ax[0].scatter(velocities, powers, c=marker_colors, marker='d', s=100, facecolor='none')\n",
    "ax[0].use_sticky_edges = False\n",
    "ax[0].margins(0.075)\n",
    "ax[0].set_title('Melt Pool Depth/Width')\n",
    "ax[0].set_xlabel(f'Laser Scan Speed (m/s)')\n",
    "ax[0].set_ylabel(f'Laser Power (w)')\n",
    "\n",
    "lwMax = 3.5\n",
    "contour_gradient = []\n",
    "marker_colors = []\n",
    "colMap = ['#ff0000ff', '#ff6600dd', '#ffff0022', '#00000000']\n",
    "for i in range(len(lw)):\n",
    "    if lw[i] > lwMax:\n",
    "        contour_gradient.append(0)\n",
    "        marker_colors.append('blue')\n",
    "    else:\n",
    "        contour_gradient.append(abs(lwMax - lw[i]))\n",
    "        marker_colors.append('black')\n",
    "    txt = \"{}\".format(round(lw[i], 2))\n",
    "    ax[1].annotate(str(txt), (velocities[i], powers[i] + 25), verticalalignment='top', horizontalalignment='center')\n",
    "\n",
    "# cmap = colorMap.from_list(\"\", colMap)\n",
    "cmap = colorMap.from_list(\"\", [\"green\", \"yellow\", \"red\", \"red\"])\n",
    "ax[1].tricontourf(velocities, powers, contour_gradient, cmap=cmap, levels=255)\n",
    "ax[1].scatter(velocities, powers, c=marker_colors, marker='d', s=100, facecolor='none')\n",
    "ax[1].use_sticky_edges = False\n",
    "ax[1].margins(0.075)\n",
    "ax[1].set_title('Melt Pool Length/Width')\n",
    "ax[1].set_xlabel(f'Laser Scan Speed (m/s)')\n",
    "ax[1].set_ylabel(f'Laser Power (w)')\n",
    "\n",
    " "
   ]
  },
  {
   "cell_type": "code",
   "execution_count": null,
   "id": "cb5b3d30-191d-4998-8ce0-3b78ad7f969c",
   "metadata": {},
   "outputs": [],
   "source": []
  }
 ],
 "metadata": {
  "kernelspec": {
   "display_name": "Python 3.9.13 64-bit",
   "language": "python",
   "name": "python3"
  },
  "language_info": {
   "codemirror_mode": {
    "name": "ipython",
    "version": 3
   },
   "file_extension": ".py",
   "mimetype": "text/x-python",
   "name": "python",
   "nbconvert_exporter": "python",
   "pygments_lexer": "ipython3",
   "version": "3.9.13"
  },
  "vscode": {
   "interpreter": {
    "hash": "60d3e1bca0dde2a2628b0699112688e2485d3f2038664330ba8211873dc25d1f"
   }
  }
 },
 "nbformat": 4,
 "nbformat_minor": 5
}
