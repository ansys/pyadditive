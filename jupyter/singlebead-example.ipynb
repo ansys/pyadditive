{
 "cells": [
  {
   "cell_type": "code",
   "execution_count": 1,
   "id": "58bc003d-5c8a-4aca-824e-3405c6d28fcb",
   "metadata": {},
   "outputs": [],
   "source": [
    "import concurrent.futures\n",
    "import pyadditive.additive as pyadditive\n",
    "from pyadditive.additive_machine import AdditiveMachine\n",
    "from pyadditive.single_bead import (\n",
    "    BeadType,\n",
    ")\n",
    "import matplotlib.pyplot as plt\n",
    "import numpy as np"
   ]
  },
  {
   "cell_type": "code",
   "execution_count": 2,
   "id": "33b816ee-f123-44fb-8ff7-b61c7b5124a1",
   "metadata": {},
   "outputs": [
    {
     "name": "stderr",
     "output_type": "stream",
     "text": [
      "INFO:pyadditive.additive:Connected to localhost:50052\n"
     ]
    }
   ],
   "source": [
    "additive = pyadditive.launch_additive(ip='localhost', port=50052)"
   ]
  },
  {
   "cell_type": "code",
   "execution_count": 3,
   "id": "a08d04f7-366d-47c8-962e-ee2a28e71dcd",
   "metadata": {},
   "outputs": [
    {
     "ename": "TypeError",
     "evalue": "simulate_single_bead() takes from 2 to 3 positional arguments but 5 were given",
     "output_type": "error",
     "traceback": [
      "\u001b[1;31m---------------------------------------------------------------------------\u001b[0m",
      "\u001b[1;31mTypeError\u001b[0m                                 Traceback (most recent call last)",
      "\u001b[1;32mc:\\ANSYSDev\\NoBackup\\src\\additive-services\\Additive.Grpc.Client.Python\\singlebead-example.ipynb Cell 3\u001b[0m in \u001b[0;36m<cell line: 8>\u001b[1;34m()\u001b[0m\n\u001b[0;32m      <a href='vscode-notebook-cell:/c%3A/ANSYSDev/NoBackup/src/additive-services/Additive.Grpc.Client.Python/singlebead-example.ipynb#W2sZmlsZQ%3D%3D?line=5'>6</a>\u001b[0m machine\u001b[39m.\u001b[39mscan_speed \u001b[39m=\u001b[39m \u001b[39m1.25\u001b[39m\n\u001b[0;32m      <a href='vscode-notebook-cell:/c%3A/ANSYSDev/NoBackup/src/additive-services/Additive.Grpc.Client.Python/singlebead-example.ipynb#W2sZmlsZQ%3D%3D?line=6'>7</a>\u001b[0m machine\u001b[39m.\u001b[39mlaser_power \u001b[39m=\u001b[39m \u001b[39m350\u001b[39m\n\u001b[1;32m----> <a href='vscode-notebook-cell:/c%3A/ANSYSDev/NoBackup/src/additive-services/Additive.Grpc.Client.Python/singlebead-example.ipynb#W2sZmlsZQ%3D%3D?line=7'>8</a>\u001b[0m result \u001b[39m=\u001b[39m additive\u001b[39m.\u001b[39;49msimulate_single_bead(machine, material, \u001b[39m0.001\u001b[39;49m, BeadType\u001b[39m.\u001b[39;49mBEAD_ON_POWDER)\n",
      "\u001b[1;31mTypeError\u001b[0m: simulate_single_bead() takes from 2 to 3 positional arguments but 5 were given"
     ]
    }
   ],
   "source": [
    "# material_list = additive.get_materials_list()\n",
    "# print(material_list)\n",
    "\n",
    "material = additive.get_material('17-4PH')\n",
    "machine = AdditiveMachine.default();\n",
    "machine.scan_speed = 1.25\n",
    "machine.laser_power = 350\n",
    "result = additive.simulate_single_bead(machine, material, 0.001, BeadType.BEAD_ON_POWDER)    "
   ]
  },
  {
   "cell_type": "code",
   "execution_count": 4,
   "id": "cdc731fa-7e8f-437d-8bd9-65a878ac2010",
   "metadata": {},
   "outputs": [
    {
     "name": "stdout",
     "output_type": "stream",
     "text": [
      "SingleBeadResult\n",
      "material: 17-4PH\n",
      "melt_pool: <pyadditive.single_bead.MeltPool object at 0x0000024AABEB2FA0>\n",
      "bead_length: 0.001\n",
      "bead_type: BeadType.BEAD_ON_POWDER\n",
      "machine: AdditiveMachine\n",
      "laser_power: 350\n",
      "scan_speed: 1.25\n",
      "base_plate_temperature: 80\n",
      "layer_thickness: 5e-05\n",
      "beam_diameter: 0.0001\n",
      "starting_layer_angle: 57\n",
      "layer_rotation_angle: 67\n",
      "hatch_spacing: 0.0001\n",
      "slicing_stripe_width: 0.01\n",
      "\n",
      "\n"
     ]
    }
   ],
   "source": [
    "print(result)\n",
    "\n",
    "# power 50 - 700\n",
    "# velocity .350 - 2.500\n",
    "# pv = []\n",
    "# for p in [50, 350, 700]:\n",
    "#   for v in [.35, 1.25, 2.5]:\n",
    "#     pv.append((p,v))\n",
    "# pv = [(350,1.25)]"
   ]
  },
  {
   "cell_type": "code",
   "execution_count": null,
   "id": "fb5c3d67-db9f-4e5d-a84d-111befac4464",
   "metadata": {},
   "outputs": [],
   "source": [
    "# results = []\n",
    "# with concurrent.futures.ThreadPoolExecutor(4) as executor:\n",
    "#     futures = []\n",
    "#     for x in pv:\n",
    "#         machine = AdditiveMachine.default_machine()\n",
    "#         machine.laser_power=x[0]\n",
    "#         machine.scan_speed=x[1] \n",
    "#         futures.append(executor.submit(additive.simulate_single_bead, machine=machine, material=material, bead_length=0.001, bead_type=BeadType.BEAD_ON_POWDER))\n",
    "#     for future in concurrent.futures.as_completed(futures):\n",
    "#         results.append(future.result())\n",
    "\n"
   ]
  },
  {
   "cell_type": "code",
   "execution_count": null,
   "id": "5b73a311-ea6d-4d1c-bd17-673a3bb21221",
   "metadata": {},
   "outputs": [],
   "source": [
    "print(result)\n",
    "# results.sort(key=lambda r : (r.machine.laser_power, r.machine.scan_speed))\n",
    "# # for r in range(len(results)):\n",
    "# #     print(\"power \" + str(results[r].machine.laser_power) + \", scan speed \" + str(results[r].machine.scan_speed))\n",
    "# # plt.style.use('_mpl-gallery')\n",
    "# # #fig, ax = plt.subplots(figsize=(5, 2.7), layout='constrained')\n",
    "# nrows = 3\n",
    "# ncols = 3\n",
    "# fig, axs = plt.subplots(nrows, ncols, figsize=(15, 15), layout='constrained')\n",
    "# for r in range(nrows):\n",
    "#     for c in range(ncols):\n",
    "#         i = r * nrows + c\n",
    "#         axs[r][c].plot(results[i].melt_pool.laser_x_mm, results[i].melt_pool.width_mm, label='width')\n",
    "#         axs[r][c].plot(results[i].melt_pool.laser_x_mm, results[i].melt_pool.reference_width_mm, label='ref width')\n",
    "#         axs[r][c].plot(results[i].melt_pool.laser_x_mm, results[i].melt_pool.depth_mm, label='depth')\n",
    "#         axs[r][c].plot(results[i].melt_pool.laser_x_mm, results[i].melt_pool.reference_depth_mm, label='ref depth')\n",
    "#         axs[r][c].plot(results[i].melt_pool.laser_x_mm, results[i].melt_pool.length_mm, label='length')\n",
    "#         axs[r][c].set_ylim(0, 1.1)\n",
    "#         axs[r][c].legend()\n",
    "#         axs[r][c].set_xlabel(f'Bead Length (mm)')  # Add an x-label to the axes.\n",
    "#         axs[r][c].set_ylabel(f'(mm)')  # Add a y-label to the axes.\n",
    "#         title = \"Power \" + str(results[i].machine.laser_power) + \"w, Scan Speed \" + str(results[i].machine.scan_speed) + \"m/s\"\n",
    "#         axs[r][c].set_title(title)  # Add a title to the axes."
   ]
  },
  {
   "cell_type": "code",
   "execution_count": null,
   "id": "ae5c9f3a-3923-446a-a61a-9159d211f5e1",
   "metadata": {},
   "outputs": [],
   "source": [
    "powers = []\n",
    "velocities = []\n",
    "dw = []\n",
    "lw = []\n",
    "\n",
    "for r in results:\n",
    "    m = r.melt_pool\n",
    "    m.ave_length = np.average(m.length_mm)\n",
    "    m.ave_width = np.average(m.width_mm)\n",
    "    m.ave_depth = np.average(m.depth_mm)\n",
    "    m.ave_reference_width = np.average(m.reference_width_mm)\n",
    "    m.ave_reference_depth = np.average(m.reference_depth_mm)\n",
    "    powers.append(r.machine.laser_power)\n",
    "    velocities.append(r.machine.scan_speed)\n",
    "    dw.append(m.ave_depth / m.ave_width if m.ave_width else 0)\n",
    "    lw.append(m.ave_length / m.ave_width if m.ave_width else 0)"
   ]
  },
  {
   "cell_type": "code",
   "execution_count": null,
   "id": "2e8e62eb-d7d3-48b6-ad7d-b633eef909d1",
   "metadata": {},
   "outputs": [],
   "source": [
    "from matplotlib.colors import LinearSegmentedColormap as colorMap\n",
    "\n",
    "dwMin=0.37\n",
    "dwMax=0.6\n",
    "contour_gradient = []  # Someday switch this to numpy\n",
    "marker_colors = []\n",
    "fig, ax = plt.subplots(1, 2, figsize=(20,10))\n",
    "for i in range(len(dw)):\n",
    "    if dwMin < dw[i] < dwMax:\n",
    "        contour_gradient.append(0)\n",
    "        marker_colors.append('blue')\n",
    "    else:\n",
    "        contour_gradient.append(abs(((dwMax + dwMin) / 2) - dw[i]))\n",
    "        marker_colors.append('black')\n",
    "    txt = \"{}\".format(round(dw[i], 2))\n",
    "    ax[0].annotate(str(txt), (velocities[i], powers[i] + 25), verticalalignment='top', horizontalalignment='center')\n",
    "\n",
    "colMap = colorMap.from_list(\"\", [\"green\", \"yellow\", \"red\", \"red\"])\n",
    "ax[0].tricontourf(velocities, powers, contour_gradient, cmap=colMap, levels=255)\n",
    "ax[0].scatter(velocities, powers, c=marker_colors, marker='d', s=100, facecolor='none')\n",
    "ax[0].use_sticky_edges = False\n",
    "ax[0].margins(0.075)\n",
    "ax[0].set_title('Melt Pool Depth/Width')\n",
    "ax[0].set_xlabel(f'Laser Scan Speed (m/s)')\n",
    "ax[0].set_ylabel(f'Laser Power (w)')\n",
    "\n",
    "lwMax = 3.5\n",
    "contour_gradient = []\n",
    "marker_colors = []\n",
    "colMap = ['#ff0000ff', '#ff6600dd', '#ffff0022', '#00000000']\n",
    "for i in range(len(lw)):\n",
    "    if lw[i] > lwMax:\n",
    "        contour_gradient.append(0)\n",
    "        marker_colors.append('blue')\n",
    "    else:\n",
    "        contour_gradient.append(abs(lwMax - lw[i]))\n",
    "        marker_colors.append('black')\n",
    "    txt = \"{}\".format(round(lw[i], 2))\n",
    "    ax[1].annotate(str(txt), (velocities[i], powers[i] + 25), verticalalignment='top', horizontalalignment='center')\n",
    "\n",
    "# cmap = colorMap.from_list(\"\", colMap)\n",
    "cmap = colorMap.from_list(\"\", [\"green\", \"yellow\", \"red\", \"red\"])\n",
    "ax[1].tricontourf(velocities, powers, contour_gradient, cmap=cmap, levels=255)\n",
    "ax[1].scatter(velocities, powers, c=marker_colors, marker='d', s=100, facecolor='none')\n",
    "ax[1].use_sticky_edges = False\n",
    "ax[1].margins(0.075)\n",
    "ax[1].set_title('Melt Pool Length/Width')\n",
    "ax[1].set_xlabel(f'Laser Scan Speed (m/s)')\n",
    "ax[1].set_ylabel(f'Laser Power (w)')\n",
    "\n",
    " "
   ]
  },
  {
   "cell_type": "code",
   "execution_count": null,
   "id": "cb5b3d30-191d-4998-8ce0-3b78ad7f969c",
   "metadata": {},
   "outputs": [],
   "source": []
  }
 ],
 "metadata": {
  "kernelspec": {
   "display_name": "Python 3.9.13 64-bit",
   "language": "python",
   "name": "python3"
  },
  "language_info": {
   "codemirror_mode": {
    "name": "ipython",
    "version": 3
   },
   "file_extension": ".py",
   "mimetype": "text/x-python",
   "name": "python",
   "nbconvert_exporter": "python",
   "pygments_lexer": "ipython3",
   "version": "3.9.13"
  },
  "vscode": {
   "interpreter": {
    "hash": "60d3e1bca0dde2a2628b0699112688e2485d3f2038664330ba8211873dc25d1f"
   }
  }
 },
 "nbformat": 4,
 "nbformat_minor": 5
}
